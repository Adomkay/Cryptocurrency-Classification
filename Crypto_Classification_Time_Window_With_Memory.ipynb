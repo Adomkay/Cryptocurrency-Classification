{
 "cells": [
  {
   "cell_type": "markdown",
   "metadata": {},
   "source": [
    "# Classification Using Time Window with Memory"
   ]
  },
  {
   "cell_type": "code",
   "execution_count": 17,
   "metadata": {},
   "outputs": [],
   "source": [
    "import pandas as pd\n",
    "import numpy as np\n",
    "np.random.seed(0)\n",
    "import statsmodels as sm\n",
    "import matplotlib.pyplot as plt\n",
    "% matplotlib inline\n",
    "import sklearn.preprocessing as preprocessing\n",
    "from sklearn.cross_validation import train_test_split\n",
    "import sklearn.metrics as metrics\n",
    "import seaborn as sns \n",
    "import pickle\n",
    "from keras.models import Sequential, load_model\n",
    "from keras.layers import Dense, Dropout\n",
    "from keras.layers import LSTM\n",
    "from keras.callbacks import ModelCheckpoint, EarlyStopping, ReduceLROnPlateau, CSVLogger\n",
    "from keras import optimizers\n",
    "from sklearn.preprocessing import MinMaxScaler\n",
    "from sklearn.model_selection import train_test_split\n",
    "from sklearn.metrics import mean_squared_error\n",
    "from sklearn.linear_model import LogisticRegression\n",
    "from sklearn.metrics import roc_curve, auc\n",
    "from sklearn.metrics import confusion_matrix\n",
    "from imblearn.over_sampling import SMOTE, ADASYN\n",
    "from sklearn import preprocessing\n",
    "import pandas.tseries\n",
    "import statsmodels.api as sm\n",
    "from statsmodels.tsa.stattools import adfuller\n",
    "from pandas import Series"
   ]
  },
  {
   "cell_type": "code",
   "execution_count": 2,
   "metadata": {},
   "outputs": [
    {
     "data": {
      "text/html": [
       "<div>\n",
       "<style scoped>\n",
       "    .dataframe tbody tr th:only-of-type {\n",
       "        vertical-align: middle;\n",
       "    }\n",
       "\n",
       "    .dataframe tbody tr th {\n",
       "        vertical-align: top;\n",
       "    }\n",
       "\n",
       "    .dataframe thead th {\n",
       "        text-align: right;\n",
       "    }\n",
       "</style>\n",
       "<table border=\"1\" class=\"dataframe\">\n",
       "  <thead>\n",
       "    <tr style=\"text-align: right;\">\n",
       "      <th></th>\n",
       "      <th>Unnamed: 0</th>\n",
       "      <th>Date</th>\n",
       "      <th>Open</th>\n",
       "      <th>Close</th>\n",
       "      <th>High</th>\n",
       "      <th>Low</th>\n",
       "      <th>Trades</th>\n",
       "      <th>Volume</th>\n",
       "      <th>Y</th>\n",
       "    </tr>\n",
       "  </thead>\n",
       "  <tbody>\n",
       "    <tr>\n",
       "      <th>0</th>\n",
       "      <td>0</td>\n",
       "      <td>2018-01-01T00:00:00.000Z</td>\n",
       "      <td>13838.5</td>\n",
       "      <td>13873.0</td>\n",
       "      <td>13961.0</td>\n",
       "      <td>13838.0</td>\n",
       "      <td>958</td>\n",
       "      <td>2041363</td>\n",
       "      <td>0</td>\n",
       "    </tr>\n",
       "    <tr>\n",
       "      <th>1</th>\n",
       "      <td>1</td>\n",
       "      <td>2018-01-01T00:05:00.000Z</td>\n",
       "      <td>13873.0</td>\n",
       "      <td>13800.0</td>\n",
       "      <td>13920.0</td>\n",
       "      <td>13800.0</td>\n",
       "      <td>1151</td>\n",
       "      <td>2595550</td>\n",
       "      <td>0</td>\n",
       "    </tr>\n",
       "    <tr>\n",
       "      <th>2</th>\n",
       "      <td>2</td>\n",
       "      <td>2018-01-01T00:10:00.000Z</td>\n",
       "      <td>13800.0</td>\n",
       "      <td>13771.5</td>\n",
       "      <td>13800.5</td>\n",
       "      <td>13675.0</td>\n",
       "      <td>1859</td>\n",
       "      <td>5809735</td>\n",
       "      <td>0</td>\n",
       "    </tr>\n",
       "    <tr>\n",
       "      <th>3</th>\n",
       "      <td>3</td>\n",
       "      <td>2018-01-01T00:15:00.000Z</td>\n",
       "      <td>13771.5</td>\n",
       "      <td>13769.0</td>\n",
       "      <td>13795.0</td>\n",
       "      <td>13711.0</td>\n",
       "      <td>861</td>\n",
       "      <td>1816360</td>\n",
       "      <td>0</td>\n",
       "    </tr>\n",
       "    <tr>\n",
       "      <th>4</th>\n",
       "      <td>4</td>\n",
       "      <td>2018-01-01T00:20:00.000Z</td>\n",
       "      <td>13769.0</td>\n",
       "      <td>13702.0</td>\n",
       "      <td>13775.5</td>\n",
       "      <td>13596.0</td>\n",
       "      <td>1235</td>\n",
       "      <td>4967912</td>\n",
       "      <td>0</td>\n",
       "    </tr>\n",
       "  </tbody>\n",
       "</table>\n",
       "</div>"
      ],
      "text/plain": [
       "   Unnamed: 0                      Date     Open    Close     High      Low  \\\n",
       "0           0  2018-01-01T00:00:00.000Z  13838.5  13873.0  13961.0  13838.0   \n",
       "1           1  2018-01-01T00:05:00.000Z  13873.0  13800.0  13920.0  13800.0   \n",
       "2           2  2018-01-01T00:10:00.000Z  13800.0  13771.5  13800.5  13675.0   \n",
       "3           3  2018-01-01T00:15:00.000Z  13771.5  13769.0  13795.0  13711.0   \n",
       "4           4  2018-01-01T00:20:00.000Z  13769.0  13702.0  13775.5  13596.0   \n",
       "\n",
       "   Trades   Volume  Y  \n",
       "0     958  2041363  0  \n",
       "1    1151  2595550  0  \n",
       "2    1859  5809735  0  \n",
       "3     861  1816360  0  \n",
       "4    1235  4967912  0  "
      ]
     },
     "execution_count": 2,
     "metadata": {},
     "output_type": "execute_result"
    }
   ],
   "source": [
    "#Read in crypto currency data into a pandas dataframe\n",
    "ticker_df = pd.read_csv('bitmex_BTCUSD_candles_5m_price_2.csv.gz')\n",
    "ticker_df.head()"
   ]
  },
  {
   "cell_type": "code",
   "execution_count": 3,
   "metadata": {
    "scrolled": true
   },
   "outputs": [
    {
     "data": {
      "text/html": [
       "<div>\n",
       "<style scoped>\n",
       "    .dataframe tbody tr th:only-of-type {\n",
       "        vertical-align: middle;\n",
       "    }\n",
       "\n",
       "    .dataframe tbody tr th {\n",
       "        vertical-align: top;\n",
       "    }\n",
       "\n",
       "    .dataframe thead th {\n",
       "        text-align: right;\n",
       "    }\n",
       "</style>\n",
       "<table border=\"1\" class=\"dataframe\">\n",
       "  <thead>\n",
       "    <tr style=\"text-align: right;\">\n",
       "      <th></th>\n",
       "      <th>Unnamed: 0</th>\n",
       "      <th>Open</th>\n",
       "      <th>Close</th>\n",
       "      <th>High</th>\n",
       "      <th>Low</th>\n",
       "      <th>Trades</th>\n",
       "      <th>Volume</th>\n",
       "      <th>Y</th>\n",
       "    </tr>\n",
       "  </thead>\n",
       "  <tbody>\n",
       "    <tr>\n",
       "      <th>count</th>\n",
       "      <td>192212.000000</td>\n",
       "      <td>192212.000000</td>\n",
       "      <td>192212.000000</td>\n",
       "      <td>192212.000000</td>\n",
       "      <td>192212.000000</td>\n",
       "      <td>192212.000000</td>\n",
       "      <td>1.922120e+05</td>\n",
       "      <td>192212.000000</td>\n",
       "    </tr>\n",
       "    <tr>\n",
       "      <th>mean</th>\n",
       "      <td>96105.500000</td>\n",
       "      <td>7401.913192</td>\n",
       "      <td>7401.889247</td>\n",
       "      <td>7412.207854</td>\n",
       "      <td>7391.249123</td>\n",
       "      <td>1944.652425</td>\n",
       "      <td>8.578252e+06</td>\n",
       "      <td>0.534998</td>\n",
       "    </tr>\n",
       "    <tr>\n",
       "      <th>std</th>\n",
       "      <td>55486.969308</td>\n",
       "      <td>2635.049532</td>\n",
       "      <td>2635.011953</td>\n",
       "      <td>2642.212963</td>\n",
       "      <td>2627.488476</td>\n",
       "      <td>2015.694428</td>\n",
       "      <td>1.277001e+07</td>\n",
       "      <td>0.498775</td>\n",
       "    </tr>\n",
       "    <tr>\n",
       "      <th>min</th>\n",
       "      <td>0.000000</td>\n",
       "      <td>3129.500000</td>\n",
       "      <td>3129.500000</td>\n",
       "      <td>3137.000000</td>\n",
       "      <td>3121.000000</td>\n",
       "      <td>0.000000</td>\n",
       "      <td>0.000000e+00</td>\n",
       "      <td>0.000000</td>\n",
       "    </tr>\n",
       "    <tr>\n",
       "      <th>25%</th>\n",
       "      <td>48052.750000</td>\n",
       "      <td>5529.500000</td>\n",
       "      <td>5529.500000</td>\n",
       "      <td>5534.000000</td>\n",
       "      <td>5525.500000</td>\n",
       "      <td>738.000000</td>\n",
       "      <td>2.245409e+06</td>\n",
       "      <td>0.000000</td>\n",
       "    </tr>\n",
       "    <tr>\n",
       "      <th>50%</th>\n",
       "      <td>96105.500000</td>\n",
       "      <td>7282.500000</td>\n",
       "      <td>7282.500000</td>\n",
       "      <td>7291.000000</td>\n",
       "      <td>7274.500000</td>\n",
       "      <td>1367.000000</td>\n",
       "      <td>4.771472e+06</td>\n",
       "      <td>1.000000</td>\n",
       "    </tr>\n",
       "    <tr>\n",
       "      <th>75%</th>\n",
       "      <td>144158.250000</td>\n",
       "      <td>9255.000000</td>\n",
       "      <td>9255.000000</td>\n",
       "      <td>9270.000000</td>\n",
       "      <td>9242.000000</td>\n",
       "      <td>2406.000000</td>\n",
       "      <td>9.820680e+06</td>\n",
       "      <td>1.000000</td>\n",
       "    </tr>\n",
       "    <tr>\n",
       "      <th>max</th>\n",
       "      <td>192211.000000</td>\n",
       "      <td>17412.000000</td>\n",
       "      <td>17412.000000</td>\n",
       "      <td>17422.000000</td>\n",
       "      <td>17242.000000</td>\n",
       "      <td>38740.000000</td>\n",
       "      <td>3.369836e+08</td>\n",
       "      <td>1.000000</td>\n",
       "    </tr>\n",
       "  </tbody>\n",
       "</table>\n",
       "</div>"
      ],
      "text/plain": [
       "          Unnamed: 0           Open          Close           High  \\\n",
       "count  192212.000000  192212.000000  192212.000000  192212.000000   \n",
       "mean    96105.500000    7401.913192    7401.889247    7412.207854   \n",
       "std     55486.969308    2635.049532    2635.011953    2642.212963   \n",
       "min         0.000000    3129.500000    3129.500000    3137.000000   \n",
       "25%     48052.750000    5529.500000    5529.500000    5534.000000   \n",
       "50%     96105.500000    7282.500000    7282.500000    7291.000000   \n",
       "75%    144158.250000    9255.000000    9255.000000    9270.000000   \n",
       "max    192211.000000   17412.000000   17412.000000   17422.000000   \n",
       "\n",
       "                 Low         Trades        Volume              Y  \n",
       "count  192212.000000  192212.000000  1.922120e+05  192212.000000  \n",
       "mean     7391.249123    1944.652425  8.578252e+06       0.534998  \n",
       "std      2627.488476    2015.694428  1.277001e+07       0.498775  \n",
       "min      3121.000000       0.000000  0.000000e+00       0.000000  \n",
       "25%      5525.500000     738.000000  2.245409e+06       0.000000  \n",
       "50%      7274.500000    1367.000000  4.771472e+06       1.000000  \n",
       "75%      9242.000000    2406.000000  9.820680e+06       1.000000  \n",
       "max     17242.000000   38740.000000  3.369836e+08       1.000000  "
      ]
     },
     "execution_count": 3,
     "metadata": {},
     "output_type": "execute_result"
    }
   ],
   "source": [
    "#get general description of dataset\n",
    "ticker_df.describe()"
   ]
  },
  {
   "cell_type": "code",
   "execution_count": 4,
   "metadata": {
    "scrolled": true
   },
   "outputs": [
    {
     "data": {
      "text/html": [
       "<div>\n",
       "<style scoped>\n",
       "    .dataframe tbody tr th:only-of-type {\n",
       "        vertical-align: middle;\n",
       "    }\n",
       "\n",
       "    .dataframe tbody tr th {\n",
       "        vertical-align: top;\n",
       "    }\n",
       "\n",
       "    .dataframe thead th {\n",
       "        text-align: right;\n",
       "    }\n",
       "</style>\n",
       "<table border=\"1\" class=\"dataframe\">\n",
       "  <thead>\n",
       "    <tr style=\"text-align: right;\">\n",
       "      <th></th>\n",
       "      <th>Unnamed: 0</th>\n",
       "      <th>Open</th>\n",
       "      <th>Close</th>\n",
       "      <th>High</th>\n",
       "      <th>Low</th>\n",
       "      <th>Trades</th>\n",
       "      <th>Volume</th>\n",
       "      <th>Y</th>\n",
       "    </tr>\n",
       "  </thead>\n",
       "  <tbody>\n",
       "    <tr>\n",
       "      <th>Unnamed: 0</th>\n",
       "      <td>1.000000</td>\n",
       "      <td>-0.089199</td>\n",
       "      <td>-0.089172</td>\n",
       "      <td>-0.090224</td>\n",
       "      <td>-0.088216</td>\n",
       "      <td>0.210293</td>\n",
       "      <td>0.070957</td>\n",
       "      <td>0.005820</td>\n",
       "    </tr>\n",
       "    <tr>\n",
       "      <th>Open</th>\n",
       "      <td>-0.089199</td>\n",
       "      <td>1.000000</td>\n",
       "      <td>0.999958</td>\n",
       "      <td>0.999971</td>\n",
       "      <td>0.999966</td>\n",
       "      <td>0.157322</td>\n",
       "      <td>0.158251</td>\n",
       "      <td>-0.050264</td>\n",
       "    </tr>\n",
       "    <tr>\n",
       "      <th>Close</th>\n",
       "      <td>-0.089172</td>\n",
       "      <td>0.999958</td>\n",
       "      <td>1.000000</td>\n",
       "      <td>0.999975</td>\n",
       "      <td>0.999975</td>\n",
       "      <td>0.157081</td>\n",
       "      <td>0.157802</td>\n",
       "      <td>-0.050735</td>\n",
       "    </tr>\n",
       "    <tr>\n",
       "      <th>High</th>\n",
       "      <td>-0.090224</td>\n",
       "      <td>0.999971</td>\n",
       "      <td>0.999975</td>\n",
       "      <td>1.000000</td>\n",
       "      <td>0.999942</td>\n",
       "      <td>0.159907</td>\n",
       "      <td>0.160905</td>\n",
       "      <td>-0.050594</td>\n",
       "    </tr>\n",
       "    <tr>\n",
       "      <th>Low</th>\n",
       "      <td>-0.088216</td>\n",
       "      <td>0.999966</td>\n",
       "      <td>0.999975</td>\n",
       "      <td>0.999942</td>\n",
       "      <td>1.000000</td>\n",
       "      <td>0.154089</td>\n",
       "      <td>0.154627</td>\n",
       "      <td>-0.050492</td>\n",
       "    </tr>\n",
       "    <tr>\n",
       "      <th>Trades</th>\n",
       "      <td>0.210293</td>\n",
       "      <td>0.157322</td>\n",
       "      <td>0.157081</td>\n",
       "      <td>0.159907</td>\n",
       "      <td>0.154089</td>\n",
       "      <td>1.000000</td>\n",
       "      <td>0.921336</td>\n",
       "      <td>-0.033592</td>\n",
       "    </tr>\n",
       "    <tr>\n",
       "      <th>Volume</th>\n",
       "      <td>0.070957</td>\n",
       "      <td>0.158251</td>\n",
       "      <td>0.157802</td>\n",
       "      <td>0.160905</td>\n",
       "      <td>0.154627</td>\n",
       "      <td>0.921336</td>\n",
       "      <td>1.000000</td>\n",
       "      <td>-0.025094</td>\n",
       "    </tr>\n",
       "    <tr>\n",
       "      <th>Y</th>\n",
       "      <td>0.005820</td>\n",
       "      <td>-0.050264</td>\n",
       "      <td>-0.050735</td>\n",
       "      <td>-0.050594</td>\n",
       "      <td>-0.050492</td>\n",
       "      <td>-0.033592</td>\n",
       "      <td>-0.025094</td>\n",
       "      <td>1.000000</td>\n",
       "    </tr>\n",
       "  </tbody>\n",
       "</table>\n",
       "</div>"
      ],
      "text/plain": [
       "            Unnamed: 0      Open     Close      High       Low    Trades  \\\n",
       "Unnamed: 0    1.000000 -0.089199 -0.089172 -0.090224 -0.088216  0.210293   \n",
       "Open         -0.089199  1.000000  0.999958  0.999971  0.999966  0.157322   \n",
       "Close        -0.089172  0.999958  1.000000  0.999975  0.999975  0.157081   \n",
       "High         -0.090224  0.999971  0.999975  1.000000  0.999942  0.159907   \n",
       "Low          -0.088216  0.999966  0.999975  0.999942  1.000000  0.154089   \n",
       "Trades        0.210293  0.157322  0.157081  0.159907  0.154089  1.000000   \n",
       "Volume        0.070957  0.158251  0.157802  0.160905  0.154627  0.921336   \n",
       "Y             0.005820 -0.050264 -0.050735 -0.050594 -0.050492 -0.033592   \n",
       "\n",
       "              Volume         Y  \n",
       "Unnamed: 0  0.070957  0.005820  \n",
       "Open        0.158251 -0.050264  \n",
       "Close       0.157802 -0.050735  \n",
       "High        0.160905 -0.050594  \n",
       "Low         0.154627 -0.050492  \n",
       "Trades      0.921336 -0.033592  \n",
       "Volume      1.000000 -0.025094  \n",
       "Y          -0.025094  1.000000  "
      ]
     },
     "execution_count": 4,
     "metadata": {},
     "output_type": "execute_result"
    }
   ],
   "source": [
    "#check for correlations between variables\n",
    "corr_df = ticker_df.corr()\n",
    "corr_df"
   ]
  },
  {
   "cell_type": "code",
   "execution_count": 5,
   "metadata": {
    "scrolled": true
   },
   "outputs": [
    {
     "data": {
      "text/html": [
       "<div>\n",
       "<style scoped>\n",
       "    .dataframe tbody tr th:only-of-type {\n",
       "        vertical-align: middle;\n",
       "    }\n",
       "\n",
       "    .dataframe tbody tr th {\n",
       "        vertical-align: top;\n",
       "    }\n",
       "\n",
       "    .dataframe thead th {\n",
       "        text-align: right;\n",
       "    }\n",
       "</style>\n",
       "<table border=\"1\" class=\"dataframe\">\n",
       "  <thead>\n",
       "    <tr style=\"text-align: right;\">\n",
       "      <th></th>\n",
       "      <th>Date</th>\n",
       "      <th>Open</th>\n",
       "      <th>Close</th>\n",
       "      <th>High</th>\n",
       "      <th>Low</th>\n",
       "      <th>Trades</th>\n",
       "      <th>Volume</th>\n",
       "      <th>Y</th>\n",
       "    </tr>\n",
       "  </thead>\n",
       "  <tbody>\n",
       "    <tr>\n",
       "      <th>0</th>\n",
       "      <td>2018-01-01T00:00:00.000Z</td>\n",
       "      <td>13838.5</td>\n",
       "      <td>13873.0</td>\n",
       "      <td>13961.0</td>\n",
       "      <td>13838.0</td>\n",
       "      <td>958</td>\n",
       "      <td>2041363</td>\n",
       "      <td>0</td>\n",
       "    </tr>\n",
       "    <tr>\n",
       "      <th>1</th>\n",
       "      <td>2018-01-01T00:05:00.000Z</td>\n",
       "      <td>13873.0</td>\n",
       "      <td>13800.0</td>\n",
       "      <td>13920.0</td>\n",
       "      <td>13800.0</td>\n",
       "      <td>1151</td>\n",
       "      <td>2595550</td>\n",
       "      <td>0</td>\n",
       "    </tr>\n",
       "    <tr>\n",
       "      <th>2</th>\n",
       "      <td>2018-01-01T00:10:00.000Z</td>\n",
       "      <td>13800.0</td>\n",
       "      <td>13771.5</td>\n",
       "      <td>13800.5</td>\n",
       "      <td>13675.0</td>\n",
       "      <td>1859</td>\n",
       "      <td>5809735</td>\n",
       "      <td>0</td>\n",
       "    </tr>\n",
       "    <tr>\n",
       "      <th>3</th>\n",
       "      <td>2018-01-01T00:15:00.000Z</td>\n",
       "      <td>13771.5</td>\n",
       "      <td>13769.0</td>\n",
       "      <td>13795.0</td>\n",
       "      <td>13711.0</td>\n",
       "      <td>861</td>\n",
       "      <td>1816360</td>\n",
       "      <td>0</td>\n",
       "    </tr>\n",
       "    <tr>\n",
       "      <th>4</th>\n",
       "      <td>2018-01-01T00:20:00.000Z</td>\n",
       "      <td>13769.0</td>\n",
       "      <td>13702.0</td>\n",
       "      <td>13775.5</td>\n",
       "      <td>13596.0</td>\n",
       "      <td>1235</td>\n",
       "      <td>4967912</td>\n",
       "      <td>0</td>\n",
       "    </tr>\n",
       "  </tbody>\n",
       "</table>\n",
       "</div>"
      ],
      "text/plain": [
       "                       Date     Open    Close     High      Low  Trades  \\\n",
       "0  2018-01-01T00:00:00.000Z  13838.5  13873.0  13961.0  13838.0     958   \n",
       "1  2018-01-01T00:05:00.000Z  13873.0  13800.0  13920.0  13800.0    1151   \n",
       "2  2018-01-01T00:10:00.000Z  13800.0  13771.5  13800.5  13675.0    1859   \n",
       "3  2018-01-01T00:15:00.000Z  13771.5  13769.0  13795.0  13711.0     861   \n",
       "4  2018-01-01T00:20:00.000Z  13769.0  13702.0  13775.5  13596.0    1235   \n",
       "\n",
       "    Volume  Y  \n",
       "0  2041363  0  \n",
       "1  2595550  0  \n",
       "2  5809735  0  \n",
       "3  1816360  0  \n",
       "4  4967912  0  "
      ]
     },
     "execution_count": 5,
     "metadata": {},
     "output_type": "execute_result"
    }
   ],
   "source": [
    "#drop unnamed column\n",
    "ticker_df.drop(\"Unnamed: 0\", inplace = True, axis = 1)\n",
    "ticker_df.head()"
   ]
  },
  {
   "cell_type": "code",
   "execution_count": 6,
   "metadata": {},
   "outputs": [],
   "source": [
    "#Change Date column datatype to timestamp\n",
    "ticker_df['Date'] = pd.to_datetime(ticker_df['Date'], infer_datetime_format=True)"
   ]
  },
  {
   "cell_type": "code",
   "execution_count": 7,
   "metadata": {
    "scrolled": true
   },
   "outputs": [
    {
     "data": {
      "text/plain": [
       "DatetimeIndex(['2018-01-01 00:00:00', '2018-01-01 00:05:00',\n",
       "               '2018-01-01 00:10:00', '2018-01-01 00:15:00',\n",
       "               '2018-01-01 00:20:00', '2018-01-01 00:25:00',\n",
       "               '2018-01-01 00:30:00', '2018-01-01 00:35:00',\n",
       "               '2018-01-01 00:40:00', '2018-01-01 00:45:00',\n",
       "               ...\n",
       "               '2019-10-30 08:50:00', '2019-10-30 08:55:00',\n",
       "               '2019-10-30 09:00:00', '2019-10-30 09:05:00',\n",
       "               '2019-10-30 09:10:00', '2019-10-30 09:15:00',\n",
       "               '2019-10-30 09:20:00', '2019-10-30 09:25:00',\n",
       "               '2019-10-30 09:30:00', '2019-10-30 09:35:00'],\n",
       "              dtype='datetime64[ns]', name='Date', length=192212, freq=None)"
      ]
     },
     "execution_count": 7,
     "metadata": {},
     "output_type": "execute_result"
    }
   ],
   "source": [
    "#set dataframe index to the Date column\n",
    "ticker_df.set_index('Date', inplace = True)\n",
    "ticker_df.index"
   ]
  },
  {
   "cell_type": "code",
   "execution_count": 8,
   "metadata": {
    "scrolled": false
   },
   "outputs": [
    {
     "data": {
      "image/png": "[encoded data removed]",
      "text/plain": [
       "<Figure size 1080x720 with 1 Axes>"
      ]
     },
     "metadata": {},
     "output_type": "display_data"
    }
   ],
   "source": [
    "plt.figure(figsize=(15,10))\n",
    "plt.plot(ticker_df[\"Close\"])\n",
    "plt.title('bitmex_BTCUSD_candles_5m_price_history')\n",
    "plt.ylabel('Price')\n",
    "plt.xlabel('Days')\n",
    "plt.legend(['Close'], loc='upper left')\n",
    "plt.show()"
   ]
  },
  {
   "cell_type": "code",
   "execution_count": null,
   "metadata": {},
   "outputs": [],
   "source": []
  },
  {
   "cell_type": "code",
   "execution_count": 20,
   "metadata": {},
   "outputs": [],
   "source": [
    "ticker = ticker_df.drop('Y', axis = 1)"
   ]
  },
  {
   "cell_type": "code",
   "execution_count": 138,
   "metadata": {},
   "outputs": [],
   "source": [
    "#normalize data\n",
    "normalized_df = (ticker - ticker.min())/(ticker.max()- ticker.min())\n",
    "normalized_df['Y'] = ticker_df[\"Y\"]"
   ]
  },
  {
   "cell_type": "code",
   "execution_count": null,
   "metadata": {},
   "outputs": [],
   "source": []
  },
  {
   "cell_type": "code",
   "execution_count": null,
   "metadata": {},
   "outputs": [],
   "source": []
  },
  {
   "cell_type": "code",
   "execution_count": 23,
   "metadata": {},
   "outputs": [],
   "source": [
    "open_ = normalized_df['Open'].values\n",
    "high_ = normalized_df['High'].values\n",
    "low_ = normalized_df['Low'].values\n",
    "close_ = normalized_df['Close'].values"
   ]
  },
  {
   "cell_type": "markdown",
   "metadata": {},
   "source": [
    "### Check for Stationarity - Augmented Dickey-Fuller Test (ADF)"
   ]
  },
  {
   "cell_type": "code",
   "execution_count": 24,
   "metadata": {
    "scrolled": true
   },
   "outputs": [
    {
     "name": "stdout",
     "output_type": "stream",
     "text": [
      "ADF Statistic: -2.513384\n",
      "p-value: 0.112252\n",
      "Critical Values:\n",
      "\t1%: -3.430\n",
      "\t5%: -2.862\n",
      "\t10%: -2.567\n"
     ]
    }
   ],
   "source": [
    "result = adfuller(open_)\n",
    "print('ADF Statistic: %f' % result[0])\n",
    "print('p-value: %f' % result[1])\n",
    "print('Critical Values:')\n",
    "for key, value in result[4].items():\n",
    "\tprint('\\t%s: %.3f' % (key, value))"
   ]
  },
  {
   "cell_type": "code",
   "execution_count": 25,
   "metadata": {},
   "outputs": [
    {
     "name": "stdout",
     "output_type": "stream",
     "text": [
      "ADF Statistic: -2.509513\n",
      "p-value: 0.113177\n",
      "Critical Values:\n",
      "\t1%: -3.430\n",
      "\t5%: -2.862\n",
      "\t10%: -2.567\n"
     ]
    }
   ],
   "source": [
    "result1 = adfuller(close_)\n",
    "print('ADF Statistic: %f' % result1[0])\n",
    "print('p-value: %f' % result1[1])\n",
    "print('Critical Values:')\n",
    "for key, value in result1[4].items():\n",
    "\tprint('\\t%s: %.3f' % (key, value))"
   ]
  },
  {
   "cell_type": "code",
   "execution_count": 26,
   "metadata": {},
   "outputs": [
    {
     "name": "stdout",
     "output_type": "stream",
     "text": [
      "ADF Statistic: -2.518165\n",
      "p-value: 0.111117\n",
      "Critical Values:\n",
      "\t1%: -3.430\n",
      "\t5%: -2.862\n",
      "\t10%: -2.567\n"
     ]
    }
   ],
   "source": [
    "result2 = adfuller(low_)\n",
    "print('ADF Statistic: %f' % result2[0])\n",
    "print('p-value: %f' % result2[1])\n",
    "print('Critical Values:')\n",
    "for key, value in result2[4].items():\n",
    "\tprint('\\t%s: %.3f' % (key, value))"
   ]
  },
  {
   "cell_type": "code",
   "execution_count": 27,
   "metadata": {},
   "outputs": [
    {
     "name": "stdout",
     "output_type": "stream",
     "text": [
      "ADF Statistic: -2.463506\n",
      "p-value: 0.124608\n",
      "Critical Values:\n",
      "\t1%: -3.430\n",
      "\t5%: -2.862\n",
      "\t10%: -2.567\n"
     ]
    }
   ],
   "source": [
    "result3 = adfuller(high_)\n",
    "print('ADF Statistic: %f' % result3[0])\n",
    "print('p-value: %f' % result3[1])\n",
    "print('Critical Values:')\n",
    "for key, value in result3[4].items():\n",
    "\tprint('\\t%s: %.3f' % (key, value))"
   ]
  },
  {
   "cell_type": "markdown",
   "metadata": {},
   "source": [
    "From a comparison of all the test statistics with their respective critical values at 5% alpha it is evident that each of the series is non-stationary. Our next step will be to make them stationary using a difference transform"
   ]
  },
  {
   "cell_type": "code",
   "execution_count": 28,
   "metadata": {},
   "outputs": [],
   "source": [
    "# create a differenced series\n",
    "def difference(dataset, interval=1):\n",
    "    diff = list()\n",
    "    for i in range(interval, len(dataset)):\n",
    "        value = dataset[i] - dataset[i - interval]\n",
    "        diff.append(value)\n",
    "    return Series(diff)"
   ]
  },
  {
   "cell_type": "code",
   "execution_count": 29,
   "metadata": {},
   "outputs": [],
   "source": [
    "# invert differenced forecast\n",
    "def inverse_difference(last_ob, value):\n",
    "    return value + last_ob"
   ]
  },
  {
   "cell_type": "code",
   "execution_count": 32,
   "metadata": {},
   "outputs": [],
   "source": [
    "#Detrend Open prices\n",
    "diff_trend_open = difference(open_)"
   ]
  },
  {
   "cell_type": "code",
   "execution_count": 33,
   "metadata": {
    "scrolled": false
   },
   "outputs": [
    {
     "data": {
      "image/png": "[encoded data removed]",
      "text/plain": [
       "<Figure size 1080x720 with 1 Axes>"
      ]
     },
     "metadata": {},
     "output_type": "display_data"
    }
   ],
   "source": [
    "plt.figure(figsize=(15,10))\n",
    "plt.plot(diff_open)\n",
    "plt.title('bitmex_BTCUSD_candles_5m_price_history')\n",
    "plt.ylabel('Price')\n",
    "plt.xlabel('Days')\n",
    "plt.legend(['diff_open'], loc='upper left')\n",
    "plt.show()"
   ]
  },
  {
   "cell_type": "markdown",
   "metadata": {},
   "source": [
    "The trend has now been removed. Seasonality still exists evidenced by the wildly swinging volatility. The next step will be to remove the seasonality."
   ]
  },
  {
   "cell_type": "code",
   "execution_count": 87,
   "metadata": {},
   "outputs": [],
   "source": [
    "#De-season Open Prices\n",
    "diff_season_open = difference(diff_trend_open, 90000)"
   ]
  },
  {
   "cell_type": "code",
   "execution_count": 88,
   "metadata": {},
   "outputs": [
    {
     "data": {
      "image/png": "[encoded data removed]",
      "text/plain": [
       "<Figure size 1080x720 with 1 Axes>"
      ]
     },
     "metadata": {},
     "output_type": "display_data"
    }
   ],
   "source": [
    "plt.figure(figsize=(15,10))\n",
    "plt.plot(diff_season_open)\n",
    "plt.title('bitmex_BTCUSD_candles_5m_price_history')\n",
    "plt.ylabel('Price')\n",
    "plt.xlabel('Days')\n",
    "plt.legend(['diff_open'], loc='upper left')\n",
    "plt.show()"
   ]
  },
  {
   "cell_type": "code",
   "execution_count": 89,
   "metadata": {},
   "outputs": [],
   "source": [
    "#Detrend low prices\n",
    "diff_trend_low = difference(low_)"
   ]
  },
  {
   "cell_type": "code",
   "execution_count": 91,
   "metadata": {},
   "outputs": [],
   "source": [
    "#De-season low Prices\n",
    "diff_season_low = difference(diff_trend_low, 90000)"
   ]
  },
  {
   "cell_type": "code",
   "execution_count": 92,
   "metadata": {},
   "outputs": [
    {
     "data": {
      "image/png": "[encoded data removed]",
      "text/plain": [
       "<Figure size 1080x720 with 1 Axes>"
      ]
     },
     "metadata": {},
     "output_type": "display_data"
    }
   ],
   "source": [
    "plt.figure(figsize=(15,10))\n",
    "plt.plot(diff_season_low)\n",
    "plt.title('bitmex_BTCUSD_candles_5m_price_history')\n",
    "plt.ylabel('Price')\n",
    "plt.xlabel('Days')\n",
    "plt.legend(['diff_low'], loc='upper left')\n",
    "plt.show()"
   ]
  },
  {
   "cell_type": "code",
   "execution_count": 93,
   "metadata": {},
   "outputs": [],
   "source": [
    "#Detrend high prices\n",
    "diff_trend_high = difference(high_)"
   ]
  },
  {
   "cell_type": "code",
   "execution_count": 94,
   "metadata": {},
   "outputs": [],
   "source": [
    "#De-season low Prices\n",
    "diff_season_high = difference(diff_trend_high, 90000)"
   ]
  },
  {
   "cell_type": "code",
   "execution_count": 95,
   "metadata": {},
   "outputs": [
    {
     "data": {
      "image/png": "[encoded data removed]",
      "text/plain": [
       "<Figure size 1080x720 with 1 Axes>"
      ]
     },
     "metadata": {},
     "output_type": "display_data"
    }
   ],
   "source": [
    "plt.figure(figsize=(15,10))\n",
    "plt.plot(diff_season_high)\n",
    "plt.title('bitmex_BTCUSD_candles_5m_price_history')\n",
    "plt.ylabel('Price')\n",
    "plt.xlabel('Days')\n",
    "plt.legend(['diff_high'], loc='upper left')\n",
    "plt.show()"
   ]
  },
  {
   "cell_type": "code",
   "execution_count": 96,
   "metadata": {},
   "outputs": [],
   "source": [
    "#Detrend close prices\n",
    "diff_trend_close = difference(close_)"
   ]
  },
  {
   "cell_type": "code",
   "execution_count": 118,
   "metadata": {},
   "outputs": [],
   "source": [
    "#De-season low Prices\n",
    "diff_season_close = difference(diff_trend_close, 90000)"
   ]
  },
  {
   "cell_type": "code",
   "execution_count": 119,
   "metadata": {},
   "outputs": [
    {
     "data": {
      "text/plain": [
       "pandas.core.series.Series"
      ]
     },
     "execution_count": 119,
     "metadata": {},
     "output_type": "execute_result"
    }
   ],
   "source": [
    "type(diff_season_close)"
   ]
  },
  {
   "cell_type": "code",
   "execution_count": 99,
   "metadata": {},
   "outputs": [
    {
     "data": {
      "image/png": "[encoded data removed]",
      "text/plain": [
       "<Figure size 1080x720 with 1 Axes>"
      ]
     },
     "metadata": {},
     "output_type": "display_data"
    }
   ],
   "source": [
    "plt.figure(figsize=(15,10))\n",
    "plt.plot(diff_season_close)\n",
    "plt.title('bitmex_BTCUSD_candles_5m_price_history')\n",
    "plt.ylabel('Price')\n",
    "plt.xlabel('Days')\n",
    "plt.legend(['diff_close'], loc='upper left')\n",
    "plt.show()"
   ]
  },
  {
   "cell_type": "code",
   "execution_count": 120,
   "metadata": {},
   "outputs": [],
   "source": [
    "stationary_df = pd.concat([diff_season_open, diff_season_low, diff_season_high, diff_season_close],names =['diff_season_open', 'diff_season_low', 'diff_season_high', 'diff_season_close'])"
   ]
  },
  {
   "cell_type": "code",
   "execution_count": 127,
   "metadata": {},
   "outputs": [],
   "source": [
    "stationary_df1 = pd.DataFrame(data = dict(diff_season_open= diff_season_open, diff_season_low= diff_season_low,\n",
    "                              diff_season_high= diff_season_high, diff_season_close= diff_season_close))"
   ]
  },
  {
   "cell_type": "code",
   "execution_count": 140,
   "metadata": {
    "scrolled": true
   },
   "outputs": [
    {
     "data": {
      "text/plain": [
       "(102211, 4)"
      ]
     },
     "execution_count": 140,
     "metadata": {},
     "output_type": "execute_result"
    }
   ],
   "source": [
    "stationary_df1.shape"
   ]
  },
  {
   "cell_type": "code",
   "execution_count": 141,
   "metadata": {},
   "outputs": [
    {
     "data": {
      "text/plain": [
       "(102211, 7)"
      ]
     },
     "execution_count": 141,
     "metadata": {},
     "output_type": "execute_result"
    }
   ],
   "source": [
    "normalized_df = normalized_df.iloc[90001:]\n",
    "normalized_df.shape"
   ]
  },
  {
   "cell_type": "code",
   "execution_count": 145,
   "metadata": {
    "scrolled": true
   },
   "outputs": [
    {
     "data": {
      "text/html": [
       "<div>\n",
       "<style scoped>\n",
       "    .dataframe tbody tr th:only-of-type {\n",
       "        vertical-align: middle;\n",
       "    }\n",
       "\n",
       "    .dataframe tbody tr th {\n",
       "        vertical-align: top;\n",
       "    }\n",
       "\n",
       "    .dataframe thead th {\n",
       "        text-align: right;\n",
       "    }\n",
       "</style>\n",
       "<table border=\"1\" class=\"dataframe\">\n",
       "  <thead>\n",
       "    <tr style=\"text-align: right;\">\n",
       "      <th></th>\n",
       "      <th>diff_season_open</th>\n",
       "      <th>diff_season_low</th>\n",
       "      <th>diff_season_high</th>\n",
       "      <th>diff_season_close</th>\n",
       "      <th>Y</th>\n",
       "    </tr>\n",
       "    <tr>\n",
       "      <th>Date</th>\n",
       "      <th></th>\n",
       "      <th></th>\n",
       "      <th></th>\n",
       "      <th></th>\n",
       "      <th></th>\n",
       "    </tr>\n",
       "  </thead>\n",
       "  <tbody>\n",
       "    <tr>\n",
       "      <th>2018-11-09 12:05:00</th>\n",
       "      <td>-0.002591</td>\n",
       "      <td>0.002691</td>\n",
       "      <td>0.003430</td>\n",
       "      <td>0.005881</td>\n",
       "      <td>0</td>\n",
       "    </tr>\n",
       "    <tr>\n",
       "      <th>2018-11-09 12:10:00</th>\n",
       "      <td>0.005881</td>\n",
       "      <td>0.009454</td>\n",
       "      <td>0.008365</td>\n",
       "      <td>0.001855</td>\n",
       "      <td>0</td>\n",
       "    </tr>\n",
       "    <tr>\n",
       "      <th>2018-11-09 12:15:00</th>\n",
       "      <td>0.001855</td>\n",
       "      <td>-0.002549</td>\n",
       "      <td>0.000245</td>\n",
       "      <td>0.000140</td>\n",
       "      <td>1</td>\n",
       "    </tr>\n",
       "    <tr>\n",
       "      <th>2018-11-09 12:20:00</th>\n",
       "      <td>0.000140</td>\n",
       "      <td>0.008144</td>\n",
       "      <td>0.001400</td>\n",
       "      <td>0.004761</td>\n",
       "      <td>1</td>\n",
       "    </tr>\n",
       "    <tr>\n",
       "      <th>2018-11-09 12:25:00</th>\n",
       "      <td>0.004761</td>\n",
       "      <td>-0.002797</td>\n",
       "      <td>0.004445</td>\n",
       "      <td>0.000175</td>\n",
       "      <td>1</td>\n",
       "    </tr>\n",
       "  </tbody>\n",
       "</table>\n",
       "</div>"
      ],
      "text/plain": [
       "                     diff_season_open  diff_season_low  diff_season_high  \\\n",
       "Date                                                                       \n",
       "2018-11-09 12:05:00         -0.002591         0.002691          0.003430   \n",
       "2018-11-09 12:10:00          0.005881         0.009454          0.008365   \n",
       "2018-11-09 12:15:00          0.001855        -0.002549          0.000245   \n",
       "2018-11-09 12:20:00          0.000140         0.008144          0.001400   \n",
       "2018-11-09 12:25:00          0.004761        -0.002797          0.004445   \n",
       "\n",
       "                     diff_season_close  Y  \n",
       "Date                                       \n",
       "2018-11-09 12:05:00           0.005881  0  \n",
       "2018-11-09 12:10:00           0.001855  0  \n",
       "2018-11-09 12:15:00           0.000140  1  \n",
       "2018-11-09 12:20:00           0.004761  1  \n",
       "2018-11-09 12:25:00           0.000175  1  "
      ]
     },
     "execution_count": 145,
     "metadata": {},
     "output_type": "execute_result"
    }
   ],
   "source": [
    "stationary_df = stationary_df1\n",
    "stationary_df.set_index(normalized_df.index, inplace = True)\n",
    "stationary_df['Y'] = normalized_df['Y']\n",
    "stationary_df.head()"
   ]
  },
  {
   "cell_type": "code",
   "execution_count": 146,
   "metadata": {},
   "outputs": [
    {
     "data": {
      "text/plain": [
       "(102211, 5)"
      ]
     },
     "execution_count": 146,
     "metadata": {},
     "output_type": "execute_result"
    }
   ],
   "source": [
    "stationary_df.shape"
   ]
  },
  {
   "cell_type": "code",
   "execution_count": 231,
   "metadata": {},
   "outputs": [
    {
     "name": "stdout",
     "output_type": "stream",
     "text": [
      "Observations: 102211\n",
      "Training Observations: 61326\n",
      "Validation Observations: 30663\n",
      "Testing Observations: 10222\n"
     ]
    }
   ],
   "source": [
    "ticker_np = stationary_df.values\n",
    "train_size = int(len(ticker_np)*0.6)\n",
    "val_size = int(len(ticker_np)*0.3) + train_size\n",
    "train= ticker_np[0:train_size]\n",
    "val = ticker_np[train_size: val_size]\n",
    "test = ticker_np[val_size: len(ticker_np)]\n",
    "print('Observations: %d' % (len(stationary_df)))\n",
    "print('Training Observations: %d' % (len(train)))\n",
    "print('Validation Observations: %d' % (len(val)))\n",
    "print('Testing Observations: %d' % (len(test)))"
   ]
  },
  {
   "cell_type": "code",
   "execution_count": 232,
   "metadata": {},
   "outputs": [],
   "source": [
    "def series_to_supervised(data, n_in=1, n_out=1, dropnan= True):\n",
    "    \"\"\"This function takes in univariate or multivariate time series data and transforms it\n",
    "    to a supervised machine learning dataset.\n",
    "    Arguments:\n",
    "        data: Sequence of observations as a list or NumPy array.\n",
    "        n_in: Number of lag observations as input (X). Default is 1\n",
    "        n_out: Number of observations as output (y). Default is 1\n",
    "        dropnan: Boolean whether or not to drop rows with NaN values. Default is True\n",
    "    Returns:\n",
    "        Pandas DataFrame of series framed for supervised learning.\"\"\"\n",
    "    n_vars = 1 if type(data) is list else data.shape[1]\n",
    "    df = pd.DataFrame(data)\n",
    "    cols, names = list(), list()\n",
    "    # input sequence (t-n, ... t-1)\n",
    "    for i in range(n_in, 0, -1):\n",
    "        cols.append(df.shift(i))\n",
    "        names += [('var%d(t-%d)' % (j+1, i)) for j in range(n_vars)]\n",
    "    # forecast sequence (t, t+1, ... t+n)\n",
    "    for i in range(0, n_out):\n",
    "        cols.append(df.shift(-i))\n",
    "        if i == 0:\n",
    "            names += [('var%d(t)' % (j+1)) for j in range(n_vars)]\n",
    "        else:\n",
    "            names += [('var%d(t+%d)' % (j+1, i)) for j in range(n_vars)]\n",
    "    # put it all together\n",
    "    agg = pd.concat(cols, axis=1)\n",
    "    agg.columns = names\n",
    "    # drop rows with NaN values\n",
    "    if dropnan:\n",
    "        agg.dropna(inplace=True)\n",
    "    return agg\n",
    "    "
   ]
  },
  {
   "cell_type": "code",
   "execution_count": 233,
   "metadata": {},
   "outputs": [],
   "source": [
    "#Transform training set to supervised machine learning dataset\n",
    "new_train = series_to_supervised(train, 3, 1)"
   ]
  },
  {
   "cell_type": "code",
   "execution_count": 234,
   "metadata": {},
   "outputs": [
    {
     "data": {
      "text/html": [
       "<div>\n",
       "<style scoped>\n",
       "    .dataframe tbody tr th:only-of-type {\n",
       "        vertical-align: middle;\n",
       "    }\n",
       "\n",
       "    .dataframe tbody tr th {\n",
       "        vertical-align: top;\n",
       "    }\n",
       "\n",
       "    .dataframe thead th {\n",
       "        text-align: right;\n",
       "    }\n",
       "</style>\n",
       "<table border=\"1\" class=\"dataframe\">\n",
       "  <thead>\n",
       "    <tr style=\"text-align: right;\">\n",
       "      <th></th>\n",
       "      <th>var1(t-3)</th>\n",
       "      <th>var2(t-3)</th>\n",
       "      <th>var3(t-3)</th>\n",
       "      <th>var4(t-3)</th>\n",
       "      <th>var5(t-3)</th>\n",
       "      <th>var1(t-2)</th>\n",
       "      <th>var2(t-2)</th>\n",
       "      <th>var3(t-2)</th>\n",
       "      <th>var4(t-2)</th>\n",
       "      <th>var5(t-2)</th>\n",
       "      <th>var1(t-1)</th>\n",
       "      <th>var2(t-1)</th>\n",
       "      <th>var3(t-1)</th>\n",
       "      <th>var4(t-1)</th>\n",
       "      <th>var5(t-1)</th>\n",
       "      <th>var1(t)</th>\n",
       "      <th>var2(t)</th>\n",
       "      <th>var3(t)</th>\n",
       "      <th>var4(t)</th>\n",
       "      <th>var5(t)</th>\n",
       "    </tr>\n",
       "  </thead>\n",
       "  <tbody>\n",
       "    <tr>\n",
       "      <th>3</th>\n",
       "      <td>-0.002591</td>\n",
       "      <td>0.002691</td>\n",
       "      <td>0.003430</td>\n",
       "      <td>0.005881</td>\n",
       "      <td>0.0</td>\n",
       "      <td>0.005881</td>\n",
       "      <td>0.009454</td>\n",
       "      <td>0.008365</td>\n",
       "      <td>0.001855</td>\n",
       "      <td>0.0</td>\n",
       "      <td>0.001855</td>\n",
       "      <td>-0.002549</td>\n",
       "      <td>0.000245</td>\n",
       "      <td>0.000140</td>\n",
       "      <td>1.0</td>\n",
       "      <td>0.000140</td>\n",
       "      <td>0.008144</td>\n",
       "      <td>0.001400</td>\n",
       "      <td>0.004761</td>\n",
       "      <td>1.0</td>\n",
       "    </tr>\n",
       "    <tr>\n",
       "      <th>4</th>\n",
       "      <td>0.005881</td>\n",
       "      <td>0.009454</td>\n",
       "      <td>0.008365</td>\n",
       "      <td>0.001855</td>\n",
       "      <td>0.0</td>\n",
       "      <td>0.001855</td>\n",
       "      <td>-0.002549</td>\n",
       "      <td>0.000245</td>\n",
       "      <td>0.000140</td>\n",
       "      <td>1.0</td>\n",
       "      <td>0.000140</td>\n",
       "      <td>0.008144</td>\n",
       "      <td>0.001400</td>\n",
       "      <td>0.004761</td>\n",
       "      <td>1.0</td>\n",
       "      <td>0.004761</td>\n",
       "      <td>-0.002797</td>\n",
       "      <td>0.004445</td>\n",
       "      <td>0.000175</td>\n",
       "      <td>1.0</td>\n",
       "    </tr>\n",
       "    <tr>\n",
       "      <th>5</th>\n",
       "      <td>0.001855</td>\n",
       "      <td>-0.002549</td>\n",
       "      <td>0.000245</td>\n",
       "      <td>0.000140</td>\n",
       "      <td>1.0</td>\n",
       "      <td>0.000140</td>\n",
       "      <td>0.008144</td>\n",
       "      <td>0.001400</td>\n",
       "      <td>0.004761</td>\n",
       "      <td>1.0</td>\n",
       "      <td>0.004761</td>\n",
       "      <td>-0.002797</td>\n",
       "      <td>0.004445</td>\n",
       "      <td>0.000175</td>\n",
       "      <td>1.0</td>\n",
       "      <td>0.000175</td>\n",
       "      <td>-0.003435</td>\n",
       "      <td>-0.004725</td>\n",
       "      <td>-0.001470</td>\n",
       "      <td>1.0</td>\n",
       "    </tr>\n",
       "    <tr>\n",
       "      <th>6</th>\n",
       "      <td>0.000140</td>\n",
       "      <td>0.008144</td>\n",
       "      <td>0.001400</td>\n",
       "      <td>0.004761</td>\n",
       "      <td>1.0</td>\n",
       "      <td>0.004761</td>\n",
       "      <td>-0.002797</td>\n",
       "      <td>0.004445</td>\n",
       "      <td>0.000175</td>\n",
       "      <td>1.0</td>\n",
       "      <td>0.000175</td>\n",
       "      <td>-0.003435</td>\n",
       "      <td>-0.004725</td>\n",
       "      <td>-0.001470</td>\n",
       "      <td>1.0</td>\n",
       "      <td>-0.001470</td>\n",
       "      <td>-0.001806</td>\n",
       "      <td>0.000525</td>\n",
       "      <td>0.000035</td>\n",
       "      <td>0.0</td>\n",
       "    </tr>\n",
       "    <tr>\n",
       "      <th>7</th>\n",
       "      <td>0.004761</td>\n",
       "      <td>-0.002797</td>\n",
       "      <td>0.004445</td>\n",
       "      <td>0.000175</td>\n",
       "      <td>1.0</td>\n",
       "      <td>0.000175</td>\n",
       "      <td>-0.003435</td>\n",
       "      <td>-0.004725</td>\n",
       "      <td>-0.001470</td>\n",
       "      <td>1.0</td>\n",
       "      <td>-0.001470</td>\n",
       "      <td>-0.001806</td>\n",
       "      <td>0.000525</td>\n",
       "      <td>0.000035</td>\n",
       "      <td>0.0</td>\n",
       "      <td>0.000035</td>\n",
       "      <td>0.003824</td>\n",
       "      <td>0.001645</td>\n",
       "      <td>-0.000210</td>\n",
       "      <td>1.0</td>\n",
       "    </tr>\n",
       "  </tbody>\n",
       "</table>\n",
       "</div>"
      ],
      "text/plain": [
       "   var1(t-3)  var2(t-3)  var3(t-3)  var4(t-3)  var5(t-3)  var1(t-2)  \\\n",
       "3  -0.002591   0.002691   0.003430   0.005881        0.0   0.005881   \n",
       "4   0.005881   0.009454   0.008365   0.001855        0.0   0.001855   \n",
       "5   0.001855  -0.002549   0.000245   0.000140        1.0   0.000140   \n",
       "6   0.000140   0.008144   0.001400   0.004761        1.0   0.004761   \n",
       "7   0.004761  -0.002797   0.004445   0.000175        1.0   0.000175   \n",
       "\n",
       "   var2(t-2)  var3(t-2)  var4(t-2)  var5(t-2)  var1(t-1)  var2(t-1)  \\\n",
       "3   0.009454   0.008365   0.001855        0.0   0.001855  -0.002549   \n",
       "4  -0.002549   0.000245   0.000140        1.0   0.000140   0.008144   \n",
       "5   0.008144   0.001400   0.004761        1.0   0.004761  -0.002797   \n",
       "6  -0.002797   0.004445   0.000175        1.0   0.000175  -0.003435   \n",
       "7  -0.003435  -0.004725  -0.001470        1.0  -0.001470  -0.001806   \n",
       "\n",
       "   var3(t-1)  var4(t-1)  var5(t-1)   var1(t)   var2(t)   var3(t)   var4(t)  \\\n",
       "3   0.000245   0.000140        1.0  0.000140  0.008144  0.001400  0.004761   \n",
       "4   0.001400   0.004761        1.0  0.004761 -0.002797  0.004445  0.000175   \n",
       "5   0.004445   0.000175        1.0  0.000175 -0.003435 -0.004725 -0.001470   \n",
       "6  -0.004725  -0.001470        1.0 -0.001470 -0.001806  0.000525  0.000035   \n",
       "7   0.000525   0.000035        0.0  0.000035  0.003824  0.001645 -0.000210   \n",
       "\n",
       "   var5(t)  \n",
       "3      1.0  \n",
       "4      1.0  \n",
       "5      1.0  \n",
       "6      0.0  \n",
       "7      1.0  "
      ]
     },
     "execution_count": 234,
     "metadata": {},
     "output_type": "execute_result"
    }
   ],
   "source": [
    "new_train.head()"
   ]
  },
  {
   "cell_type": "code",
   "execution_count": 235,
   "metadata": {},
   "outputs": [],
   "source": [
    "#Drop irrelevant columns\n",
    "new_train.drop(columns = ['var1(t)','var2(t)','var3(t)','var4(t)'], inplace = True)"
   ]
  },
  {
   "cell_type": "code",
   "execution_count": 236,
   "metadata": {},
   "outputs": [
    {
     "data": {
      "text/html": [
       "<div>\n",
       "<style scoped>\n",
       "    .dataframe tbody tr th:only-of-type {\n",
       "        vertical-align: middle;\n",
       "    }\n",
       "\n",
       "    .dataframe tbody tr th {\n",
       "        vertical-align: top;\n",
       "    }\n",
       "\n",
       "    .dataframe thead th {\n",
       "        text-align: right;\n",
       "    }\n",
       "</style>\n",
       "<table border=\"1\" class=\"dataframe\">\n",
       "  <thead>\n",
       "    <tr style=\"text-align: right;\">\n",
       "      <th></th>\n",
       "      <th>var1(t-3)</th>\n",
       "      <th>var2(t-3)</th>\n",
       "      <th>var3(t-3)</th>\n",
       "      <th>var4(t-3)</th>\n",
       "      <th>var5(t-3)</th>\n",
       "      <th>var1(t-2)</th>\n",
       "      <th>var2(t-2)</th>\n",
       "      <th>var3(t-2)</th>\n",
       "      <th>var4(t-2)</th>\n",
       "      <th>var5(t-2)</th>\n",
       "      <th>var1(t-1)</th>\n",
       "      <th>var2(t-1)</th>\n",
       "      <th>var3(t-1)</th>\n",
       "      <th>var4(t-1)</th>\n",
       "      <th>var5(t-1)</th>\n",
       "      <th>var5(t)</th>\n",
       "    </tr>\n",
       "  </thead>\n",
       "  <tbody>\n",
       "    <tr>\n",
       "      <th>3</th>\n",
       "      <td>-0.002591</td>\n",
       "      <td>0.002691</td>\n",
       "      <td>0.003430</td>\n",
       "      <td>0.005881</td>\n",
       "      <td>0.0</td>\n",
       "      <td>0.005881</td>\n",
       "      <td>0.009454</td>\n",
       "      <td>0.008365</td>\n",
       "      <td>0.001855</td>\n",
       "      <td>0.0</td>\n",
       "      <td>0.001855</td>\n",
       "      <td>-0.002549</td>\n",
       "      <td>0.000245</td>\n",
       "      <td>0.000140</td>\n",
       "      <td>1.0</td>\n",
       "      <td>1.0</td>\n",
       "    </tr>\n",
       "    <tr>\n",
       "      <th>4</th>\n",
       "      <td>0.005881</td>\n",
       "      <td>0.009454</td>\n",
       "      <td>0.008365</td>\n",
       "      <td>0.001855</td>\n",
       "      <td>0.0</td>\n",
       "      <td>0.001855</td>\n",
       "      <td>-0.002549</td>\n",
       "      <td>0.000245</td>\n",
       "      <td>0.000140</td>\n",
       "      <td>1.0</td>\n",
       "      <td>0.000140</td>\n",
       "      <td>0.008144</td>\n",
       "      <td>0.001400</td>\n",
       "      <td>0.004761</td>\n",
       "      <td>1.0</td>\n",
       "      <td>1.0</td>\n",
       "    </tr>\n",
       "    <tr>\n",
       "      <th>5</th>\n",
       "      <td>0.001855</td>\n",
       "      <td>-0.002549</td>\n",
       "      <td>0.000245</td>\n",
       "      <td>0.000140</td>\n",
       "      <td>1.0</td>\n",
       "      <td>0.000140</td>\n",
       "      <td>0.008144</td>\n",
       "      <td>0.001400</td>\n",
       "      <td>0.004761</td>\n",
       "      <td>1.0</td>\n",
       "      <td>0.004761</td>\n",
       "      <td>-0.002797</td>\n",
       "      <td>0.004445</td>\n",
       "      <td>0.000175</td>\n",
       "      <td>1.0</td>\n",
       "      <td>1.0</td>\n",
       "    </tr>\n",
       "    <tr>\n",
       "      <th>6</th>\n",
       "      <td>0.000140</td>\n",
       "      <td>0.008144</td>\n",
       "      <td>0.001400</td>\n",
       "      <td>0.004761</td>\n",
       "      <td>1.0</td>\n",
       "      <td>0.004761</td>\n",
       "      <td>-0.002797</td>\n",
       "      <td>0.004445</td>\n",
       "      <td>0.000175</td>\n",
       "      <td>1.0</td>\n",
       "      <td>0.000175</td>\n",
       "      <td>-0.003435</td>\n",
       "      <td>-0.004725</td>\n",
       "      <td>-0.001470</td>\n",
       "      <td>1.0</td>\n",
       "      <td>0.0</td>\n",
       "    </tr>\n",
       "    <tr>\n",
       "      <th>7</th>\n",
       "      <td>0.004761</td>\n",
       "      <td>-0.002797</td>\n",
       "      <td>0.004445</td>\n",
       "      <td>0.000175</td>\n",
       "      <td>1.0</td>\n",
       "      <td>0.000175</td>\n",
       "      <td>-0.003435</td>\n",
       "      <td>-0.004725</td>\n",
       "      <td>-0.001470</td>\n",
       "      <td>1.0</td>\n",
       "      <td>-0.001470</td>\n",
       "      <td>-0.001806</td>\n",
       "      <td>0.000525</td>\n",
       "      <td>0.000035</td>\n",
       "      <td>0.0</td>\n",
       "      <td>1.0</td>\n",
       "    </tr>\n",
       "  </tbody>\n",
       "</table>\n",
       "</div>"
      ],
      "text/plain": [
       "   var1(t-3)  var2(t-3)  var3(t-3)  var4(t-3)  var5(t-3)  var1(t-2)  \\\n",
       "3  -0.002591   0.002691   0.003430   0.005881        0.0   0.005881   \n",
       "4   0.005881   0.009454   0.008365   0.001855        0.0   0.001855   \n",
       "5   0.001855  -0.002549   0.000245   0.000140        1.0   0.000140   \n",
       "6   0.000140   0.008144   0.001400   0.004761        1.0   0.004761   \n",
       "7   0.004761  -0.002797   0.004445   0.000175        1.0   0.000175   \n",
       "\n",
       "   var2(t-2)  var3(t-2)  var4(t-2)  var5(t-2)  var1(t-1)  var2(t-1)  \\\n",
       "3   0.009454   0.008365   0.001855        0.0   0.001855  -0.002549   \n",
       "4  -0.002549   0.000245   0.000140        1.0   0.000140   0.008144   \n",
       "5   0.008144   0.001400   0.004761        1.0   0.004761  -0.002797   \n",
       "6  -0.002797   0.004445   0.000175        1.0   0.000175  -0.003435   \n",
       "7  -0.003435  -0.004725  -0.001470        1.0  -0.001470  -0.001806   \n",
       "\n",
       "   var3(t-1)  var4(t-1)  var5(t-1)  var5(t)  \n",
       "3   0.000245   0.000140        1.0      1.0  \n",
       "4   0.001400   0.004761        1.0      1.0  \n",
       "5   0.004445   0.000175        1.0      1.0  \n",
       "6  -0.004725  -0.001470        1.0      0.0  \n",
       "7   0.000525   0.000035        0.0      1.0  "
      ]
     },
     "execution_count": 236,
     "metadata": {},
     "output_type": "execute_result"
    }
   ],
   "source": [
    "new_train.head()"
   ]
  },
  {
   "cell_type": "code",
   "execution_count": 237,
   "metadata": {},
   "outputs": [],
   "source": [
    "#Split training data into target and input variables\n",
    "y_train = new_train['var5(t)']\n",
    "X_train = new_train.drop('var5(t)', axis = 1)"
   ]
  },
  {
   "cell_type": "code",
   "execution_count": 238,
   "metadata": {},
   "outputs": [],
   "source": [
    "#Transform Validation set to supervised machine learning dataset and drop irrelevant columns\n",
    "new_val = series_to_supervised(val, 3, 1)\n",
    "new_val.drop(columns = ['var1(t)','var2(t)','var3(t)','var4(t)'], inplace = True)"
   ]
  },
  {
   "cell_type": "code",
   "execution_count": 239,
   "metadata": {},
   "outputs": [],
   "source": [
    "#Split validation data into target and input variables\n",
    "y_val = new_val['var5(t)']\n",
    "X_val = new_val.drop('var5(t)', axis = 1)"
   ]
  },
  {
   "cell_type": "code",
   "execution_count": 240,
   "metadata": {},
   "outputs": [
    {
     "data": {
      "text/html": [
       "<div>\n",
       "<style scoped>\n",
       "    .dataframe tbody tr th:only-of-type {\n",
       "        vertical-align: middle;\n",
       "    }\n",
       "\n",
       "    .dataframe tbody tr th {\n",
       "        vertical-align: top;\n",
       "    }\n",
       "\n",
       "    .dataframe thead th {\n",
       "        text-align: right;\n",
       "    }\n",
       "</style>\n",
       "<table border=\"1\" class=\"dataframe\">\n",
       "  <thead>\n",
       "    <tr style=\"text-align: right;\">\n",
       "      <th></th>\n",
       "      <th>var1(t-3)</th>\n",
       "      <th>var2(t-3)</th>\n",
       "      <th>var3(t-3)</th>\n",
       "      <th>var4(t-3)</th>\n",
       "      <th>var5(t-3)</th>\n",
       "      <th>var1(t-2)</th>\n",
       "      <th>var2(t-2)</th>\n",
       "      <th>var3(t-2)</th>\n",
       "      <th>var4(t-2)</th>\n",
       "      <th>var5(t-2)</th>\n",
       "      <th>var1(t-1)</th>\n",
       "      <th>var2(t-1)</th>\n",
       "      <th>var3(t-1)</th>\n",
       "      <th>var4(t-1)</th>\n",
       "      <th>var5(t-1)</th>\n",
       "      <th>var5(t)</th>\n",
       "    </tr>\n",
       "  </thead>\n",
       "  <tbody>\n",
       "    <tr>\n",
       "      <th>3</th>\n",
       "      <td>-0.004096</td>\n",
       "      <td>-0.002620</td>\n",
       "      <td>0.002345</td>\n",
       "      <td>-0.000105</td>\n",
       "      <td>0.0</td>\n",
       "      <td>-0.000105</td>\n",
       "      <td>-0.000354</td>\n",
       "      <td>-0.001645</td>\n",
       "      <td>-0.000525</td>\n",
       "      <td>1.0</td>\n",
       "      <td>-0.000525</td>\n",
       "      <td>0.000460</td>\n",
       "      <td>0.001995</td>\n",
       "      <td>0.002241</td>\n",
       "      <td>0.0</td>\n",
       "      <td>0.0</td>\n",
       "    </tr>\n",
       "    <tr>\n",
       "      <th>4</th>\n",
       "      <td>-0.000105</td>\n",
       "      <td>-0.000354</td>\n",
       "      <td>-0.001645</td>\n",
       "      <td>-0.000525</td>\n",
       "      <td>1.0</td>\n",
       "      <td>-0.000525</td>\n",
       "      <td>0.000460</td>\n",
       "      <td>0.001995</td>\n",
       "      <td>0.002241</td>\n",
       "      <td>0.0</td>\n",
       "      <td>0.002241</td>\n",
       "      <td>0.000212</td>\n",
       "      <td>0.001785</td>\n",
       "      <td>-0.000945</td>\n",
       "      <td>0.0</td>\n",
       "      <td>1.0</td>\n",
       "    </tr>\n",
       "    <tr>\n",
       "      <th>5</th>\n",
       "      <td>-0.000525</td>\n",
       "      <td>0.000460</td>\n",
       "      <td>0.001995</td>\n",
       "      <td>0.002241</td>\n",
       "      <td>0.0</td>\n",
       "      <td>0.002241</td>\n",
       "      <td>0.000212</td>\n",
       "      <td>0.001785</td>\n",
       "      <td>-0.000945</td>\n",
       "      <td>0.0</td>\n",
       "      <td>-0.000945</td>\n",
       "      <td>-0.000248</td>\n",
       "      <td>-0.002205</td>\n",
       "      <td>-0.000840</td>\n",
       "      <td>1.0</td>\n",
       "      <td>0.0</td>\n",
       "    </tr>\n",
       "    <tr>\n",
       "      <th>6</th>\n",
       "      <td>0.002241</td>\n",
       "      <td>0.000212</td>\n",
       "      <td>0.001785</td>\n",
       "      <td>-0.000945</td>\n",
       "      <td>0.0</td>\n",
       "      <td>-0.000945</td>\n",
       "      <td>-0.000248</td>\n",
       "      <td>-0.002205</td>\n",
       "      <td>-0.000840</td>\n",
       "      <td>1.0</td>\n",
       "      <td>-0.000840</td>\n",
       "      <td>-0.000673</td>\n",
       "      <td>0.000700</td>\n",
       "      <td>0.000455</td>\n",
       "      <td>0.0</td>\n",
       "      <td>1.0</td>\n",
       "    </tr>\n",
       "    <tr>\n",
       "      <th>7</th>\n",
       "      <td>-0.000945</td>\n",
       "      <td>-0.000248</td>\n",
       "      <td>-0.002205</td>\n",
       "      <td>-0.000840</td>\n",
       "      <td>1.0</td>\n",
       "      <td>-0.000840</td>\n",
       "      <td>-0.000673</td>\n",
       "      <td>0.000700</td>\n",
       "      <td>0.000455</td>\n",
       "      <td>0.0</td>\n",
       "      <td>0.000455</td>\n",
       "      <td>-0.001416</td>\n",
       "      <td>0.000105</td>\n",
       "      <td>-0.001715</td>\n",
       "      <td>1.0</td>\n",
       "      <td>1.0</td>\n",
       "    </tr>\n",
       "  </tbody>\n",
       "</table>\n",
       "</div>"
      ],
      "text/plain": [
       "   var1(t-3)  var2(t-3)  var3(t-3)  var4(t-3)  var5(t-3)  var1(t-2)  \\\n",
       "3  -0.004096  -0.002620   0.002345  -0.000105        0.0  -0.000105   \n",
       "4  -0.000105  -0.000354  -0.001645  -0.000525        1.0  -0.000525   \n",
       "5  -0.000525   0.000460   0.001995   0.002241        0.0   0.002241   \n",
       "6   0.002241   0.000212   0.001785  -0.000945        0.0  -0.000945   \n",
       "7  -0.000945  -0.000248  -0.002205  -0.000840        1.0  -0.000840   \n",
       "\n",
       "   var2(t-2)  var3(t-2)  var4(t-2)  var5(t-2)  var1(t-1)  var2(t-1)  \\\n",
       "3  -0.000354  -0.001645  -0.000525        1.0  -0.000525   0.000460   \n",
       "4   0.000460   0.001995   0.002241        0.0   0.002241   0.000212   \n",
       "5   0.000212   0.001785  -0.000945        0.0  -0.000945  -0.000248   \n",
       "6  -0.000248  -0.002205  -0.000840        1.0  -0.000840  -0.000673   \n",
       "7  -0.000673   0.000700   0.000455        0.0   0.000455  -0.001416   \n",
       "\n",
       "   var3(t-1)  var4(t-1)  var5(t-1)  var5(t)  \n",
       "3   0.001995   0.002241        0.0      0.0  \n",
       "4   0.001785  -0.000945        0.0      1.0  \n",
       "5  -0.002205  -0.000840        1.0      0.0  \n",
       "6   0.000700   0.000455        0.0      1.0  \n",
       "7   0.000105  -0.001715        1.0      1.0  "
      ]
     },
     "execution_count": 240,
     "metadata": {},
     "output_type": "execute_result"
    }
   ],
   "source": [
    "new_val.head()"
   ]
  },
  {
   "cell_type": "code",
   "execution_count": 241,
   "metadata": {},
   "outputs": [],
   "source": [
    "#Transform test set to supervised machine learning dataset and drop irrelevant columns\n",
    "new_test = series_to_supervised(test, 3, 1)\n",
    "new_test.drop(columns = ['var1(t)','var2(t)','var3(t)','var4(t)'], inplace = True)"
   ]
  },
  {
   "cell_type": "code",
   "execution_count": 242,
   "metadata": {},
   "outputs": [],
   "source": [
    "#Split data data into target and input variables\n",
    "y_test = new_test['var5(t)']\n",
    "X_test = new_test.drop('var5(t)', axis = 1)"
   ]
  },
  {
   "cell_type": "markdown",
   "metadata": {},
   "source": [
    "# Random Forrest Classifier"
   ]
  },
  {
   "cell_type": "code",
   "execution_count": 161,
   "metadata": {},
   "outputs": [],
   "source": [
    "from sklearn.model_selection import train_test_split, GridSearchCV\n",
    "from sklearn.preprocessing import StandardScaler\n",
    "from sklearn.cross_validation import cross_val_score\n",
    "from sklearn.tree import DecisionTreeClassifier\n",
    "from sklearn.ensemble import RandomForestClassifier, AdaBoostClassifier\n",
    "from sklearn.metrics import accuracy_score"
   ]
  },
  {
   "cell_type": "code",
   "execution_count": 163,
   "metadata": {},
   "outputs": [
    {
     "data": {
      "text/plain": [
       "RandomForestClassifier(bootstrap=True, class_weight=None, criterion='gini',\n",
       "            max_depth=None, max_features='auto', max_leaf_nodes=None,\n",
       "            min_impurity_decrease=0.0, min_impurity_split=None,\n",
       "            min_samples_leaf=1, min_samples_split=2,\n",
       "            min_weight_fraction_leaf=0.0, n_estimators=200, n_jobs=1,\n",
       "            oob_score=False, random_state=101, verbose=0, warm_start=False)"
      ]
     },
     "execution_count": 163,
     "metadata": {},
     "output_type": "execute_result"
    }
   ],
   "source": [
    "rfc = RandomForestClassifier(n_estimators = 200,random_state = 101)\n",
    "rfc.fit(X_train,y_train)"
   ]
  },
  {
   "cell_type": "code",
   "execution_count": 164,
   "metadata": {
    "scrolled": true
   },
   "outputs": [
    {
     "name": "stdout",
     "output_type": "stream",
     "text": [
      "Training Accuracy: 100.00%\n"
     ]
    }
   ],
   "source": [
    "#Training Accuracy\n",
    "forrest_training_accuracy = rfc.score(X_train, y_train)\n",
    "print('Training Accuracy: %.2f%%' % (forrest_training_accuracy*100.0))"
   ]
  },
  {
   "cell_type": "code",
   "execution_count": 165,
   "metadata": {},
   "outputs": [
    {
     "name": "stdout",
     "output_type": "stream",
     "text": [
      "Validation Accuracy: 51.44%\n"
     ]
    }
   ],
   "source": [
    "#Validation Accuracy\n",
    "forrest_validation_accuracy = rfc.score(X_val, y_val)\n",
    "print('Validation Accuracy: %.2f%%' % (forrest_validation_accuracy*100.0))"
   ]
  },
  {
   "cell_type": "markdown",
   "metadata": {},
   "source": [
    "From the above training and validation metrics we can see that the model is overfitting the training data. This means that generalization cannot occur. We will now move into the hyperparameter tuning stage."
   ]
  },
  {
   "cell_type": "code",
   "execution_count": 166,
   "metadata": {},
   "outputs": [
    {
     "name": "stdout",
     "output_type": "stream",
     "text": [
      "Validation Accuracy: 52.66%\n"
     ]
    }
   ],
   "source": [
    "#Testing Accuracy\n",
    "forrest_testing_accuracy = rfc.score(X_test, y_test)\n",
    "print('Validation Accuracy: %.2f%%' % (forrest_testing_accuracy*100.0))"
   ]
  },
  {
   "cell_type": "markdown",
   "metadata": {},
   "source": [
    "# Logistic Regression"
   ]
  },
  {
   "cell_type": "code",
   "execution_count": 167,
   "metadata": {},
   "outputs": [
    {
     "data": {
      "text/plain": [
       "LogisticRegression(C=1.0, class_weight=None, dual=False, fit_intercept=True,\n",
       "          intercept_scaling=1, max_iter=100, multi_class='ovr', n_jobs=1,\n",
       "          penalty='l2', random_state=None, solver='liblinear', tol=0.0001,\n",
       "          verbose=0, warm_start=False)"
      ]
     },
     "execution_count": 167,
     "metadata": {},
     "output_type": "execute_result"
    }
   ],
   "source": [
    "log_clf = LogisticRegression()\n",
    "log_clf.fit(X_train,y_train)"
   ]
  },
  {
   "cell_type": "code",
   "execution_count": 168,
   "metadata": {},
   "outputs": [
    {
     "name": "stdout",
     "output_type": "stream",
     "text": [
      "Training Accuracy: 54.88%\n"
     ]
    }
   ],
   "source": [
    "#Training Accuracy\n",
    "log_training_accuracy = log_clf.score(X_train, y_train)\n",
    "print('Training Accuracy: %.2f%%' % (log_training_accuracy*100.0))"
   ]
  },
  {
   "cell_type": "code",
   "execution_count": 169,
   "metadata": {},
   "outputs": [
    {
     "name": "stdout",
     "output_type": "stream",
     "text": [
      "Validation Accuracy: 50.37%\n"
     ]
    }
   ],
   "source": [
    "#Validation Accuracy\n",
    "log_validation_accuracy = log_clf.score(X_val, y_val)\n",
    "print('Validation Accuracy: %.2f%%' % (log_validation_accuracy*100.0))"
   ]
  },
  {
   "cell_type": "code",
   "execution_count": 170,
   "metadata": {},
   "outputs": [
    {
     "name": "stdout",
     "output_type": "stream",
     "text": [
      "Validation Accuracy: 51.59%\n"
     ]
    }
   ],
   "source": [
    "#Testing Accuracy\n",
    "log_testing_accuracy = log_clf.score(X_test, y_test)\n",
    "print('Validation Accuracy: %.2f%%' % (log_testing_accuracy*100.0))"
   ]
  },
  {
   "cell_type": "markdown",
   "metadata": {},
   "source": [
    "# AdaBoost Classifier"
   ]
  },
  {
   "cell_type": "code",
   "execution_count": 171,
   "metadata": {},
   "outputs": [],
   "source": [
    "adaboost_clf = AdaBoostClassifier()\n",
    "adaboost_mean_cv_score = np.mean(cross_val_score(adaboost_clf, X_train, y_train, cv=3))\n",
    "\n",
    "adaboost_param_grid = {\n",
    "    'n_estimators': [50, 100],\n",
    "    'learning_rate': [0.1]\n",
    "}"
   ]
  },
  {
   "cell_type": "code",
   "execution_count": 172,
   "metadata": {},
   "outputs": [
    {
     "name": "stdout",
     "output_type": "stream",
     "text": [
      "Training Accuracy: 54.85%\n",
      "\n",
      "Optimal Parameters: {'learning_rate': 0.1, 'n_estimators': 50}\n"
     ]
    }
   ],
   "source": [
    "adaboost_grid_search = GridSearchCV(adaboost_clf, adaboost_param_grid, cv=3)\n",
    "adaboost_grid_search.fit(X_train, y_train)\n",
    "\n",
    "print(\"Training Accuracy: {:.4}%\".format(adaboost_grid_search.best_score_ * 100))\n",
    "print(\"\")\n",
    "print(\"Optimal Parameters: {}\".format(adaboost_grid_search.best_params_))"
   ]
  },
  {
   "cell_type": "code",
   "execution_count": 175,
   "metadata": {},
   "outputs": [
    {
     "name": "stdout",
     "output_type": "stream",
     "text": [
      "Training Accuracy: 54.99%\n"
     ]
    }
   ],
   "source": [
    "#Training Accuracy\n",
    "ada_training_accuracy = adaboost_grid_search.score(X_train, y_train)\n",
    "print('Training Accuracy: %.2f%%' % (ada_training_accuracy*100.0))"
   ]
  },
  {
   "cell_type": "code",
   "execution_count": 176,
   "metadata": {},
   "outputs": [
    {
     "name": "stdout",
     "output_type": "stream",
     "text": [
      "Validation Accuracy: 50.33%\n"
     ]
    }
   ],
   "source": [
    "#Validation Accuracy\n",
    "ada_validation_accuracy = adaboost_grid_search.score(X_val, y_val)\n",
    "print('Validation Accuracy: %.2f%%' % (ada_validation_accuracy*100.0))"
   ]
  },
  {
   "cell_type": "code",
   "execution_count": 178,
   "metadata": {},
   "outputs": [
    {
     "name": "stdout",
     "output_type": "stream",
     "text": [
      "Testing Accuracy: 51.64%\n"
     ]
    }
   ],
   "source": [
    "#Testing Accuracy\n",
    "ada_testing_accuracy = adaboost_grid_search.score(X_test, y_test)\n",
    "print('Testing Accuracy: %.2f%%' % (ada_testing_accuracy*100.0))"
   ]
  },
  {
   "cell_type": "markdown",
   "metadata": {},
   "source": [
    "# XGBoost Classifier"
   ]
  },
  {
   "cell_type": "code",
   "execution_count": 179,
   "metadata": {},
   "outputs": [],
   "source": [
    "import xgboost as xgb"
   ]
  },
  {
   "cell_type": "code",
   "execution_count": 180,
   "metadata": {},
   "outputs": [],
   "source": [
    "param_grid = {\n",
    "    \"learning_rate\": [0.1],\n",
    "    'max_depth': [6, 15],\n",
    "    'min_child_weight': [10],\n",
    "    'subsample': [ 0.7],\n",
    "    'n_estimators': [5, 30, 100, 250],\n",
    "}"
   ]
  },
  {
   "cell_type": "code",
   "execution_count": 181,
   "metadata": {
    "scrolled": false
   },
   "outputs": [
    {
     "name": "stderr",
     "output_type": "stream",
     "text": [
      "/Users/shachiakyaagba/anaconda3/lib/python3.6/site-packages/sklearn/preprocessing/label.py:151: DeprecationWarning: The truth value of an empty array is ambiguous. Returning False, but in future this will result in an error. Use `array.size > 0` to check that an array is not empty.\n",
      "  if diff:\n",
      "/Users/shachiakyaagba/anaconda3/lib/python3.6/site-packages/sklearn/preprocessing/label.py:151: DeprecationWarning: The truth value of an empty array is ambiguous. Returning False, but in future this will result in an error. Use `array.size > 0` to check that an array is not empty.\n",
      "  if diff:\n",
      "/Users/shachiakyaagba/anaconda3/lib/python3.6/site-packages/sklearn/preprocessing/label.py:151: DeprecationWarning: The truth value of an empty array is ambiguous. Returning False, but in future this will result in an error. Use `array.size > 0` to check that an array is not empty.\n",
      "  if diff:\n",
      "/Users/shachiakyaagba/anaconda3/lib/python3.6/site-packages/sklearn/preprocessing/label.py:151: DeprecationWarning: The truth value of an empty array is ambiguous. Returning False, but in future this will result in an error. Use `array.size > 0` to check that an array is not empty.\n",
      "  if diff:\n",
      "/Users/shachiakyaagba/anaconda3/lib/python3.6/site-packages/sklearn/preprocessing/label.py:151: DeprecationWarning: The truth value of an empty array is ambiguous. Returning False, but in future this will result in an error. Use `array.size > 0` to check that an array is not empty.\n",
      "  if diff:\n",
      "/Users/shachiakyaagba/anaconda3/lib/python3.6/site-packages/sklearn/preprocessing/label.py:151: DeprecationWarning: The truth value of an empty array is ambiguous. Returning False, but in future this will result in an error. Use `array.size > 0` to check that an array is not empty.\n",
      "  if diff:\n",
      "/Users/shachiakyaagba/anaconda3/lib/python3.6/site-packages/sklearn/preprocessing/label.py:151: DeprecationWarning: The truth value of an empty array is ambiguous. Returning False, but in future this will result in an error. Use `array.size > 0` to check that an array is not empty.\n",
      "  if diff:\n",
      "/Users/shachiakyaagba/anaconda3/lib/python3.6/site-packages/sklearn/preprocessing/label.py:151: DeprecationWarning: The truth value of an empty array is ambiguous. Returning False, but in future this will result in an error. Use `array.size > 0` to check that an array is not empty.\n",
      "  if diff:\n",
      "/Users/shachiakyaagba/anaconda3/lib/python3.6/site-packages/sklearn/preprocessing/label.py:151: DeprecationWarning: The truth value of an empty array is ambiguous. Returning False, but in future this will result in an error. Use `array.size > 0` to check that an array is not empty.\n",
      "  if diff:\n",
      "/Users/shachiakyaagba/anaconda3/lib/python3.6/site-packages/sklearn/preprocessing/label.py:151: DeprecationWarning: The truth value of an empty array is ambiguous. Returning False, but in future this will result in an error. Use `array.size > 0` to check that an array is not empty.\n",
      "  if diff:\n",
      "/Users/shachiakyaagba/anaconda3/lib/python3.6/site-packages/sklearn/preprocessing/label.py:151: DeprecationWarning: The truth value of an empty array is ambiguous. Returning False, but in future this will result in an error. Use `array.size > 0` to check that an array is not empty.\n",
      "  if diff:\n",
      "/Users/shachiakyaagba/anaconda3/lib/python3.6/site-packages/sklearn/preprocessing/label.py:151: DeprecationWarning: The truth value of an empty array is ambiguous. Returning False, but in future this will result in an error. Use `array.size > 0` to check that an array is not empty.\n",
      "  if diff:\n",
      "/Users/shachiakyaagba/anaconda3/lib/python3.6/site-packages/sklearn/preprocessing/label.py:151: DeprecationWarning: The truth value of an empty array is ambiguous. Returning False, but in future this will result in an error. Use `array.size > 0` to check that an array is not empty.\n",
      "  if diff:\n",
      "/Users/shachiakyaagba/anaconda3/lib/python3.6/site-packages/sklearn/preprocessing/label.py:151: DeprecationWarning: The truth value of an empty array is ambiguous. Returning False, but in future this will result in an error. Use `array.size > 0` to check that an array is not empty.\n",
      "  if diff:\n",
      "/Users/shachiakyaagba/anaconda3/lib/python3.6/site-packages/sklearn/preprocessing/label.py:151: DeprecationWarning: The truth value of an empty array is ambiguous. Returning False, but in future this will result in an error. Use `array.size > 0` to check that an array is not empty.\n",
      "  if diff:\n",
      "/Users/shachiakyaagba/anaconda3/lib/python3.6/site-packages/sklearn/preprocessing/label.py:151: DeprecationWarning: The truth value of an empty array is ambiguous. Returning False, but in future this will result in an error. Use `array.size > 0` to check that an array is not empty.\n",
      "  if diff:\n",
      "/Users/shachiakyaagba/anaconda3/lib/python3.6/site-packages/sklearn/preprocessing/label.py:151: DeprecationWarning: The truth value of an empty array is ambiguous. Returning False, but in future this will result in an error. Use `array.size > 0` to check that an array is not empty.\n",
      "  if diff:\n",
      "/Users/shachiakyaagba/anaconda3/lib/python3.6/site-packages/sklearn/preprocessing/label.py:151: DeprecationWarning: The truth value of an empty array is ambiguous. Returning False, but in future this will result in an error. Use `array.size > 0` to check that an array is not empty.\n",
      "  if diff:\n",
      "/Users/shachiakyaagba/anaconda3/lib/python3.6/site-packages/sklearn/preprocessing/label.py:151: DeprecationWarning: The truth value of an empty array is ambiguous. Returning False, but in future this will result in an error. Use `array.size > 0` to check that an array is not empty.\n",
      "  if diff:\n",
      "/Users/shachiakyaagba/anaconda3/lib/python3.6/site-packages/sklearn/preprocessing/label.py:151: DeprecationWarning: The truth value of an empty array is ambiguous. Returning False, but in future this will result in an error. Use `array.size > 0` to check that an array is not empty.\n",
      "  if diff:\n",
      "/Users/shachiakyaagba/anaconda3/lib/python3.6/site-packages/sklearn/preprocessing/label.py:151: DeprecationWarning: The truth value of an empty array is ambiguous. Returning False, but in future this will result in an error. Use `array.size > 0` to check that an array is not empty.\n",
      "  if diff:\n",
      "/Users/shachiakyaagba/anaconda3/lib/python3.6/site-packages/sklearn/preprocessing/label.py:151: DeprecationWarning: The truth value of an empty array is ambiguous. Returning False, but in future this will result in an error. Use `array.size > 0` to check that an array is not empty.\n",
      "  if diff:\n",
      "/Users/shachiakyaagba/anaconda3/lib/python3.6/site-packages/sklearn/preprocessing/label.py:151: DeprecationWarning: The truth value of an empty array is ambiguous. Returning False, but in future this will result in an error. Use `array.size > 0` to check that an array is not empty.\n",
      "  if diff:\n",
      "/Users/shachiakyaagba/anaconda3/lib/python3.6/site-packages/sklearn/preprocessing/label.py:151: DeprecationWarning: The truth value of an empty array is ambiguous. Returning False, but in future this will result in an error. Use `array.size > 0` to check that an array is not empty.\n",
      "  if diff:\n",
      "/Users/shachiakyaagba/anaconda3/lib/python3.6/site-packages/sklearn/preprocessing/label.py:151: DeprecationWarning: The truth value of an empty array is ambiguous. Returning False, but in future this will result in an error. Use `array.size > 0` to check that an array is not empty.\n",
      "  if diff:\n",
      "/Users/shachiakyaagba/anaconda3/lib/python3.6/site-packages/sklearn/preprocessing/label.py:151: DeprecationWarning: The truth value of an empty array is ambiguous. Returning False, but in future this will result in an error. Use `array.size > 0` to check that an array is not empty.\n",
      "  if diff:\n",
      "/Users/shachiakyaagba/anaconda3/lib/python3.6/site-packages/sklearn/preprocessing/label.py:151: DeprecationWarning: The truth value of an empty array is ambiguous. Returning False, but in future this will result in an error. Use `array.size > 0` to check that an array is not empty.\n",
      "  if diff:\n",
      "/Users/shachiakyaagba/anaconda3/lib/python3.6/site-packages/sklearn/preprocessing/label.py:151: DeprecationWarning: The truth value of an empty array is ambiguous. Returning False, but in future this will result in an error. Use `array.size > 0` to check that an array is not empty.\n",
      "  if diff:\n"
     ]
    },
    {
     "name": "stderr",
     "output_type": "stream",
     "text": [
      "/Users/shachiakyaagba/anaconda3/lib/python3.6/site-packages/sklearn/preprocessing/label.py:151: DeprecationWarning: The truth value of an empty array is ambiguous. Returning False, but in future this will result in an error. Use `array.size > 0` to check that an array is not empty.\n",
      "  if diff:\n",
      "/Users/shachiakyaagba/anaconda3/lib/python3.6/site-packages/sklearn/preprocessing/label.py:151: DeprecationWarning: The truth value of an empty array is ambiguous. Returning False, but in future this will result in an error. Use `array.size > 0` to check that an array is not empty.\n",
      "  if diff:\n",
      "/Users/shachiakyaagba/anaconda3/lib/python3.6/site-packages/sklearn/preprocessing/label.py:151: DeprecationWarning: The truth value of an empty array is ambiguous. Returning False, but in future this will result in an error. Use `array.size > 0` to check that an array is not empty.\n",
      "  if diff:\n",
      "/Users/shachiakyaagba/anaconda3/lib/python3.6/site-packages/sklearn/preprocessing/label.py:151: DeprecationWarning: The truth value of an empty array is ambiguous. Returning False, but in future this will result in an error. Use `array.size > 0` to check that an array is not empty.\n",
      "  if diff:\n",
      "/Users/shachiakyaagba/anaconda3/lib/python3.6/site-packages/sklearn/preprocessing/label.py:151: DeprecationWarning: The truth value of an empty array is ambiguous. Returning False, but in future this will result in an error. Use `array.size > 0` to check that an array is not empty.\n",
      "  if diff:\n",
      "/Users/shachiakyaagba/anaconda3/lib/python3.6/site-packages/sklearn/preprocessing/label.py:151: DeprecationWarning: The truth value of an empty array is ambiguous. Returning False, but in future this will result in an error. Use `array.size > 0` to check that an array is not empty.\n",
      "  if diff:\n",
      "/Users/shachiakyaagba/anaconda3/lib/python3.6/site-packages/sklearn/preprocessing/label.py:151: DeprecationWarning: The truth value of an empty array is ambiguous. Returning False, but in future this will result in an error. Use `array.size > 0` to check that an array is not empty.\n",
      "  if diff:\n",
      "/Users/shachiakyaagba/anaconda3/lib/python3.6/site-packages/sklearn/preprocessing/label.py:151: DeprecationWarning: The truth value of an empty array is ambiguous. Returning False, but in future this will result in an error. Use `array.size > 0` to check that an array is not empty.\n",
      "  if diff:\n",
      "/Users/shachiakyaagba/anaconda3/lib/python3.6/site-packages/sklearn/preprocessing/label.py:151: DeprecationWarning: The truth value of an empty array is ambiguous. Returning False, but in future this will result in an error. Use `array.size > 0` to check that an array is not empty.\n",
      "  if diff:\n",
      "/Users/shachiakyaagba/anaconda3/lib/python3.6/site-packages/sklearn/preprocessing/label.py:151: DeprecationWarning: The truth value of an empty array is ambiguous. Returning False, but in future this will result in an error. Use `array.size > 0` to check that an array is not empty.\n",
      "  if diff:\n",
      "/Users/shachiakyaagba/anaconda3/lib/python3.6/site-packages/sklearn/preprocessing/label.py:151: DeprecationWarning: The truth value of an empty array is ambiguous. Returning False, but in future this will result in an error. Use `array.size > 0` to check that an array is not empty.\n",
      "  if diff:\n",
      "/Users/shachiakyaagba/anaconda3/lib/python3.6/site-packages/sklearn/preprocessing/label.py:151: DeprecationWarning: The truth value of an empty array is ambiguous. Returning False, but in future this will result in an error. Use `array.size > 0` to check that an array is not empty.\n",
      "  if diff:\n",
      "/Users/shachiakyaagba/anaconda3/lib/python3.6/site-packages/sklearn/preprocessing/label.py:151: DeprecationWarning: The truth value of an empty array is ambiguous. Returning False, but in future this will result in an error. Use `array.size > 0` to check that an array is not empty.\n",
      "  if diff:\n",
      "/Users/shachiakyaagba/anaconda3/lib/python3.6/site-packages/sklearn/preprocessing/label.py:151: DeprecationWarning: The truth value of an empty array is ambiguous. Returning False, but in future this will result in an error. Use `array.size > 0` to check that an array is not empty.\n",
      "  if diff:\n",
      "/Users/shachiakyaagba/anaconda3/lib/python3.6/site-packages/sklearn/preprocessing/label.py:151: DeprecationWarning: The truth value of an empty array is ambiguous. Returning False, but in future this will result in an error. Use `array.size > 0` to check that an array is not empty.\n",
      "  if diff:\n",
      "/Users/shachiakyaagba/anaconda3/lib/python3.6/site-packages/sklearn/preprocessing/label.py:151: DeprecationWarning: The truth value of an empty array is ambiguous. Returning False, but in future this will result in an error. Use `array.size > 0` to check that an array is not empty.\n",
      "  if diff:\n",
      "/Users/shachiakyaagba/anaconda3/lib/python3.6/site-packages/sklearn/preprocessing/label.py:151: DeprecationWarning: The truth value of an empty array is ambiguous. Returning False, but in future this will result in an error. Use `array.size > 0` to check that an array is not empty.\n",
      "  if diff:\n",
      "/Users/shachiakyaagba/anaconda3/lib/python3.6/site-packages/sklearn/preprocessing/label.py:151: DeprecationWarning: The truth value of an empty array is ambiguous. Returning False, but in future this will result in an error. Use `array.size > 0` to check that an array is not empty.\n",
      "  if diff:\n",
      "/Users/shachiakyaagba/anaconda3/lib/python3.6/site-packages/sklearn/preprocessing/label.py:151: DeprecationWarning: The truth value of an empty array is ambiguous. Returning False, but in future this will result in an error. Use `array.size > 0` to check that an array is not empty.\n",
      "  if diff:\n",
      "/Users/shachiakyaagba/anaconda3/lib/python3.6/site-packages/sklearn/preprocessing/label.py:151: DeprecationWarning: The truth value of an empty array is ambiguous. Returning False, but in future this will result in an error. Use `array.size > 0` to check that an array is not empty.\n",
      "  if diff:\n"
     ]
    },
    {
     "name": "stdout",
     "output_type": "stream",
     "text": [
      "Grid Search found the following optimal parameters: \n",
      "learning_rate: 0.1\n",
      "max_depth: 6\n",
      "min_child_weight: 10\n",
      "n_estimators: 30\n",
      "subsample: 0.7\n"
     ]
    }
   ],
   "source": [
    "clf = xgb.XGBClassifier()\n",
    "grid_clf = GridSearchCV(clf, param_grid, scoring='accuracy', cv=None, n_jobs=1)\n",
    "grid_clf.fit(X_train, y_train)\n",
    "\n",
    "best_parameters = grid_clf.best_params_\n",
    "\n",
    "print(\"Grid Search found the following optimal parameters: \")\n",
    "for param_name in sorted(best_parameters.keys()):\n",
    "    print(\"%s: %r\" % (param_name, best_parameters[param_name]))"
   ]
  },
  {
   "cell_type": "code",
   "execution_count": 186,
   "metadata": {},
   "outputs": [
    {
     "name": "stdout",
     "output_type": "stream",
     "text": [
      "Training Accuracy: 57.80%\n"
     ]
    },
    {
     "name": "stderr",
     "output_type": "stream",
     "text": [
      "/Users/shachiakyaagba/anaconda3/lib/python3.6/site-packages/sklearn/preprocessing/label.py:151: DeprecationWarning: The truth value of an empty array is ambiguous. Returning False, but in future this will result in an error. Use `array.size > 0` to check that an array is not empty.\n",
      "  if diff:\n"
     ]
    }
   ],
   "source": [
    "#Training Accuracy\n",
    "training_accuracy = grid_clf.score(X_train, y_train)\n",
    "print('Training Accuracy: %.2f%%' % (training_accuracy*100.0))"
   ]
  },
  {
   "cell_type": "code",
   "execution_count": 187,
   "metadata": {},
   "outputs": [
    {
     "name": "stdout",
     "output_type": "stream",
     "text": [
      "Validation Accuracy: 51.32%\n"
     ]
    },
    {
     "name": "stderr",
     "output_type": "stream",
     "text": [
      "/Users/shachiakyaagba/anaconda3/lib/python3.6/site-packages/sklearn/preprocessing/label.py:151: DeprecationWarning: The truth value of an empty array is ambiguous. Returning False, but in future this will result in an error. Use `array.size > 0` to check that an array is not empty.\n",
      "  if diff:\n"
     ]
    }
   ],
   "source": [
    "#Validation Accuracy\n",
    "validation_accuracy = grid_clf.score(X_val, y_val)\n",
    "print('Validation Accuracy: %.2f%%' % (validation_accuracy*100.0))"
   ]
  },
  {
   "cell_type": "code",
   "execution_count": 188,
   "metadata": {},
   "outputs": [
    {
     "name": "stdout",
     "output_type": "stream",
     "text": [
      "Testing Accuracy: 52.32%\n"
     ]
    },
    {
     "name": "stderr",
     "output_type": "stream",
     "text": [
      "/Users/shachiakyaagba/anaconda3/lib/python3.6/site-packages/sklearn/preprocessing/label.py:151: DeprecationWarning: The truth value of an empty array is ambiguous. Returning False, but in future this will result in an error. Use `array.size > 0` to check that an array is not empty.\n",
      "  if diff:\n"
     ]
    }
   ],
   "source": [
    "#Testing Accuracy\n",
    "testing_accuracy = grid_clf.score(X_test, y_test)\n",
    "print('Testing Accuracy: %.2f%%' % (testing_accuracy*100.0))"
   ]
  },
  {
   "cell_type": "markdown",
   "metadata": {},
   "source": [
    "# Long Short Term Memory Classifier (LSTM)"
   ]
  },
  {
   "cell_type": "code",
   "execution_count": 243,
   "metadata": {},
   "outputs": [],
   "source": [
    "# split a multivariate sequence into samples\n",
    "def split_sequences(sequences, n_steps):\n",
    "    X, y = list(), list()\n",
    "    for i in range(len(sequences)):\n",
    "        # find the end of this pattern\n",
    "        end_ix = i + n_steps\n",
    "        # check if we are beyond the dataset\n",
    "        if end_ix > len(sequences):\n",
    "            break\n",
    "        # gather input and output parts of the pattern\n",
    "        seq_x, seq_y = sequences[i:end_ix, :-1], sequences[end_ix-1, -1]\n",
    "        X.append(seq_x)\n",
    "        y.append(seq_y)\n",
    "    return np.array(X), np.array(y)"
   ]
  },
  {
   "cell_type": "code",
   "execution_count": 244,
   "metadata": {
    "scrolled": true
   },
   "outputs": [],
   "source": [
    "# choose a number of time steps\n",
    "n_steps = 10\n",
    "n_features = 4"
   ]
  },
  {
   "cell_type": "code",
   "execution_count": 245,
   "metadata": {},
   "outputs": [
    {
     "name": "stdout",
     "output_type": "stream",
     "text": [
      "(61317, 10, 4) (61317,)\n"
     ]
    }
   ],
   "source": [
    "# convert training data into input/output\n",
    "X, y = split_sequences(train, n_steps)\n",
    "print(X.shape, y.shape)"
   ]
  },
  {
   "cell_type": "code",
   "execution_count": 246,
   "metadata": {},
   "outputs": [
    {
     "name": "stdout",
     "output_type": "stream",
     "text": [
      "(30654, 10, 4) (30654,)\n"
     ]
    }
   ],
   "source": [
    "# convert validation data into input/output\n",
    "val_input, val_target = split_sequences(val, n_steps)\n",
    "print(val_input.shape, val_target.shape)"
   ]
  },
  {
   "cell_type": "code",
   "execution_count": 247,
   "metadata": {},
   "outputs": [
    {
     "name": "stdout",
     "output_type": "stream",
     "text": [
      "(10213, 10, 4) (10213,)\n"
     ]
    }
   ],
   "source": [
    "# convert testing data into input/output\n",
    "test_input, test_target = split_sequences(test, n_steps)\n",
    "print(test_input.shape, test_target.shape)"
   ]
  },
  {
   "cell_type": "code",
   "execution_count": 248,
   "metadata": {},
   "outputs": [],
   "source": [
    "from keras.models import Sequential\n",
    "from keras.layers import Dense\n",
    "from keras.layers import LSTM\n",
    "from keras.layers import Dropout\n",
    "from keras.layers import Flatten"
   ]
  },
  {
   "cell_type": "code",
   "execution_count": 249,
   "metadata": {},
   "outputs": [],
   "source": [
    "\n",
    "# define model\n",
    "model = Sequential()\n",
    "model.add(LSTM(10, activation='relu', input_shape=(n_steps, n_features)))\n",
    "model.add(Dropout(0.3))\n",
    "model.add(Dense(10, activation = 'relu'))\n",
    "model.add(Dropout(0.3))\n",
    "model.add(Dense(5, activation = 'relu'))\n",
    "model.add(Dense(1, activation = 'sigmoid'))\n",
    "model.compile(optimizer='adam', loss='binary_crossentropy', metrics = ['accuracy'])\n"
   ]
  },
  {
   "cell_type": "code",
   "execution_count": 250,
   "metadata": {
    "scrolled": false
   },
   "outputs": [
    {
     "name": "stdout",
     "output_type": "stream",
     "text": [
      "Train on 61317 samples, validate on 30654 samples\n",
      "Epoch 1/800\n",
      "61317/61317 [==============================] - 28s 450us/step - loss: 0.6873 - acc: 0.5556 - val_loss: 0.6973 - val_acc: 0.5049\n",
      "Epoch 2/800\n",
      "61317/61317 [==============================] - 26s 418us/step - loss: 0.6870 - acc: 0.5557 - val_loss: 0.6993 - val_acc: 0.5049\n",
      "Epoch 3/800\n",
      "61317/61317 [==============================] - 26s 419us/step - loss: 0.6871 - acc: 0.5557 - val_loss: 0.6981 - val_acc: 0.5049\n",
      "Epoch 4/800\n",
      "61317/61317 [==============================] - 26s 425us/step - loss: 0.6870 - acc: 0.5557 - val_loss: 0.6996 - val_acc: 0.5049\n",
      "Epoch 5/800\n",
      "61317/61317 [==============================] - 26s 422us/step - loss: 0.6870 - acc: 0.5557 - val_loss: 0.6974 - val_acc: 0.5049\n",
      "Epoch 6/800\n",
      "61317/61317 [==============================] - 26s 420us/step - loss: 0.6870 - acc: 0.5557 - val_loss: 0.6982 - val_acc: 0.5049\n",
      "Epoch 7/800\n",
      "42432/61317 [===================>..........] - ETA: 7s - loss: 0.6863 - acc: 0.5585"
     ]
    },
    {
     "ename": "KeyboardInterrupt",
     "evalue": "",
     "output_type": "error",
     "traceback": [
      "\u001b[0;31m---------------------------------------------------------------------------\u001b[0m",
      "\u001b[0;31mKeyboardInterrupt\u001b[0m                         Traceback (most recent call last)",
      "\u001b[0;32m<ipython-input-250-6000474abe88>\u001b[0m in \u001b[0;36m<module>\u001b[0;34m()\u001b[0m\n\u001b[1;32m      1\u001b[0m \u001b[0;31m# fit model\u001b[0m\u001b[0;34m\u001b[0m\u001b[0;34m\u001b[0m\u001b[0m\n\u001b[0;32m----> 2\u001b[0;31m \u001b[0mhistory\u001b[0m \u001b[0;34m=\u001b[0m \u001b[0mmodel\u001b[0m\u001b[0;34m.\u001b[0m\u001b[0mfit\u001b[0m\u001b[0;34m(\u001b[0m\u001b[0mX\u001b[0m\u001b[0;34m,\u001b[0m \u001b[0my\u001b[0m\u001b[0;34m,\u001b[0m \u001b[0mepochs\u001b[0m\u001b[0;34m=\u001b[0m\u001b[0;36m800\u001b[0m\u001b[0;34m,\u001b[0m \u001b[0mverbose\u001b[0m\u001b[0;34m=\u001b[0m\u001b[0;36m1\u001b[0m\u001b[0;34m,\u001b[0m \u001b[0mbatch_size\u001b[0m\u001b[0;34m=\u001b[0m\u001b[0;32mNone\u001b[0m\u001b[0;34m,\u001b[0m \u001b[0mvalidation_data\u001b[0m \u001b[0;34m=\u001b[0m \u001b[0;34m(\u001b[0m\u001b[0mval_input\u001b[0m\u001b[0;34m,\u001b[0m \u001b[0mval_target\u001b[0m\u001b[0;34m)\u001b[0m\u001b[0;34m)\u001b[0m\u001b[0;34m\u001b[0m\u001b[0m\n\u001b[0m\u001b[1;32m      3\u001b[0m \u001b[0mplt\u001b[0m\u001b[0;34m.\u001b[0m\u001b[0mplot\u001b[0m\u001b[0;34m(\u001b[0m\u001b[0mhistory\u001b[0m\u001b[0;34m.\u001b[0m\u001b[0mhistory\u001b[0m\u001b[0;34m[\u001b[0m\u001b[0;34m'loss'\u001b[0m\u001b[0;34m]\u001b[0m\u001b[0;34m)\u001b[0m\u001b[0;34m\u001b[0m\u001b[0m\n\u001b[1;32m      4\u001b[0m \u001b[0mplt\u001b[0m\u001b[0;34m.\u001b[0m\u001b[0mplot\u001b[0m\u001b[0;34m(\u001b[0m\u001b[0mhistory\u001b[0m\u001b[0;34m.\u001b[0m\u001b[0mhistory\u001b[0m\u001b[0;34m[\u001b[0m\u001b[0;34m'val_loss'\u001b[0m\u001b[0;34m]\u001b[0m\u001b[0;34m)\u001b[0m\u001b[0;34m\u001b[0m\u001b[0m\n\u001b[1;32m      5\u001b[0m \u001b[0mplt\u001b[0m\u001b[0;34m.\u001b[0m\u001b[0mtitle\u001b[0m\u001b[0;34m(\u001b[0m\u001b[0;34m'model train vs validation loss'\u001b[0m\u001b[0;34m)\u001b[0m\u001b[0;34m\u001b[0m\u001b[0m\n",
      "\u001b[0;32m~/anaconda3/lib/python3.6/site-packages/keras/engine/training.py\u001b[0m in \u001b[0;36mfit\u001b[0;34m(self, x, y, batch_size, epochs, verbose, callbacks, validation_split, validation_data, shuffle, class_weight, sample_weight, initial_epoch, steps_per_epoch, validation_steps, **kwargs)\u001b[0m\n\u001b[1;32m   1035\u001b[0m                                         \u001b[0minitial_epoch\u001b[0m\u001b[0;34m=\u001b[0m\u001b[0minitial_epoch\u001b[0m\u001b[0;34m,\u001b[0m\u001b[0;34m\u001b[0m\u001b[0m\n\u001b[1;32m   1036\u001b[0m                                         \u001b[0msteps_per_epoch\u001b[0m\u001b[0;34m=\u001b[0m\u001b[0msteps_per_epoch\u001b[0m\u001b[0;34m,\u001b[0m\u001b[0;34m\u001b[0m\u001b[0m\n\u001b[0;32m-> 1037\u001b[0;31m                                         validation_steps=validation_steps)\n\u001b[0m\u001b[1;32m   1038\u001b[0m \u001b[0;34m\u001b[0m\u001b[0m\n\u001b[1;32m   1039\u001b[0m     def evaluate(self, x=None, y=None,\n",
      "\u001b[0;32m~/anaconda3/lib/python3.6/site-packages/keras/engine/training_arrays.py\u001b[0m in \u001b[0;36mfit_loop\u001b[0;34m(model, f, ins, out_labels, batch_size, epochs, verbose, callbacks, val_f, val_ins, shuffle, callback_metrics, initial_epoch, steps_per_epoch, validation_steps)\u001b[0m\n\u001b[1;32m    197\u001b[0m                     \u001b[0mins_batch\u001b[0m\u001b[0;34m[\u001b[0m\u001b[0mi\u001b[0m\u001b[0;34m]\u001b[0m \u001b[0;34m=\u001b[0m \u001b[0mins_batch\u001b[0m\u001b[0;34m[\u001b[0m\u001b[0mi\u001b[0m\u001b[0;34m]\u001b[0m\u001b[0;34m.\u001b[0m\u001b[0mtoarray\u001b[0m\u001b[0;34m(\u001b[0m\u001b[0;34m)\u001b[0m\u001b[0;34m\u001b[0m\u001b[0m\n\u001b[1;32m    198\u001b[0m \u001b[0;34m\u001b[0m\u001b[0m\n\u001b[0;32m--> 199\u001b[0;31m                 \u001b[0mouts\u001b[0m \u001b[0;34m=\u001b[0m \u001b[0mf\u001b[0m\u001b[0;34m(\u001b[0m\u001b[0mins_batch\u001b[0m\u001b[0;34m)\u001b[0m\u001b[0;34m\u001b[0m\u001b[0m\n\u001b[0m\u001b[1;32m    200\u001b[0m                 \u001b[0mouts\u001b[0m \u001b[0;34m=\u001b[0m \u001b[0mto_list\u001b[0m\u001b[0;34m(\u001b[0m\u001b[0mouts\u001b[0m\u001b[0;34m)\u001b[0m\u001b[0;34m\u001b[0m\u001b[0m\n\u001b[1;32m    201\u001b[0m                 \u001b[0;32mfor\u001b[0m \u001b[0ml\u001b[0m\u001b[0;34m,\u001b[0m \u001b[0mo\u001b[0m \u001b[0;32min\u001b[0m \u001b[0mzip\u001b[0m\u001b[0;34m(\u001b[0m\u001b[0mout_labels\u001b[0m\u001b[0;34m,\u001b[0m \u001b[0mouts\u001b[0m\u001b[0;34m)\u001b[0m\u001b[0;34m:\u001b[0m\u001b[0;34m\u001b[0m\u001b[0m\n",
      "\u001b[0;32m~/anaconda3/lib/python3.6/site-packages/keras/backend/tensorflow_backend.py\u001b[0m in \u001b[0;36m__call__\u001b[0;34m(self, inputs)\u001b[0m\n\u001b[1;32m   2657\u001b[0m     \u001b[0;32mdef\u001b[0m \u001b[0m__call__\u001b[0m\u001b[0;34m(\u001b[0m\u001b[0mself\u001b[0m\u001b[0;34m,\u001b[0m \u001b[0minputs\u001b[0m\u001b[0;34m)\u001b[0m\u001b[0;34m:\u001b[0m\u001b[0;34m\u001b[0m\u001b[0m\n\u001b[1;32m   2658\u001b[0m         \u001b[0;32mif\u001b[0m \u001b[0mhasattr\u001b[0m\u001b[0;34m(\u001b[0m\u001b[0mget_session\u001b[0m\u001b[0;34m(\u001b[0m\u001b[0;34m)\u001b[0m\u001b[0;34m,\u001b[0m \u001b[0;34m'_make_callable_from_options'\u001b[0m\u001b[0;34m)\u001b[0m\u001b[0;34m:\u001b[0m\u001b[0;34m\u001b[0m\u001b[0m\n\u001b[0;32m-> 2659\u001b[0;31m             \u001b[0;32mif\u001b[0m \u001b[0mpy_any\u001b[0m\u001b[0;34m(\u001b[0m\u001b[0mis_sparse\u001b[0m\u001b[0;34m(\u001b[0m\u001b[0mx\u001b[0m\u001b[0;34m)\u001b[0m \u001b[0;32mfor\u001b[0m \u001b[0mx\u001b[0m \u001b[0;32min\u001b[0m \u001b[0mself\u001b[0m\u001b[0;34m.\u001b[0m\u001b[0minputs\u001b[0m\u001b[0;34m)\u001b[0m\u001b[0;34m:\u001b[0m\u001b[0;34m\u001b[0m\u001b[0m\n\u001b[0m\u001b[1;32m   2660\u001b[0m                 \u001b[0;32mif\u001b[0m \u001b[0mpy_any\u001b[0m\u001b[0;34m(\u001b[0m\u001b[0mis_tensor\u001b[0m\u001b[0;34m(\u001b[0m\u001b[0mx\u001b[0m\u001b[0;34m)\u001b[0m \u001b[0;32mfor\u001b[0m \u001b[0mx\u001b[0m \u001b[0;32min\u001b[0m \u001b[0minputs\u001b[0m\u001b[0;34m)\u001b[0m\u001b[0;34m:\u001b[0m\u001b[0;34m\u001b[0m\u001b[0m\n\u001b[1;32m   2661\u001b[0m                     raise ValueError(\n",
      "\u001b[0;31mKeyboardInterrupt\u001b[0m: "
     ]
    }
   ],
   "source": [
    "# fit model\n",
    "history = model.fit(X, y, epochs=800, verbose=1, batch_size=None, validation_data = (val_input, val_target))\n",
    "plt.plot(history.history['loss'])\n",
    "plt.plot(history.history['val_loss'])\n",
    "plt.title('model train vs validation loss')\n",
    "plt.ylabel('loss')\n",
    "plt.xlabel('epoch')\n",
    "plt.legend(['train', 'validation'], loc='upper right')\n",
    "plt.show()"
   ]
  },
  {
   "cell_type": "markdown",
   "metadata": {},
   "source": [
    "# Artificial Neural Network (ANN)"
   ]
  },
  {
   "cell_type": "code",
   "execution_count": 251,
   "metadata": {},
   "outputs": [],
   "source": [
    "dnn = Sequential()\n",
    "dnn.add(Dense(100, activation = 'relu'))\n",
    "dnn.add(Dropout(0.4))\n",
    "dnn.add(Dense(150, activation = 'tanh'))\n",
    "dnn.add(Dropout(0.4))\n",
    "dnn.add(Dense(1, activation = 'sigmoid'))\n",
    "dnn.compile(optimizer = 'adam', loss = 'binary_crossentropy', metrics = ['accuracy'])"
   ]
  },
  {
   "cell_type": "code",
   "execution_count": null,
   "metadata": {},
   "outputs": [
    {
     "name": "stdout",
     "output_type": "stream",
     "text": [
      "Train on 61323 samples, validate on 30660 samples\n",
      "Epoch 1/150\n",
      " - 5s - loss: 0.6868 - acc: 0.5556 - val_loss: 0.6932 - val_acc: 0.5050\n",
      "Epoch 2/150\n",
      " - 5s - loss: 0.6866 - acc: 0.5555 - val_loss: 0.6955 - val_acc: 0.5050\n",
      "Epoch 3/150\n",
      " - 5s - loss: 0.6868 - acc: 0.5557 - val_loss: 0.6965 - val_acc: 0.5050\n",
      "Epoch 4/150\n",
      " - 5s - loss: 0.6866 - acc: 0.5557 - val_loss: 0.6979 - val_acc: 0.5050\n",
      "Epoch 5/150\n",
      " - 5s - loss: 0.6866 - acc: 0.5556 - val_loss: 0.6978 - val_acc: 0.5050\n",
      "Epoch 6/150\n",
      " - 6s - loss: 0.6867 - acc: 0.5556 - val_loss: 0.6988 - val_acc: 0.5050\n",
      "Epoch 7/150\n",
      " - 5s - loss: 0.6866 - acc: 0.5556 - val_loss: 0.6963 - val_acc: 0.5050\n",
      "Epoch 8/150\n",
      " - 6s - loss: 0.6866 - acc: 0.5557 - val_loss: 0.6956 - val_acc: 0.5050\n",
      "Epoch 9/150\n",
      " - 5s - loss: 0.6866 - acc: 0.5557 - val_loss: 0.6956 - val_acc: 0.5050\n",
      "Epoch 10/150\n",
      " - 5s - loss: 0.6866 - acc: 0.5554 - val_loss: 0.6979 - val_acc: 0.5050\n",
      "Epoch 11/150\n",
      " - 5s - loss: 0.6866 - acc: 0.5552 - val_loss: 0.6965 - val_acc: 0.5050\n",
      "Epoch 12/150\n",
      " - 5s - loss: 0.6866 - acc: 0.5557 - val_loss: 0.6972 - val_acc: 0.5050\n",
      "Epoch 13/150\n",
      " - 6s - loss: 0.6866 - acc: 0.5556 - val_loss: 0.6941 - val_acc: 0.5050\n",
      "Epoch 14/150\n",
      " - 5s - loss: 0.6865 - acc: 0.5556 - val_loss: 0.6959 - val_acc: 0.5050\n",
      "Epoch 15/150\n",
      " - 5s - loss: 0.6865 - acc: 0.5553 - val_loss: 0.6942 - val_acc: 0.5050\n",
      "Epoch 16/150\n",
      " - 7s - loss: 0.6866 - acc: 0.5557 - val_loss: 0.6993 - val_acc: 0.5050\n",
      "Epoch 17/150\n",
      " - 6s - loss: 0.6865 - acc: 0.5556 - val_loss: 0.6968 - val_acc: 0.5050\n",
      "Epoch 18/150\n",
      " - 6s - loss: 0.6867 - acc: 0.5557 - val_loss: 0.6968 - val_acc: 0.5050\n",
      "Epoch 19/150\n",
      " - 7s - loss: 0.6864 - acc: 0.5556 - val_loss: 0.6988 - val_acc: 0.5050\n",
      "Epoch 20/150\n",
      " - 6s - loss: 0.6868 - acc: 0.5557 - val_loss: 0.6999 - val_acc: 0.5050\n",
      "Epoch 21/150\n",
      " - 6s - loss: 0.6866 - acc: 0.5556 - val_loss: 0.6961 - val_acc: 0.5050\n",
      "Epoch 22/150\n",
      " - 6s - loss: 0.6866 - acc: 0.5557 - val_loss: 0.6979 - val_acc: 0.5050\n",
      "Epoch 23/150\n",
      " - 6s - loss: 0.6865 - acc: 0.5557 - val_loss: 0.6964 - val_acc: 0.5050\n",
      "Epoch 24/150\n",
      " - 6s - loss: 0.6866 - acc: 0.5557 - val_loss: 0.6954 - val_acc: 0.5050\n",
      "Epoch 25/150\n",
      " - 5s - loss: 0.6866 - acc: 0.5558 - val_loss: 0.6947 - val_acc: 0.5050\n",
      "Epoch 26/150\n",
      " - 6s - loss: 0.6865 - acc: 0.5557 - val_loss: 0.6971 - val_acc: 0.5050\n",
      "Epoch 27/150\n",
      " - 6s - loss: 0.6867 - acc: 0.5557 - val_loss: 0.6964 - val_acc: 0.5050\n",
      "Epoch 28/150\n",
      " - 5s - loss: 0.6865 - acc: 0.5559 - val_loss: 0.6945 - val_acc: 0.5050\n",
      "Epoch 29/150\n",
      " - 6s - loss: 0.6866 - acc: 0.5558 - val_loss: 0.6982 - val_acc: 0.5050\n",
      "Epoch 30/150\n",
      " - 6s - loss: 0.6866 - acc: 0.5558 - val_loss: 0.6980 - val_acc: 0.5050\n",
      "Epoch 31/150\n",
      " - 6s - loss: 0.6865 - acc: 0.5558 - val_loss: 0.6974 - val_acc: 0.5050\n",
      "Epoch 32/150\n",
      " - 6s - loss: 0.6865 - acc: 0.5558 - val_loss: 0.6962 - val_acc: 0.5050\n",
      "Epoch 33/150\n",
      " - 6s - loss: 0.6866 - acc: 0.5558 - val_loss: 0.6947 - val_acc: 0.5051\n",
      "Epoch 34/150\n",
      " - 6s - loss: 0.6866 - acc: 0.5557 - val_loss: 0.6992 - val_acc: 0.5050\n",
      "Epoch 35/150\n",
      " - 6s - loss: 0.6865 - acc: 0.5557 - val_loss: 0.6983 - val_acc: 0.5050\n",
      "Epoch 36/150\n",
      " - 6s - loss: 0.6865 - acc: 0.5559 - val_loss: 0.6955 - val_acc: 0.5051\n",
      "Epoch 37/150\n",
      " - 6s - loss: 0.6864 - acc: 0.5557 - val_loss: 0.6957 - val_acc: 0.5050\n",
      "Epoch 38/150\n",
      " - 5s - loss: 0.6865 - acc: 0.5557 - val_loss: 0.6975 - val_acc: 0.5050\n",
      "Epoch 39/150\n",
      " - 6s - loss: 0.6864 - acc: 0.5557 - val_loss: 0.6949 - val_acc: 0.5052\n",
      "Epoch 40/150\n",
      " - 6s - loss: 0.6865 - acc: 0.5557 - val_loss: 0.6977 - val_acc: 0.5050\n",
      "Epoch 41/150\n",
      " - 5s - loss: 0.6865 - acc: 0.5551 - val_loss: 0.6967 - val_acc: 0.5050\n",
      "Epoch 42/150\n",
      " - 6s - loss: 0.6865 - acc: 0.5560 - val_loss: 0.6948 - val_acc: 0.5050\n",
      "Epoch 43/150\n",
      " - 6s - loss: 0.6864 - acc: 0.5558 - val_loss: 0.6997 - val_acc: 0.5050\n",
      "Epoch 44/150\n",
      " - 5s - loss: 0.6866 - acc: 0.5558 - val_loss: 0.6968 - val_acc: 0.5050\n",
      "Epoch 45/150\n",
      " - 6s - loss: 0.6864 - acc: 0.5557 - val_loss: 0.6970 - val_acc: 0.5050\n",
      "Epoch 46/150\n",
      " - 5s - loss: 0.6864 - acc: 0.5552 - val_loss: 0.6942 - val_acc: 0.5056\n",
      "Epoch 47/150\n",
      " - 6s - loss: 0.6864 - acc: 0.5555 - val_loss: 0.6951 - val_acc: 0.5050\n",
      "Epoch 48/150\n",
      " - 6s - loss: 0.6864 - acc: 0.5564 - val_loss: 0.7004 - val_acc: 0.5050\n",
      "Epoch 49/150\n",
      " - 5s - loss: 0.6865 - acc: 0.5552 - val_loss: 0.6952 - val_acc: 0.5050\n",
      "Epoch 50/150\n",
      " - 6s - loss: 0.6865 - acc: 0.5556 - val_loss: 0.6959 - val_acc: 0.5051\n",
      "Epoch 51/150\n",
      " - 6s - loss: 0.6865 - acc: 0.5558 - val_loss: 0.6963 - val_acc: 0.5048\n",
      "Epoch 52/150\n",
      " - 6s - loss: 0.6862 - acc: 0.5567 - val_loss: 0.6946 - val_acc: 0.5055\n",
      "Epoch 53/150\n",
      " - 6s - loss: 0.6864 - acc: 0.5562 - val_loss: 0.6973 - val_acc: 0.5047\n",
      "Epoch 54/150\n",
      " - 6s - loss: 0.6865 - acc: 0.5560 - val_loss: 0.7008 - val_acc: 0.5049\n",
      "Epoch 55/150\n",
      " - 6s - loss: 0.6863 - acc: 0.5562 - val_loss: 0.6985 - val_acc: 0.5050\n",
      "Epoch 56/150\n",
      " - 6s - loss: 0.6864 - acc: 0.5559 - val_loss: 0.6981 - val_acc: 0.5052\n",
      "Epoch 57/150\n",
      " - 6s - loss: 0.6863 - acc: 0.5560 - val_loss: 0.6972 - val_acc: 0.5047\n",
      "Epoch 58/150\n",
      " - 6s - loss: 0.6863 - acc: 0.5559 - val_loss: 0.7017 - val_acc: 0.5051\n",
      "Epoch 59/150\n",
      " - 6s - loss: 0.6864 - acc: 0.5557 - val_loss: 0.6980 - val_acc: 0.5049\n",
      "Epoch 60/150\n",
      " - 6s - loss: 0.6863 - acc: 0.5562 - val_loss: 0.6988 - val_acc: 0.5048\n",
      "Epoch 61/150\n",
      " - 6s - loss: 0.6862 - acc: 0.5562 - val_loss: 0.6952 - val_acc: 0.5050\n",
      "Epoch 62/150\n",
      " - 6s - loss: 0.6863 - acc: 0.5553 - val_loss: 0.6976 - val_acc: 0.5050\n",
      "Epoch 63/150\n",
      " - 6s - loss: 0.6864 - acc: 0.5564 - val_loss: 0.6965 - val_acc: 0.5049\n",
      "Epoch 64/150\n",
      " - 6s - loss: 0.6863 - acc: 0.5560 - val_loss: 0.6983 - val_acc: 0.5047\n",
      "Epoch 65/150\n",
      " - 6s - loss: 0.6864 - acc: 0.5558 - val_loss: 0.6988 - val_acc: 0.5051\n",
      "Epoch 66/150\n",
      " - 6s - loss: 0.6864 - acc: 0.5552 - val_loss: 0.6990 - val_acc: 0.5051\n",
      "Epoch 67/150\n",
      " - 5s - loss: 0.6864 - acc: 0.5558 - val_loss: 0.6992 - val_acc: 0.5050\n",
      "Epoch 68/150\n",
      " - 6s - loss: 0.6863 - acc: 0.5559 - val_loss: 0.6978 - val_acc: 0.5049\n",
      "Epoch 69/150\n",
      " - 5s - loss: 0.6864 - acc: 0.5559 - val_loss: 0.6953 - val_acc: 0.5049\n",
      "Epoch 70/150\n",
      " - 6s - loss: 0.6864 - acc: 0.5561 - val_loss: 0.6984 - val_acc: 0.5051\n",
      "Epoch 71/150\n",
      " - 6s - loss: 0.6862 - acc: 0.5559 - val_loss: 0.6938 - val_acc: 0.5062\n",
      "Epoch 72/150\n",
      " - 6s - loss: 0.6866 - acc: 0.5556 - val_loss: 0.6990 - val_acc: 0.5051\n",
      "Epoch 73/150\n",
      " - 6s - loss: 0.6863 - acc: 0.5558 - val_loss: 0.6973 - val_acc: 0.5048\n",
      "Epoch 74/150\n",
      " - 6s - loss: 0.6864 - acc: 0.5557 - val_loss: 0.6956 - val_acc: 0.5050\n",
      "Epoch 75/150\n",
      " - 6s - loss: 0.6863 - acc: 0.5562 - val_loss: 0.6942 - val_acc: 0.5057\n",
      "Epoch 76/150\n",
      " - 5s - loss: 0.6865 - acc: 0.5567 - val_loss: 0.6973 - val_acc: 0.5047\n",
      "Epoch 77/150\n",
      " - 6s - loss: 0.6863 - acc: 0.5566 - val_loss: 0.6936 - val_acc: 0.5056\n",
      "Epoch 78/150\n",
      " - 6s - loss: 0.6864 - acc: 0.5563 - val_loss: 0.6980 - val_acc: 0.5047\n",
      "Epoch 79/150\n",
      " - 6s - loss: 0.6864 - acc: 0.5557 - val_loss: 0.7008 - val_acc: 0.5048\n",
      "Epoch 80/150\n",
      " - 5s - loss: 0.6864 - acc: 0.5556 - val_loss: 0.6973 - val_acc: 0.5057\n",
      "Epoch 81/150\n",
      " - 6s - loss: 0.6865 - acc: 0.5558 - val_loss: 0.6972 - val_acc: 0.5047\n",
      "Epoch 82/150\n",
      " - 6s - loss: 0.6863 - acc: 0.5560 - val_loss: 0.6979 - val_acc: 0.5049\n",
      "Epoch 83/150\n",
      " - 5s - loss: 0.6864 - acc: 0.5554 - val_loss: 0.6996 - val_acc: 0.5051\n",
      "Epoch 84/150\n",
      " - 6s - loss: 0.6862 - acc: 0.5559 - val_loss: 0.6974 - val_acc: 0.5049\n",
      "Epoch 85/150\n",
      " - 6s - loss: 0.6864 - acc: 0.5558 - val_loss: 0.6989 - val_acc: 0.5048\n",
      "Epoch 86/150\n",
      " - 5s - loss: 0.6864 - acc: 0.5561 - val_loss: 0.6962 - val_acc: 0.5048\n",
      "Epoch 87/150\n",
      " - 5s - loss: 0.6865 - acc: 0.5558 - val_loss: 0.6973 - val_acc: 0.5052\n",
      "Epoch 88/150\n",
      " - 5s - loss: 0.6863 - acc: 0.5559 - val_loss: 0.6963 - val_acc: 0.5047\n",
      "Epoch 89/150\n",
      " - 5s - loss: 0.6864 - acc: 0.5559 - val_loss: 0.6980 - val_acc: 0.5050\n",
      "Epoch 90/150\n",
      " - 5s - loss: 0.6864 - acc: 0.5554 - val_loss: 0.6943 - val_acc: 0.5052\n",
      "Epoch 91/150\n"
     ]
    }
   ],
   "source": [
    "dnn_history = dnn.fit(X_train.values, y_train.values, epochs = 150, verbose = 2, batch_size = 32, validation_data = (X_val, y_val))\n",
    "plt.plot(dnn_history.history['loss'])\n",
    "plt.plot(dnn_history.history['val_loss'])\n",
    "plt.title('model train vs validation loss')\n",
    "plt.ylabel('loss')\n",
    "plt.xlabel('epoch')\n",
    "plt.legend(['train', 'validation'], loc='upper right')\n",
    "plt.show()"
   ]
  },
  {
   "cell_type": "code",
   "execution_count": null,
   "metadata": {},
   "outputs": [],
   "source": []
  },
  {
   "cell_type": "code",
   "execution_count": null,
   "metadata": {},
   "outputs": [],
   "source": []
  },
  {
   "cell_type": "code",
   "execution_count": null,
   "metadata": {},
   "outputs": [],
   "source": []
  },
  {
   "cell_type": "code",
   "execution_count": null,
   "metadata": {},
   "outputs": [],
   "source": []
  },
  {
   "cell_type": "code",
   "execution_count": null,
   "metadata": {},
   "outputs": [],
   "source": []
  },
  {
   "cell_type": "code",
   "execution_count": null,
   "metadata": {},
   "outputs": [],
   "source": []
  },
  {
   "cell_type": "code",
   "execution_count": null,
   "metadata": {},
   "outputs": [],
   "source": []
  },
  {
   "cell_type": "code",
   "execution_count": null,
   "metadata": {},
   "outputs": [],
   "source": []
  },
  {
   "cell_type": "code",
   "execution_count": null,
   "metadata": {},
   "outputs": [],
   "source": []
  },
  {
   "cell_type": "code",
   "execution_count": null,
   "metadata": {},
   "outputs": [],
   "source": []
  },
  {
   "cell_type": "code",
   "execution_count": null,
   "metadata": {},
   "outputs": [],
   "source": []
  },
  {
   "cell_type": "code",
   "execution_count": 321,
   "metadata": {},
   "outputs": [],
   "source": [
    "from keras.models import Sequential\n",
    "from keras.layers import Dense\n",
    "from keras.layers import LSTM\n",
    "from keras.layers import Dropout\n",
    "from keras.layers import Flatten"
   ]
  },
  {
   "cell_type": "code",
   "execution_count": 104,
   "metadata": {
    "scrolled": true
   },
   "outputs": [
    {
     "name": "stdout",
     "output_type": "stream",
     "text": [
      "AUC: 0.5165949588566855\n"
     ]
    },
    {
     "data": {
      "image/png": "[encoded data removed]",
      "text/plain": [
       "<Figure size 720x576 with 1 Axes>"
      ]
     },
     "metadata": {},
     "output_type": "display_data"
    }
   ],
   "source": [
    "#Initial Model\n",
    "logreg = LogisticRegression(fit_intercept = False)\n",
    "\n",
    "#Probability scores for val set\n",
    "y_score = logreg.fit(X_train, y_train).decision_function(X_val)\n",
    "#False positive Rate and true positive rate\n",
    "fpr, tpr, thresholds = roc_curve(y_val, y_score)\n",
    "\n",
    "#Seaborns Beautiful Styling\n",
    "sns.set_style(\"darkgrid\", {\"axes.facecolor\": \".9\"})\n",
    "\n",
    "print('AUC: {}'.format(auc(fpr, tpr)))\n",
    "plt.figure(figsize=(10,8))\n",
    "lw = 2\n",
    "plt.plot(fpr, tpr, color='darkorange',\n",
    "         lw=lw, label='ROC curve')\n",
    "plt.plot([0, 1], [0, 1], color='navy', lw=lw, linestyle='--')\n",
    "plt.xlim([0.0, 1.0])\n",
    "plt.ylim([0.0, 1.05])\n",
    "plt.yticks([i/20.0 for i in range(21)])\n",
    "plt.xticks([i/20.0 for i in range(21)])\n",
    "plt.xlabel('False Positive Rate')\n",
    "plt.ylabel('True Positive Rate')\n",
    "plt.title('Receiver operating characteristic (ROC) Curve')\n",
    "plt.legend(loc=\"lower right\")\n",
    "plt.show()"
   ]
  },
  {
   "cell_type": "code",
   "execution_count": null,
   "metadata": {},
   "outputs": [],
   "source": []
  },
  {
   "cell_type": "code",
   "execution_count": null,
   "metadata": {},
   "outputs": [],
   "source": []
  },
  {
   "cell_type": "markdown",
   "metadata": {},
   "source": [
    "# Plot Confusion Matrix"
   ]
  },
  {
   "cell_type": "code",
   "execution_count": 105,
   "metadata": {},
   "outputs": [],
   "source": [
    "def plot_confusion_matrix(cm, classes,\n",
    "                          normalize=False,\n",
    "                          title='Confusion matrix',\n",
    "                          cmap=plt.cm.Blues):\n",
    "    #Add Normalization Option\n",
    "    if normalize:\n",
    "        cm = cm.astype('float') / cm.sum(axis=1)[:, np.newaxis]\n",
    "        print(\"Normalized confusion matrix\")\n",
    "    else:\n",
    "        print('Confusion matrix, without normalization')\n",
    "\n",
    "    print(cm)\n",
    "\n",
    "    plt.imshow(cm, interpolation='nearest', cmap=cmap)\n",
    "    plt.title(title)\n",
    "    plt.colorbar()\n",
    "    tick_marks = np.arange(len(classes))\n",
    "    plt.xticks(tick_marks, classes, rotation=45)\n",
    "    plt.yticks(tick_marks, classes)\n",
    "\n",
    "    fmt = '.2f' if normalize else 'd'\n",
    "    thresh = cm.max() / 2.\n",
    "    for i, j in itertools.product(range(cm.shape[0]), range(cm.shape[1])):\n",
    "        plt.text(j, i, format(cm[i, j], fmt),\n",
    "                 horizontalalignment=\"center\",\n",
    "                 color=\"white\" if cm[i, j] > thresh else \"black\")\n",
    "\n",
    "    plt.tight_layout()\n",
    "    plt.ylabel('True label')\n",
    "    plt.xlabel('Predicted label')"
   ]
  },
  {
   "cell_type": "code",
   "execution_count": 106,
   "metadata": {},
   "outputs": [
    {
     "name": "stdout",
     "output_type": "stream",
     "text": [
      "Confusion matrix, without normalization\n",
      "[[   57    60]\n",
      " [18638 19680]]\n"
     ]
    },
    {
     "data": {
      "image/png": "[encoded data removed]",
      "text/plain": [
       "<Figure size 432x288 with 2 Axes>"
      ]
     },
     "metadata": {},
     "output_type": "display_data"
    }
   ],
   "source": [
    "y_hat_val = logreg.predict(X_val)\n",
    "cnf_matrix = confusion_matrix(y_hat_val, y_val)\n",
    "plot_confusion_matrix(cnf_matrix, classes=[0,1])"
   ]
  },
  {
   "cell_type": "markdown",
   "metadata": {},
   "source": [
    "This baseline model gives us an AUC of just over 50%. My next step is to go back to my correlation matrix and eliminate variables that are highly correlated."
   ]
  },
  {
   "cell_type": "code",
   "execution_count": 108,
   "metadata": {},
   "outputs": [
    {
     "data": {
      "text/html": [
       "<div>\n",
       "<style scoped>\n",
       "    .dataframe tbody tr th:only-of-type {\n",
       "        vertical-align: middle;\n",
       "    }\n",
       "\n",
       "    .dataframe tbody tr th {\n",
       "        vertical-align: top;\n",
       "    }\n",
       "\n",
       "    .dataframe thead th {\n",
       "        text-align: right;\n",
       "    }\n",
       "</style>\n",
       "<table border=\"1\" class=\"dataframe\">\n",
       "  <thead>\n",
       "    <tr style=\"text-align: right;\">\n",
       "      <th></th>\n",
       "      <th>Open</th>\n",
       "      <th>Close</th>\n",
       "      <th>High</th>\n",
       "      <th>Low</th>\n",
       "      <th>Trades</th>\n",
       "      <th>Volume</th>\n",
       "      <th>Y</th>\n",
       "    </tr>\n",
       "  </thead>\n",
       "  <tbody>\n",
       "    <tr>\n",
       "      <th>Open</th>\n",
       "      <td>1.000000</td>\n",
       "      <td>0.999958</td>\n",
       "      <td>0.999971</td>\n",
       "      <td>0.999966</td>\n",
       "      <td>0.157322</td>\n",
       "      <td>0.158251</td>\n",
       "      <td>-0.050264</td>\n",
       "    </tr>\n",
       "    <tr>\n",
       "      <th>Close</th>\n",
       "      <td>0.999958</td>\n",
       "      <td>1.000000</td>\n",
       "      <td>0.999975</td>\n",
       "      <td>0.999975</td>\n",
       "      <td>0.157081</td>\n",
       "      <td>0.157802</td>\n",
       "      <td>-0.050735</td>\n",
       "    </tr>\n",
       "    <tr>\n",
       "      <th>High</th>\n",
       "      <td>0.999971</td>\n",
       "      <td>0.999975</td>\n",
       "      <td>1.000000</td>\n",
       "      <td>0.999942</td>\n",
       "      <td>0.159907</td>\n",
       "      <td>0.160905</td>\n",
       "      <td>-0.050594</td>\n",
       "    </tr>\n",
       "    <tr>\n",
       "      <th>Low</th>\n",
       "      <td>0.999966</td>\n",
       "      <td>0.999975</td>\n",
       "      <td>0.999942</td>\n",
       "      <td>1.000000</td>\n",
       "      <td>0.154089</td>\n",
       "      <td>0.154627</td>\n",
       "      <td>-0.050492</td>\n",
       "    </tr>\n",
       "    <tr>\n",
       "      <th>Trades</th>\n",
       "      <td>0.157322</td>\n",
       "      <td>0.157081</td>\n",
       "      <td>0.159907</td>\n",
       "      <td>0.154089</td>\n",
       "      <td>1.000000</td>\n",
       "      <td>0.921336</td>\n",
       "      <td>-0.033592</td>\n",
       "    </tr>\n",
       "    <tr>\n",
       "      <th>Volume</th>\n",
       "      <td>0.158251</td>\n",
       "      <td>0.157802</td>\n",
       "      <td>0.160905</td>\n",
       "      <td>0.154627</td>\n",
       "      <td>0.921336</td>\n",
       "      <td>1.000000</td>\n",
       "      <td>-0.025094</td>\n",
       "    </tr>\n",
       "    <tr>\n",
       "      <th>Y</th>\n",
       "      <td>-0.050264</td>\n",
       "      <td>-0.050735</td>\n",
       "      <td>-0.050594</td>\n",
       "      <td>-0.050492</td>\n",
       "      <td>-0.033592</td>\n",
       "      <td>-0.025094</td>\n",
       "      <td>1.000000</td>\n",
       "    </tr>\n",
       "  </tbody>\n",
       "</table>\n",
       "</div>"
      ],
      "text/plain": [
       "            Open     Close      High       Low    Trades    Volume         Y\n",
       "Open    1.000000  0.999958  0.999971  0.999966  0.157322  0.158251 -0.050264\n",
       "Close   0.999958  1.000000  0.999975  0.999975  0.157081  0.157802 -0.050735\n",
       "High    0.999971  0.999975  1.000000  0.999942  0.159907  0.160905 -0.050594\n",
       "Low     0.999966  0.999975  0.999942  1.000000  0.154089  0.154627 -0.050492\n",
       "Trades  0.157322  0.157081  0.159907  0.154089  1.000000  0.921336 -0.033592\n",
       "Volume  0.158251  0.157802  0.160905  0.154627  0.921336  1.000000 -0.025094\n",
       "Y      -0.050264 -0.050735 -0.050594 -0.050492 -0.033592 -0.025094  1.000000"
      ]
     },
     "execution_count": 108,
     "metadata": {},
     "output_type": "execute_result"
    }
   ],
   "source": [
    "corr_df"
   ]
  },
  {
   "cell_type": "code",
   "execution_count": 113,
   "metadata": {},
   "outputs": [],
   "source": [
    "independent_df = normalized_df[['Open', 'Volume']]\n"
   ]
  },
  {
   "cell_type": "code",
   "execution_count": 112,
   "metadata": {},
   "outputs": [],
   "source": [
    "#Split dataset into training set, validation set and testing set\n",
    "X_train = independent_df[:134525]\n",
    "X_val = independent_df[134526:172961]\n",
    "X_test = independent_df[172962:]\n",
    "y_train = y[:134525]\n",
    "y_val = y[134526:172961]\n",
    "y_test = y[172962:]"
   ]
  },
  {
   "cell_type": "code",
   "execution_count": 116,
   "metadata": {},
   "outputs": [
    {
     "name": "stdout",
     "output_type": "stream",
     "text": [
      "LogisticRegression(C=0.001, class_weight=None, dual=False,\n",
      "          fit_intercept=False, intercept_scaling=1, max_iter=100,\n",
      "          multi_class='ovr', n_jobs=1, penalty='l2', random_state=None,\n",
      "          solver='liblinear', tol=0.0001, verbose=0, warm_start=False)\n",
      "AUC for 0.001: 0.5005885253955338\n",
      "LogisticRegression(C=0.01, class_weight=None, dual=False, fit_intercept=False,\n",
      "          intercept_scaling=1, max_iter=100, multi_class='ovr', n_jobs=1,\n",
      "          penalty='l2', random_state=None, solver='liblinear', tol=0.0001,\n",
      "          verbose=0, warm_start=False)\n",
      "AUC for 0.01: 0.5096320635769687\n",
      "LogisticRegression(C=0.1, class_weight=None, dual=False, fit_intercept=False,\n",
      "          intercept_scaling=1, max_iter=100, multi_class='ovr', n_jobs=1,\n",
      "          penalty='l2', random_state=None, solver='liblinear', tol=0.0001,\n",
      "          verbose=0, warm_start=False)\n",
      "AUC for 0.1: 0.5105587805959961\n",
      "LogisticRegression(C=1, class_weight=None, dual=False, fit_intercept=False,\n",
      "          intercept_scaling=1, max_iter=100, multi_class='ovr', n_jobs=1,\n",
      "          penalty='l2', random_state=None, solver='liblinear', tol=0.0001,\n",
      "          verbose=0, warm_start=False)\n",
      "AUC for 1: 0.5106477358915433\n",
      "LogisticRegression(C=10, class_weight=None, dual=False, fit_intercept=False,\n",
      "          intercept_scaling=1, max_iter=100, multi_class='ovr', n_jobs=1,\n",
      "          penalty='l2', random_state=None, solver='liblinear', tol=0.0001,\n",
      "          verbose=0, warm_start=False)\n",
      "AUC for 10: 0.510657206427608\n",
      "LogisticRegression(C=100, class_weight=None, dual=False, fit_intercept=False,\n",
      "          intercept_scaling=1, max_iter=100, multi_class='ovr', n_jobs=1,\n",
      "          penalty='l2', random_state=None, solver='liblinear', tol=0.0001,\n",
      "          verbose=0, warm_start=False)\n",
      "AUC for 100: 0.5106580220588973\n"
     ]
    },
    {
     "data": {
      "image/png": "[encoded data removed]",
      "text/plain": [
       "<Figure size 720x576 with 1 Axes>"
      ]
     },
     "metadata": {},
     "output_type": "display_data"
    }
   ],
   "source": [
    "C_param_range = [0.001,0.01,0.1,1,10,100]\n",
    "names = [0.001,0.01,0.1,1,10,100]\n",
    "colors = sns.color_palette(\"Set2\")\n",
    "\n",
    "plt.figure(figsize=(10,8))\n",
    "\n",
    "for n, c in enumerate(C_param_range):\n",
    "    #Fit a model\n",
    "    logreg = LogisticRegression(fit_intercept = False, C = c) #Starter code\n",
    "    model_log = logreg.fit(X_train, y_train)\n",
    "    print(model_log) #Preview model params\n",
    "\n",
    "    #Predict\n",
    "    y_hat_val = logreg.predict(X_val)\n",
    "\n",
    "    y_score = logreg.fit(X_train, y_train).decision_function(X_val)\n",
    "\n",
    "    fpr, tpr, thresholds = roc_curve(y_val, y_score)\n",
    "    \n",
    "    print('AUC for {}: {}'.format(names[n], auc(fpr, tpr)))\n",
    "    lw = 2\n",
    "    plt.plot(fpr, tpr, color=colors[n],\n",
    "             lw=lw, label='ROC curve Normalization Weight: {}'.format(names[n]))\n",
    "plt.plot([0, 1], [0, 1], color='navy', lw=lw, linestyle='--')\n",
    "plt.xlim([0.0, 1.0])\n",
    "plt.ylim([0.0, 1.05])\n",
    "\n",
    "plt.yticks([i/20.0 for i in range(21)])\n",
    "plt.xticks([i/20.0 for i in range(21)])\n",
    "plt.xlabel('False Positive Rate')\n",
    "plt.ylabel('True Positive Rate')\n",
    "plt.title('Receiver operating characteristic (ROC) Curve')\n",
    "plt.legend(loc=\"lower right\")\n",
    "plt.show()"
   ]
  },
  {
   "cell_type": "code",
   "execution_count": null,
   "metadata": {},
   "outputs": [],
   "source": []
  }
 ],
 "metadata": {
  "kernelspec": {
   "display_name": "Python 3",
   "language": "python",
   "name": "python3"
  },
  "language_info": {
   "codemirror_mode": {
    "name": "ipython",
    "version": 3
   },
   "file_extension": ".py",
   "mimetype": "text/x-python",
   "name": "python",
   "nbconvert_exporter": "python",
   "pygments_lexer": "ipython3",
   "version": "3.6.5"
  }
 },
 "nbformat": 4,
 "nbformat_minor": 2
}
