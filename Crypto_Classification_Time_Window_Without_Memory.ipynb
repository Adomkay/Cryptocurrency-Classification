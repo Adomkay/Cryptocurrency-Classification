{
 "cells": [
  {
   "cell_type": "markdown",
   "metadata": {},
   "source": [
    "# Classifaction Using Time Window Without Memory"
   ]
  },
  {
   "cell_type": "code",
   "execution_count": 86,
   "metadata": {},
   "outputs": [],
   "source": [
    "from sklearn.model_selection import train_test_split, GridSearchCV\n",
    "from sklearn.preprocessing import StandardScaler\n",
    "from sklearn.cross_validation import cross_val_score\n",
    "from sklearn.tree import DecisionTreeClassifier\n",
    "from sklearn.ensemble import RandomForestClassifier, AdaBoostClassifier\n",
    "from sklearn.metrics import accuracy_score"
   ]
  },
  {
   "cell_type": "code",
   "execution_count": 3,
   "metadata": {},
   "outputs": [
    {
     "name": "stderr",
     "output_type": "stream",
     "text": [
      "/Users/shachiakyaagba/anaconda3/lib/python3.6/site-packages/h5py/__init__.py:36: FutureWarning: Conversion of the second argument of issubdtype from `float` to `np.floating` is deprecated. In future, it will be treated as `np.float64 == np.dtype(float).type`.\n",
      "  from ._conv import register_converters as _register_converters\n",
      "Using TensorFlow backend.\n"
     ]
    }
   ],
   "source": [
    "from keras.models import Sequential\n",
    "from keras.layers import Dense\n",
    "from keras.layers import LSTM\n",
    "from keras.layers import Dropout\n",
    "from keras.layers import Flatten"
   ]
  },
  {
   "cell_type": "code",
   "execution_count": 51,
   "metadata": {},
   "outputs": [],
   "source": [
    "import itertools\n",
    "from sklearn.model_selection import train_test_split\n",
    "from sklearn.linear_model import LogisticRegression\n",
    "from sklearn.metrics import roc_curve, auc\n",
    "from sklearn.metrics import confusion_matrix, classification_report\n",
    "from imblearn.over_sampling import SMOTE, ADASYN\n",
    "from sklearn import preprocessing\n",
    "import pandas.tseries\n",
    "import pandas as pd\n",
    "import numpy as np\n",
    "np.random.seed(0)\n",
    "import statsmodels as sm\n",
    "import matplotlib.pyplot as plt\n",
    "% matplotlib inline\n",
    "import seaborn as sns\n"
   ]
  },
  {
   "cell_type": "code",
   "execution_count": 6,
   "metadata": {},
   "outputs": [
    {
     "data": {
      "text/html": [
       "<div>\n",
       "<style scoped>\n",
       "    .dataframe tbody tr th:only-of-type {\n",
       "        vertical-align: middle;\n",
       "    }\n",
       "\n",
       "    .dataframe tbody tr th {\n",
       "        vertical-align: top;\n",
       "    }\n",
       "\n",
       "    .dataframe thead th {\n",
       "        text-align: right;\n",
       "    }\n",
       "</style>\n",
       "<table border=\"1\" class=\"dataframe\">\n",
       "  <thead>\n",
       "    <tr style=\"text-align: right;\">\n",
       "      <th></th>\n",
       "      <th>Unnamed: 0</th>\n",
       "      <th>Date</th>\n",
       "      <th>Open</th>\n",
       "      <th>Close</th>\n",
       "      <th>High</th>\n",
       "      <th>Low</th>\n",
       "      <th>Trades</th>\n",
       "      <th>Volume</th>\n",
       "      <th>Y</th>\n",
       "    </tr>\n",
       "  </thead>\n",
       "  <tbody>\n",
       "    <tr>\n",
       "      <th>0</th>\n",
       "      <td>0</td>\n",
       "      <td>2018-01-01T00:00:00.000Z</td>\n",
       "      <td>13838.5</td>\n",
       "      <td>13873.0</td>\n",
       "      <td>13961.0</td>\n",
       "      <td>13838.0</td>\n",
       "      <td>958</td>\n",
       "      <td>2041363</td>\n",
       "      <td>0</td>\n",
       "    </tr>\n",
       "    <tr>\n",
       "      <th>1</th>\n",
       "      <td>1</td>\n",
       "      <td>2018-01-01T00:05:00.000Z</td>\n",
       "      <td>13873.0</td>\n",
       "      <td>13800.0</td>\n",
       "      <td>13920.0</td>\n",
       "      <td>13800.0</td>\n",
       "      <td>1151</td>\n",
       "      <td>2595550</td>\n",
       "      <td>0</td>\n",
       "    </tr>\n",
       "    <tr>\n",
       "      <th>2</th>\n",
       "      <td>2</td>\n",
       "      <td>2018-01-01T00:10:00.000Z</td>\n",
       "      <td>13800.0</td>\n",
       "      <td>13771.5</td>\n",
       "      <td>13800.5</td>\n",
       "      <td>13675.0</td>\n",
       "      <td>1859</td>\n",
       "      <td>5809735</td>\n",
       "      <td>0</td>\n",
       "    </tr>\n",
       "    <tr>\n",
       "      <th>3</th>\n",
       "      <td>3</td>\n",
       "      <td>2018-01-01T00:15:00.000Z</td>\n",
       "      <td>13771.5</td>\n",
       "      <td>13769.0</td>\n",
       "      <td>13795.0</td>\n",
       "      <td>13711.0</td>\n",
       "      <td>861</td>\n",
       "      <td>1816360</td>\n",
       "      <td>0</td>\n",
       "    </tr>\n",
       "    <tr>\n",
       "      <th>4</th>\n",
       "      <td>4</td>\n",
       "      <td>2018-01-01T00:20:00.000Z</td>\n",
       "      <td>13769.0</td>\n",
       "      <td>13702.0</td>\n",
       "      <td>13775.5</td>\n",
       "      <td>13596.0</td>\n",
       "      <td>1235</td>\n",
       "      <td>4967912</td>\n",
       "      <td>0</td>\n",
       "    </tr>\n",
       "  </tbody>\n",
       "</table>\n",
       "</div>"
      ],
      "text/plain": [
       "   Unnamed: 0                      Date     Open    Close     High      Low  \\\n",
       "0           0  2018-01-01T00:00:00.000Z  13838.5  13873.0  13961.0  13838.0   \n",
       "1           1  2018-01-01T00:05:00.000Z  13873.0  13800.0  13920.0  13800.0   \n",
       "2           2  2018-01-01T00:10:00.000Z  13800.0  13771.5  13800.5  13675.0   \n",
       "3           3  2018-01-01T00:15:00.000Z  13771.5  13769.0  13795.0  13711.0   \n",
       "4           4  2018-01-01T00:20:00.000Z  13769.0  13702.0  13775.5  13596.0   \n",
       "\n",
       "   Trades   Volume  Y  \n",
       "0     958  2041363  0  \n",
       "1    1151  2595550  0  \n",
       "2    1859  5809735  0  \n",
       "3     861  1816360  0  \n",
       "4    1235  4967912  0  "
      ]
     },
     "execution_count": 6,
     "metadata": {},
     "output_type": "execute_result"
    }
   ],
   "source": [
    "#Read in crypto currency data into a pandas dataframe\n",
    "ticker_df = pd.read_csv('bitmex_BTCUSD_candles_5m_price_2.csv.gz')\n",
    "ticker_df.head()"
   ]
  },
  {
   "cell_type": "code",
   "execution_count": 8,
   "metadata": {},
   "outputs": [
    {
     "data": {
      "image/png": "[encoded data removed]",
      "text/plain": [
       "<Figure size 1080x720 with 1 Axes>"
      ]
     },
     "metadata": {},
     "output_type": "display_data"
    }
   ],
   "source": [
    "#plot prices to see trends\n",
    "ticker_df[['Open', 'High', 'Low', 'Close']].plot(figsize = (15,10))\n",
    "plt.title('bitmex_BTCUSD_candles_5m_price_history')\n",
    "plt.ylabel('Price')\n",
    "plt.xlabel('Days')\n",
    "plt.legend(['Open', 'High', 'Low', 'Close'], loc='upper left')\n",
    "plt.show()"
   ]
  },
  {
   "cell_type": "code",
   "execution_count": 9,
   "metadata": {},
   "outputs": [],
   "source": [
    "#Let's try some prediction now. \n",
    "#steps:create new dataframe, add new feature, model fit and optimize\n",
    "ticker_df['Mean'] = (ticker_df['Open'] + ticker_df['High'] + ticker_df['Low'] + \n",
    "                         ticker_df['Close']) / 4"
   ]
  },
  {
   "cell_type": "code",
   "execution_count": 12,
   "metadata": {},
   "outputs": [],
   "source": [
    "ticker_df['Prediction'] = ticker_df['Y'].shift(-24)"
   ]
  },
  {
   "cell_type": "code",
   "execution_count": 15,
   "metadata": {},
   "outputs": [],
   "source": [
    "#drop Columns not being used\n",
    "ticker_df.drop(columns = ['Unnamed: 0', 'Trades', 'Volume'], axis = 1, inplace = True)\n"
   ]
  },
  {
   "cell_type": "code",
   "execution_count": 17,
   "metadata": {},
   "outputs": [],
   "source": [
    "#drop nan values\n",
    "ticker_df.dropna(inplace = True)"
   ]
  },
  {
   "cell_type": "code",
   "execution_count": 19,
   "metadata": {},
   "outputs": [
    {
     "data": {
      "text/html": [
       "<div>\n",
       "<style scoped>\n",
       "    .dataframe tbody tr th:only-of-type {\n",
       "        vertical-align: middle;\n",
       "    }\n",
       "\n",
       "    .dataframe tbody tr th {\n",
       "        vertical-align: top;\n",
       "    }\n",
       "\n",
       "    .dataframe thead th {\n",
       "        text-align: right;\n",
       "    }\n",
       "</style>\n",
       "<table border=\"1\" class=\"dataframe\">\n",
       "  <thead>\n",
       "    <tr style=\"text-align: right;\">\n",
       "      <th></th>\n",
       "      <th>Date</th>\n",
       "      <th>Open</th>\n",
       "      <th>Close</th>\n",
       "      <th>High</th>\n",
       "      <th>Low</th>\n",
       "      <th>Y</th>\n",
       "      <th>Mean</th>\n",
       "      <th>Prediction</th>\n",
       "    </tr>\n",
       "  </thead>\n",
       "  <tbody>\n",
       "    <tr>\n",
       "      <th>0</th>\n",
       "      <td>2018-01-01T00:00:00.000Z</td>\n",
       "      <td>13838.5</td>\n",
       "      <td>13873.0</td>\n",
       "      <td>13961.0</td>\n",
       "      <td>13838.0</td>\n",
       "      <td>0</td>\n",
       "      <td>13877.625</td>\n",
       "      <td>1.0</td>\n",
       "    </tr>\n",
       "    <tr>\n",
       "      <th>1</th>\n",
       "      <td>2018-01-01T00:05:00.000Z</td>\n",
       "      <td>13873.0</td>\n",
       "      <td>13800.0</td>\n",
       "      <td>13920.0</td>\n",
       "      <td>13800.0</td>\n",
       "      <td>0</td>\n",
       "      <td>13848.250</td>\n",
       "      <td>0.0</td>\n",
       "    </tr>\n",
       "    <tr>\n",
       "      <th>2</th>\n",
       "      <td>2018-01-01T00:10:00.000Z</td>\n",
       "      <td>13800.0</td>\n",
       "      <td>13771.5</td>\n",
       "      <td>13800.5</td>\n",
       "      <td>13675.0</td>\n",
       "      <td>0</td>\n",
       "      <td>13761.750</td>\n",
       "      <td>1.0</td>\n",
       "    </tr>\n",
       "    <tr>\n",
       "      <th>3</th>\n",
       "      <td>2018-01-01T00:15:00.000Z</td>\n",
       "      <td>13771.5</td>\n",
       "      <td>13769.0</td>\n",
       "      <td>13795.0</td>\n",
       "      <td>13711.0</td>\n",
       "      <td>0</td>\n",
       "      <td>13761.625</td>\n",
       "      <td>0.0</td>\n",
       "    </tr>\n",
       "    <tr>\n",
       "      <th>4</th>\n",
       "      <td>2018-01-01T00:20:00.000Z</td>\n",
       "      <td>13769.0</td>\n",
       "      <td>13702.0</td>\n",
       "      <td>13775.5</td>\n",
       "      <td>13596.0</td>\n",
       "      <td>0</td>\n",
       "      <td>13710.625</td>\n",
       "      <td>1.0</td>\n",
       "    </tr>\n",
       "  </tbody>\n",
       "</table>\n",
       "</div>"
      ],
      "text/plain": [
       "                       Date     Open    Close     High      Low  Y       Mean  \\\n",
       "0  2018-01-01T00:00:00.000Z  13838.5  13873.0  13961.0  13838.0  0  13877.625   \n",
       "1  2018-01-01T00:05:00.000Z  13873.0  13800.0  13920.0  13800.0  0  13848.250   \n",
       "2  2018-01-01T00:10:00.000Z  13800.0  13771.5  13800.5  13675.0  0  13761.750   \n",
       "3  2018-01-01T00:15:00.000Z  13771.5  13769.0  13795.0  13711.0  0  13761.625   \n",
       "4  2018-01-01T00:20:00.000Z  13769.0  13702.0  13775.5  13596.0  0  13710.625   \n",
       "\n",
       "   Prediction  \n",
       "0         1.0  \n",
       "1         0.0  \n",
       "2         1.0  \n",
       "3         0.0  \n",
       "4         1.0  "
      ]
     },
     "execution_count": 19,
     "metadata": {},
     "output_type": "execute_result"
    }
   ],
   "source": [
    "ticker_df.head()"
   ]
  },
  {
   "cell_type": "code",
   "execution_count": 20,
   "metadata": {},
   "outputs": [],
   "source": [
    "#Change Date column datatype to timestamp\n",
    "ticker_df['Date'] = pd.to_datetime(ticker_df['Date'], infer_datetime_format=True)"
   ]
  },
  {
   "cell_type": "code",
   "execution_count": 21,
   "metadata": {},
   "outputs": [
    {
     "data": {
      "text/plain": [
       "DatetimeIndex(['2018-01-01 00:00:00', '2018-01-01 00:05:00',\n",
       "               '2018-01-01 00:10:00', '2018-01-01 00:15:00',\n",
       "               '2018-01-01 00:20:00', '2018-01-01 00:25:00',\n",
       "               '2018-01-01 00:30:00', '2018-01-01 00:35:00',\n",
       "               '2018-01-01 00:40:00', '2018-01-01 00:45:00',\n",
       "               ...\n",
       "               '2019-10-30 06:50:00', '2019-10-30 06:55:00',\n",
       "               '2019-10-30 07:00:00', '2019-10-30 07:05:00',\n",
       "               '2019-10-30 07:10:00', '2019-10-30 07:15:00',\n",
       "               '2019-10-30 07:20:00', '2019-10-30 07:25:00',\n",
       "               '2019-10-30 07:30:00', '2019-10-30 07:35:00'],\n",
       "              dtype='datetime64[ns]', name='Date', length=192188, freq=None)"
      ]
     },
     "execution_count": 21,
     "metadata": {},
     "output_type": "execute_result"
    }
   ],
   "source": [
    "#set dataframe index to the Date column\n",
    "ticker_df.set_index('Date', inplace = True)\n",
    "ticker_df.index"
   ]
  },
  {
   "cell_type": "code",
   "execution_count": 22,
   "metadata": {},
   "outputs": [
    {
     "data": {
      "text/html": [
       "<div>\n",
       "<style scoped>\n",
       "    .dataframe tbody tr th:only-of-type {\n",
       "        vertical-align: middle;\n",
       "    }\n",
       "\n",
       "    .dataframe tbody tr th {\n",
       "        vertical-align: top;\n",
       "    }\n",
       "\n",
       "    .dataframe thead th {\n",
       "        text-align: right;\n",
       "    }\n",
       "</style>\n",
       "<table border=\"1\" class=\"dataframe\">\n",
       "  <thead>\n",
       "    <tr style=\"text-align: right;\">\n",
       "      <th></th>\n",
       "      <th>Open</th>\n",
       "      <th>Close</th>\n",
       "      <th>High</th>\n",
       "      <th>Low</th>\n",
       "      <th>Y</th>\n",
       "      <th>Mean</th>\n",
       "      <th>Prediction</th>\n",
       "    </tr>\n",
       "    <tr>\n",
       "      <th>Date</th>\n",
       "      <th></th>\n",
       "      <th></th>\n",
       "      <th></th>\n",
       "      <th></th>\n",
       "      <th></th>\n",
       "      <th></th>\n",
       "      <th></th>\n",
       "    </tr>\n",
       "  </thead>\n",
       "  <tbody>\n",
       "    <tr>\n",
       "      <th>2018-01-01 00:00:00</th>\n",
       "      <td>13838.5</td>\n",
       "      <td>13873.0</td>\n",
       "      <td>13961.0</td>\n",
       "      <td>13838.0</td>\n",
       "      <td>0</td>\n",
       "      <td>13877.625</td>\n",
       "      <td>1.0</td>\n",
       "    </tr>\n",
       "    <tr>\n",
       "      <th>2018-01-01 00:05:00</th>\n",
       "      <td>13873.0</td>\n",
       "      <td>13800.0</td>\n",
       "      <td>13920.0</td>\n",
       "      <td>13800.0</td>\n",
       "      <td>0</td>\n",
       "      <td>13848.250</td>\n",
       "      <td>0.0</td>\n",
       "    </tr>\n",
       "    <tr>\n",
       "      <th>2018-01-01 00:10:00</th>\n",
       "      <td>13800.0</td>\n",
       "      <td>13771.5</td>\n",
       "      <td>13800.5</td>\n",
       "      <td>13675.0</td>\n",
       "      <td>0</td>\n",
       "      <td>13761.750</td>\n",
       "      <td>1.0</td>\n",
       "    </tr>\n",
       "    <tr>\n",
       "      <th>2018-01-01 00:15:00</th>\n",
       "      <td>13771.5</td>\n",
       "      <td>13769.0</td>\n",
       "      <td>13795.0</td>\n",
       "      <td>13711.0</td>\n",
       "      <td>0</td>\n",
       "      <td>13761.625</td>\n",
       "      <td>0.0</td>\n",
       "    </tr>\n",
       "    <tr>\n",
       "      <th>2018-01-01 00:20:00</th>\n",
       "      <td>13769.0</td>\n",
       "      <td>13702.0</td>\n",
       "      <td>13775.5</td>\n",
       "      <td>13596.0</td>\n",
       "      <td>0</td>\n",
       "      <td>13710.625</td>\n",
       "      <td>1.0</td>\n",
       "    </tr>\n",
       "  </tbody>\n",
       "</table>\n",
       "</div>"
      ],
      "text/plain": [
       "                        Open    Close     High      Low  Y       Mean  \\\n",
       "Date                                                                    \n",
       "2018-01-01 00:00:00  13838.5  13873.0  13961.0  13838.0  0  13877.625   \n",
       "2018-01-01 00:05:00  13873.0  13800.0  13920.0  13800.0  0  13848.250   \n",
       "2018-01-01 00:10:00  13800.0  13771.5  13800.5  13675.0  0  13761.750   \n",
       "2018-01-01 00:15:00  13771.5  13769.0  13795.0  13711.0  0  13761.625   \n",
       "2018-01-01 00:20:00  13769.0  13702.0  13775.5  13596.0  0  13710.625   \n",
       "\n",
       "                     Prediction  \n",
       "Date                             \n",
       "2018-01-01 00:00:00         1.0  \n",
       "2018-01-01 00:05:00         0.0  \n",
       "2018-01-01 00:10:00         1.0  \n",
       "2018-01-01 00:15:00         0.0  \n",
       "2018-01-01 00:20:00         1.0  "
      ]
     },
     "execution_count": 22,
     "metadata": {},
     "output_type": "execute_result"
    }
   ],
   "source": [
    "ticker_df.head()"
   ]
  },
  {
   "cell_type": "code",
   "execution_count": 33,
   "metadata": {},
   "outputs": [
    {
     "name": "stdout",
     "output_type": "stream",
     "text": [
      "Observations: 192188\n",
      "Training Observations: 134531\n",
      "Validation Observations: 38437\n",
      "Testing Observations: 19220\n"
     ]
    }
   ],
   "source": [
    "ticker_np = ticker_df.drop('Prediction', axis = 1)\n",
    "normalized_df = (ticker_np - ticker_np.min())/(ticker_np.max()- ticker_np.min())\n",
    "normalized_df['Prediction'] = ticker_df[\"Prediction\"]\n",
    "\n",
    "train_size = int(len(normalized_df)*0.7)\n",
    "val_size = int(len(normalized_df)*0.2) + train_size\n",
    "train= normalized_df[0:train_size]\n",
    "val = normalized_df[train_size: val_size]\n",
    "test = normalized_df[val_size: len(ticker_np)]\n",
    "print('Observations: %d' % (len(ticker_df)))\n",
    "print('Training Observations: %d' % (len(train)))\n",
    "print('Validation Observations: %d' % (len(val)))\n",
    "print('Testing Observations: %d' % (len(test)))"
   ]
  },
  {
   "cell_type": "code",
   "execution_count": 34,
   "metadata": {},
   "outputs": [
    {
     "data": {
      "text/html": [
       "<div>\n",
       "<style scoped>\n",
       "    .dataframe tbody tr th:only-of-type {\n",
       "        vertical-align: middle;\n",
       "    }\n",
       "\n",
       "    .dataframe tbody tr th {\n",
       "        vertical-align: top;\n",
       "    }\n",
       "\n",
       "    .dataframe thead th {\n",
       "        text-align: right;\n",
       "    }\n",
       "</style>\n",
       "<table border=\"1\" class=\"dataframe\">\n",
       "  <thead>\n",
       "    <tr style=\"text-align: right;\">\n",
       "      <th></th>\n",
       "      <th>Open</th>\n",
       "      <th>Close</th>\n",
       "      <th>High</th>\n",
       "      <th>Low</th>\n",
       "      <th>Y</th>\n",
       "      <th>Mean</th>\n",
       "      <th>Prediction</th>\n",
       "    </tr>\n",
       "    <tr>\n",
       "      <th>Date</th>\n",
       "      <th></th>\n",
       "      <th></th>\n",
       "      <th></th>\n",
       "      <th></th>\n",
       "      <th></th>\n",
       "      <th></th>\n",
       "      <th></th>\n",
       "    </tr>\n",
       "  </thead>\n",
       "  <tbody>\n",
       "    <tr>\n",
       "      <th>2018-01-01 00:00:00</th>\n",
       "      <td>0.749799</td>\n",
       "      <td>0.752214</td>\n",
       "      <td>0.757718</td>\n",
       "      <td>0.758941</td>\n",
       "      <td>0.0</td>\n",
       "      <td>0.756727</td>\n",
       "      <td>1.0</td>\n",
       "    </tr>\n",
       "    <tr>\n",
       "      <th>2018-01-01 00:05:00</th>\n",
       "      <td>0.752214</td>\n",
       "      <td>0.747103</td>\n",
       "      <td>0.754848</td>\n",
       "      <td>0.756250</td>\n",
       "      <td>0.0</td>\n",
       "      <td>0.754659</td>\n",
       "      <td>0.0</td>\n",
       "    </tr>\n",
       "    <tr>\n",
       "      <th>2018-01-01 00:10:00</th>\n",
       "      <td>0.747103</td>\n",
       "      <td>0.745108</td>\n",
       "      <td>0.746482</td>\n",
       "      <td>0.747397</td>\n",
       "      <td>0.0</td>\n",
       "      <td>0.748567</td>\n",
       "      <td>1.0</td>\n",
       "    </tr>\n",
       "    <tr>\n",
       "      <th>2018-01-01 00:15:00</th>\n",
       "      <td>0.745108</td>\n",
       "      <td>0.744933</td>\n",
       "      <td>0.746097</td>\n",
       "      <td>0.749947</td>\n",
       "      <td>0.0</td>\n",
       "      <td>0.748559</td>\n",
       "      <td>0.0</td>\n",
       "    </tr>\n",
       "    <tr>\n",
       "      <th>2018-01-01 00:20:00</th>\n",
       "      <td>0.744933</td>\n",
       "      <td>0.740242</td>\n",
       "      <td>0.744732</td>\n",
       "      <td>0.741803</td>\n",
       "      <td>0.0</td>\n",
       "      <td>0.744967</td>\n",
       "      <td>1.0</td>\n",
       "    </tr>\n",
       "  </tbody>\n",
       "</table>\n",
       "</div>"
      ],
      "text/plain": [
       "                         Open     Close      High       Low    Y      Mean  \\\n",
       "Date                                                                         \n",
       "2018-01-01 00:00:00  0.749799  0.752214  0.757718  0.758941  0.0  0.756727   \n",
       "2018-01-01 00:05:00  0.752214  0.747103  0.754848  0.756250  0.0  0.754659   \n",
       "2018-01-01 00:10:00  0.747103  0.745108  0.746482  0.747397  0.0  0.748567   \n",
       "2018-01-01 00:15:00  0.745108  0.744933  0.746097  0.749947  0.0  0.748559   \n",
       "2018-01-01 00:20:00  0.744933  0.740242  0.744732  0.741803  0.0  0.744967   \n",
       "\n",
       "                     Prediction  \n",
       "Date                             \n",
       "2018-01-01 00:00:00         1.0  \n",
       "2018-01-01 00:05:00         0.0  \n",
       "2018-01-01 00:10:00         1.0  \n",
       "2018-01-01 00:15:00         0.0  \n",
       "2018-01-01 00:20:00         1.0  "
      ]
     },
     "execution_count": 34,
     "metadata": {},
     "output_type": "execute_result"
    }
   ],
   "source": [
    "train.head()"
   ]
  },
  {
   "cell_type": "code",
   "execution_count": 36,
   "metadata": {},
   "outputs": [],
   "source": [
    "X_train = train.drop('Prediction', axis = 1)\n",
    "y_train = train['Prediction']\n",
    "X_val = val.drop('Prediction', axis = 1)\n",
    "y_val = val['Prediction']\n",
    "X_test = test.drop('Prediction', axis = 1)\n",
    "y_test = test['Prediction']"
   ]
  },
  {
   "cell_type": "markdown",
   "metadata": {},
   "source": [
    "# Logistic Regression"
   ]
  },
  {
   "cell_type": "code",
   "execution_count": 74,
   "metadata": {},
   "outputs": [
    {
     "data": {
      "text/plain": [
       "LogisticRegression(C=1.0, class_weight=None, dual=False, fit_intercept=True,\n",
       "          intercept_scaling=1, max_iter=100, multi_class='ovr', n_jobs=1,\n",
       "          penalty='l2', random_state=None, solver='liblinear', tol=0.0001,\n",
       "          verbose=0, warm_start=False)"
      ]
     },
     "execution_count": 74,
     "metadata": {},
     "output_type": "execute_result"
    }
   ],
   "source": [
    "log_clf = LogisticRegression()\n",
    "log_clf.fit(X_train,y_train)"
   ]
  },
  {
   "cell_type": "code",
   "execution_count": 77,
   "metadata": {},
   "outputs": [
    {
     "name": "stdout",
     "output_type": "stream",
     "text": [
      "Training Accuracy: 54.43%\n"
     ]
    }
   ],
   "source": [
    "#Training Accuracy\n",
    "log_training_accuracy = log_clf.score(X_train, y_train)\n",
    "print('Training Accuracy: %.2f%%' % (log_training_accuracy*100.0))"
   ]
  },
  {
   "cell_type": "code",
   "execution_count": 78,
   "metadata": {},
   "outputs": [
    {
     "name": "stdout",
     "output_type": "stream",
     "text": [
      "Validation Accuracy: 51.37%\n"
     ]
    }
   ],
   "source": [
    "#Validation Accuracy\n",
    "log_validation_accuracy = log_clf.score(X_val, y_val)\n",
    "print('Validation Accuracy: %.2f%%' % (log_validation_accuracy*100.0))"
   ]
  },
  {
   "cell_type": "code",
   "execution_count": 85,
   "metadata": {},
   "outputs": [
    {
     "name": "stdout",
     "output_type": "stream",
     "text": [
      "Validation Accuracy: 51.29%\n"
     ]
    }
   ],
   "source": [
    "#Testing Accuracy\n",
    "log_validation_accuracy = log_clf.score(X_test, y_test)\n",
    "print('Validation Accuracy: %.2f%%' % (log_validation_accuracy*100.0))"
   ]
  },
  {
   "cell_type": "markdown",
   "metadata": {},
   "source": [
    "# Random Forrest Classifier"
   ]
  },
  {
   "cell_type": "code",
   "execution_count": 38,
   "metadata": {},
   "outputs": [
    {
     "name": "stdout",
     "output_type": "stream",
     "text": [
      "Fitting 3 folds for each of 20 candidates, totalling 60 fits\n",
      "[CV] n_estimators=216, max_features=sqrt, max_depth=65, criterion=entropy \n",
      "[CV] n_estimators=216, max_features=sqrt, max_depth=65, criterion=entropy \n",
      "[CV]  n_estimators=216, max_features=sqrt, max_depth=65, criterion=entropy, total= 1.3min\n",
      "[CV] n_estimators=216, max_features=sqrt, max_depth=65, criterion=entropy \n",
      "[CV]  n_estimators=216, max_features=sqrt, max_depth=65, criterion=entropy, total= 2.1min\n",
      "[CV] n_estimators=222, max_features=sqrt, max_depth=90, criterion=gini \n",
      "[CV]  n_estimators=222, max_features=sqrt, max_depth=90, criterion=gini, total= 1.4min\n",
      "[CV] n_estimators=222, max_features=sqrt, max_depth=90, criterion=gini \n",
      "[CV]  n_estimators=216, max_features=sqrt, max_depth=65, criterion=entropy, total= 2.6min\n",
      "[CV] n_estimators=222, max_features=sqrt, max_depth=90, criterion=gini \n",
      "[CV]  n_estimators=222, max_features=sqrt, max_depth=90, criterion=gini, total= 1.8min\n",
      "[CV] n_estimators=222, max_features=sqrt, max_depth=85, criterion=gini \n",
      "[CV]  n_estimators=222, max_features=sqrt, max_depth=90, criterion=gini, total= 2.1min\n",
      "[CV] n_estimators=222, max_features=sqrt, max_depth=85, criterion=gini \n",
      "[CV]  n_estimators=222, max_features=sqrt, max_depth=85, criterion=gini, total= 1.1min\n",
      "[CV] n_estimators=222, max_features=sqrt, max_depth=85, criterion=gini \n",
      "[CV]  n_estimators=222, max_features=sqrt, max_depth=85, criterion=gini, total= 1.7min\n",
      "[CV] n_estimators=238, max_features=sqrt, max_depth=55, criterion=gini \n",
      "[CV]  n_estimators=222, max_features=sqrt, max_depth=85, criterion=gini, total= 1.9min\n",
      "[CV] n_estimators=238, max_features=sqrt, max_depth=55, criterion=gini \n",
      "[CV]  n_estimators=238, max_features=sqrt, max_depth=55, criterion=gini, total= 1.2min\n",
      "[CV] n_estimators=238, max_features=sqrt, max_depth=55, criterion=gini \n",
      "[CV]  n_estimators=238, max_features=sqrt, max_depth=55, criterion=gini, total= 1.6min\n",
      "[CV] n_estimators=250, max_features=sqrt, max_depth=85, criterion=gini \n",
      "[CV]  n_estimators=238, max_features=sqrt, max_depth=55, criterion=gini, total= 1.8min\n",
      "[CV] n_estimators=250, max_features=sqrt, max_depth=85, criterion=gini \n",
      "[CV]  n_estimators=250, max_features=sqrt, max_depth=85, criterion=gini, total= 1.2min\n",
      "[CV] n_estimators=250, max_features=sqrt, max_depth=85, criterion=gini \n",
      "[CV]  n_estimators=250, max_features=sqrt, max_depth=85, criterion=gini, total= 1.9min\n",
      "[CV] n_estimators=211, max_features=sqrt, max_depth=90, criterion=entropy \n",
      "[CV]  n_estimators=250, max_features=sqrt, max_depth=85, criterion=gini, total= 2.1min\n",
      "[CV] n_estimators=211, max_features=sqrt, max_depth=90, criterion=entropy \n",
      "[CV]  n_estimators=211, max_features=sqrt, max_depth=90, criterion=entropy, total= 1.3min\n",
      "[CV] n_estimators=211, max_features=sqrt, max_depth=90, criterion=entropy \n",
      "[CV]  n_estimators=211, max_features=sqrt, max_depth=90, criterion=entropy, total= 2.1min\n",
      "[CV] n_estimators=244, max_features=auto, max_depth=55, criterion=gini \n",
      "[CV]  n_estimators=211, max_features=sqrt, max_depth=90, criterion=entropy, total= 2.3min\n",
      "[CV] n_estimators=244, max_features=auto, max_depth=55, criterion=gini \n",
      "[CV]  n_estimators=244, max_features=auto, max_depth=55, criterion=gini, total= 1.2min\n",
      "[CV] n_estimators=244, max_features=auto, max_depth=55, criterion=gini \n",
      "[CV]  n_estimators=244, max_features=auto, max_depth=55, criterion=gini, total= 1.7min\n",
      "[CV] n_estimators=227, max_features=sqrt, max_depth=80, criterion=gini \n",
      "[CV]  n_estimators=244, max_features=auto, max_depth=55, criterion=gini, total= 1.8min\n",
      "[CV] n_estimators=227, max_features=sqrt, max_depth=80, criterion=gini \n",
      "[CV]  n_estimators=227, max_features=sqrt, max_depth=80, criterion=gini, total= 1.1min\n",
      "[CV] n_estimators=227, max_features=sqrt, max_depth=80, criterion=gini \n",
      "[CV]  n_estimators=227, max_features=sqrt, max_depth=80, criterion=gini, total= 1.6min\n",
      "[CV] n_estimators=238, max_features=sqrt, max_depth=65, criterion=entropy \n",
      "[CV]  n_estimators=227, max_features=sqrt, max_depth=80, criterion=gini, total= 1.8min\n",
      "[CV] n_estimators=238, max_features=sqrt, max_depth=65, criterion=entropy \n",
      "[CV]  n_estimators=238, max_features=sqrt, max_depth=65, criterion=entropy, total= 1.4min\n",
      "[CV] n_estimators=238, max_features=sqrt, max_depth=65, criterion=entropy \n",
      "[CV]  n_estimators=238, max_features=sqrt, max_depth=65, criterion=entropy, total= 2.2min\n",
      "[CV] n_estimators=211, max_features=auto, max_depth=100, criterion=gini \n",
      "[CV]  n_estimators=238, max_features=sqrt, max_depth=65, criterion=entropy, total= 2.4min\n",
      "[CV] n_estimators=211, max_features=auto, max_depth=100, criterion=gini \n",
      "[CV]  n_estimators=211, max_features=auto, max_depth=100, criterion=gini, total=  58.3s\n",
      "[CV] n_estimators=211, max_features=auto, max_depth=100, criterion=gini \n",
      "[CV]  n_estimators=211, max_features=auto, max_depth=100, criterion=gini, total= 1.5min\n",
      "[CV] n_estimators=250, max_features=auto, max_depth=50, criterion=entropy \n",
      "[CV]  n_estimators=211, max_features=auto, max_depth=100, criterion=gini, total= 1.7min\n",
      "[CV] n_estimators=250, max_features=auto, max_depth=50, criterion=entropy \n",
      "[CV]  n_estimators=250, max_features=auto, max_depth=50, criterion=entropy, total= 1.4min\n",
      "[CV] n_estimators=250, max_features=auto, max_depth=50, criterion=entropy \n",
      "[CV]  n_estimators=250, max_features=auto, max_depth=50, criterion=entropy, total= 2.1min\n",
      "[CV] n_estimators=205, max_features=auto, max_depth=60, criterion=gini \n",
      "[CV]  n_estimators=205, max_features=auto, max_depth=60, criterion=gini, total= 1.0min\n",
      "[CV] n_estimators=205, max_features=auto, max_depth=60, criterion=gini \n",
      "[CV]  n_estimators=250, max_features=auto, max_depth=50, criterion=entropy, total= 2.3min\n",
      "[CV] n_estimators=205, max_features=auto, max_depth=60, criterion=gini \n",
      "[CV]  n_estimators=205, max_features=auto, max_depth=60, criterion=gini, total= 1.4min\n",
      "[CV] n_estimators=216, max_features=sqrt, max_depth=95, criterion=gini \n",
      "[CV]  n_estimators=205, max_features=auto, max_depth=60, criterion=gini, total= 1.5min\n",
      "[CV] n_estimators=216, max_features=sqrt, max_depth=95, criterion=gini \n",
      "[CV]  n_estimators=216, max_features=sqrt, max_depth=95, criterion=gini, total= 1.0min\n"
     ]
    },
    {
     "name": "stderr",
     "output_type": "stream",
     "text": [
      "[Parallel(n_jobs=2)]: Done  37 tasks      | elapsed: 33.2min\n"
     ]
    },
    {
     "name": "stdout",
     "output_type": "stream",
     "text": [
      "[CV] n_estimators=216, max_features=sqrt, max_depth=95, criterion=gini \n",
      "[CV]  n_estimators=216, max_features=sqrt, max_depth=95, criterion=gini, total= 1.6min\n",
      "[CV] n_estimators=244, max_features=sqrt, max_depth=60, criterion=gini \n",
      "[CV]  n_estimators=216, max_features=sqrt, max_depth=95, criterion=gini, total= 1.8min\n",
      "[CV] n_estimators=244, max_features=sqrt, max_depth=60, criterion=gini \n",
      "[CV]  n_estimators=244, max_features=sqrt, max_depth=60, criterion=gini, total= 1.2min\n",
      "[CV] n_estimators=244, max_features=sqrt, max_depth=60, criterion=gini \n",
      "[CV]  n_estimators=244, max_features=sqrt, max_depth=60, criterion=gini, total= 1.6min\n",
      "[CV] n_estimators=200, max_features=sqrt, max_depth=55, criterion=entropy \n",
      "[CV]  n_estimators=244, max_features=sqrt, max_depth=60, criterion=gini, total= 1.7min\n",
      "[CV] n_estimators=200, max_features=sqrt, max_depth=55, criterion=entropy \n",
      "[CV]  n_estimators=200, max_features=sqrt, max_depth=55, criterion=entropy, total=  59.4s\n",
      "[CV] n_estimators=200, max_features=sqrt, max_depth=55, criterion=entropy \n",
      "[CV]  n_estimators=200, max_features=sqrt, max_depth=55, criterion=entropy, total= 1.5min\n",
      "[CV] n_estimators=216, max_features=sqrt, max_depth=70, criterion=entropy \n",
      "[CV]  n_estimators=200, max_features=sqrt, max_depth=55, criterion=entropy, total= 1.5min\n",
      "[CV] n_estimators=216, max_features=sqrt, max_depth=70, criterion=entropy \n",
      "[CV]  n_estimators=216, max_features=sqrt, max_depth=70, criterion=entropy, total= 1.1min\n",
      "[CV] n_estimators=216, max_features=sqrt, max_depth=70, criterion=entropy \n",
      "[CV]  n_estimators=216, max_features=sqrt, max_depth=70, criterion=entropy, total= 1.7min\n",
      "[CV] n_estimators=227, max_features=sqrt, max_depth=60, criterion=entropy \n",
      "[CV]  n_estimators=216, max_features=sqrt, max_depth=70, criterion=entropy, total= 1.8min\n",
      "[CV] n_estimators=227, max_features=sqrt, max_depth=60, criterion=entropy \n",
      "[CV]  n_estimators=227, max_features=sqrt, max_depth=60, criterion=entropy, total= 1.2min\n",
      "[CV] n_estimators=227, max_features=sqrt, max_depth=60, criterion=entropy \n",
      "[CV]  n_estimators=227, max_features=sqrt, max_depth=60, criterion=entropy, total= 1.9min\n",
      "[CV] n_estimators=216, max_features=auto, max_depth=95, criterion=gini \n",
      "[CV]  n_estimators=227, max_features=sqrt, max_depth=60, criterion=entropy, total= 2.2min\n",
      "[CV] n_estimators=216, max_features=auto, max_depth=95, criterion=gini \n",
      "[CV]  n_estimators=216, max_features=auto, max_depth=95, criterion=gini, total= 1.1min\n",
      "[CV] n_estimators=216, max_features=auto, max_depth=95, criterion=gini \n",
      "[CV]  n_estimators=216, max_features=auto, max_depth=95, criterion=gini, total= 1.7min\n",
      "[CV] n_estimators=216, max_features=sqrt, max_depth=55, criterion=entropy \n",
      "[CV]  n_estimators=216, max_features=auto, max_depth=95, criterion=gini, total= 2.0min\n",
      "[CV] n_estimators=216, max_features=sqrt, max_depth=55, criterion=entropy \n",
      "[CV]  n_estimators=216, max_features=sqrt, max_depth=55, criterion=entropy, total= 1.5min\n",
      "[CV] n_estimators=216, max_features=sqrt, max_depth=55, criterion=entropy \n",
      "[CV]  n_estimators=216, max_features=sqrt, max_depth=55, criterion=entropy, total= 2.0min\n",
      "[CV] n_estimators=216, max_features=auto, max_depth=100, criterion=entropy \n",
      "[CV]  n_estimators=216, max_features=sqrt, max_depth=55, criterion=entropy, total= 2.1min\n",
      "[CV] n_estimators=216, max_features=auto, max_depth=100, criterion=entropy \n",
      "[CV]  n_estimators=216, max_features=auto, max_depth=100, criterion=entropy, total= 1.4min\n",
      "[CV] n_estimators=216, max_features=auto, max_depth=100, criterion=entropy \n",
      "[CV]  n_estimators=216, max_features=auto, max_depth=100, criterion=entropy, total= 2.1min\n",
      "[CV]  n_estimators=216, max_features=auto, max_depth=100, criterion=entropy, total= 2.3min\n"
     ]
    },
    {
     "name": "stderr",
     "output_type": "stream",
     "text": [
      "[Parallel(n_jobs=2)]: Done  60 out of  60 | elapsed: 53.2min finished\n"
     ]
    },
    {
     "name": "stdout",
     "output_type": "stream",
     "text": [
      "Best accuracy: 0.490\n",
      "{'n_estimators': 250, 'max_features': 'auto', 'max_depth': 50, 'criterion': 'entropy'}\n"
     ]
    }
   ],
   "source": [
    "from sklearn.model_selection import RandomizedSearchCV\n",
    "\n",
    "rfc = RandomForestClassifier()\n",
    "\n",
    "# number of trees in random forest\n",
    "n_estimators = [int(x) for x in np.linspace(start = 200, stop = 250, num = 10)]\n",
    "# number of features at every split\n",
    "max_features = ['auto', 'sqrt']\n",
    "\n",
    "# max depth\n",
    "max_depth = [int(x) for x in np.linspace(50, 100, num = 11)]\n",
    "max_depth.append(None)\n",
    "# create random grid\n",
    "random_grid = {\n",
    " 'n_estimators': n_estimators,\n",
    " 'criterion': ['entropy', 'gini'],\n",
    " 'max_features': max_features,\n",
    " 'max_depth': max_depth\n",
    " }\n",
    "# Random search of parameters\n",
    "rfc_random = RandomizedSearchCV(estimator = rfc, scoring = 'accuracy', param_distributions = random_grid, n_iter = 20, cv = 3, verbose=2, random_state=42, n_jobs = 2)\n",
    "# Fit the model\n",
    "rfc_random.fit(X_train, y_train)\n",
    "\n",
    "# Best accuracy\n",
    "print('Best accuracy: %.3f' % rfc_random.best_score_)\n",
    "\n",
    "# print results\n",
    "print(rfc_random.best_params_)"
   ]
  },
  {
   "cell_type": "markdown",
   "metadata": {},
   "source": [
    "# Random Forrest Classifier"
   ]
  },
  {
   "cell_type": "code",
   "execution_count": 39,
   "metadata": {
    "scrolled": true
   },
   "outputs": [
    {
     "name": "stdout",
     "output_type": "stream",
     "text": [
      "Accuracy is:  50.18 %\n"
     ]
    }
   ],
   "source": [
    "classifier = RandomForestClassifier(n_estimators = 200,random_state = 101)\n",
    "classifier.fit(X_train,y_train)\n",
    "accuracy = classifier.score(X_val,y_val)\n",
    "accuracy = accuracy*100\n",
    "accuracy = float('{0:.2f}'.format(accuracy))\n",
    "print ('Accuracy is: ',accuracy,'%')"
   ]
  },
  {
   "cell_type": "code",
   "execution_count": 60,
   "metadata": {},
   "outputs": [
    {
     "data": {
      "text/plain": [
       "RandomForestClassifier(bootstrap=True, class_weight=None, criterion='gini',\n",
       "            max_depth=None, max_features='auto', max_leaf_nodes=None,\n",
       "            min_impurity_decrease=0.0, min_impurity_split=None,\n",
       "            min_samples_leaf=1, min_samples_split=2,\n",
       "            min_weight_fraction_leaf=0.0, n_estimators=200, n_jobs=1,\n",
       "            oob_score=False, random_state=101, verbose=0, warm_start=False)"
      ]
     },
     "execution_count": 60,
     "metadata": {},
     "output_type": "execute_result"
    }
   ],
   "source": [
    "classifier"
   ]
  },
  {
   "cell_type": "code",
   "execution_count": 73,
   "metadata": {},
   "outputs": [
    {
     "name": "stdout",
     "output_type": "stream",
     "text": [
      "Training Accuracy: 97.65%\n"
     ]
    }
   ],
   "source": [
    "#Training Accuracy\n",
    "forrest_training_accuracy = classifier.score(X_train, y_train)\n",
    "print('Training Accuracy: %.2f%%' % (forrest_training_accuracy*100.0))"
   ]
  },
  {
   "cell_type": "code",
   "execution_count": 82,
   "metadata": {
    "scrolled": false
   },
   "outputs": [
    {
     "name": "stdout",
     "output_type": "stream",
     "text": [
      "Validation Accuracy: 50.18%\n"
     ]
    }
   ],
   "source": [
    "#Validation Accuracy\n",
    "forrest_validation_accuracy = classifier.score(X_val, y_val)\n",
    "print('Validation Accuracy: %.2f%%' % (forrest_validation_accuracy*100.0))"
   ]
  },
  {
   "cell_type": "markdown",
   "metadata": {},
   "source": [
    "From the above training and validation metrics we can see that the model is overfitting the training data. This means that generalization cannot occur. We will now move into the hyperparameter tuning stage."
   ]
  },
  {
   "cell_type": "code",
   "execution_count": 84,
   "metadata": {},
   "outputs": [
    {
     "name": "stdout",
     "output_type": "stream",
     "text": [
      "Validation Accuracy: 50.36%\n"
     ]
    }
   ],
   "source": [
    "#Testing Accuracy\n",
    "forrest_validation_accuracy = classifier.score(X_test, y_test)\n",
    "print('Validation Accuracy: %.2f%%' % (forrest_validation_accuracy*100.0))"
   ]
  },
  {
   "cell_type": "markdown",
   "metadata": {},
   "source": [
    "# Adaboost Classifier"
   ]
  },
  {
   "cell_type": "code",
   "execution_count": 53,
   "metadata": {},
   "outputs": [],
   "source": [
    "adaboost_clf = AdaBoostClassifier()\n",
    "adaboost_mean_cv_score = np.mean(cross_val_score(adaboost_clf, X_train, y_train, cv=3))\n",
    "\n",
    "adaboost_param_grid = {\n",
    "    'n_estimators': [50, 100, 250],\n",
    "    'learning_rate': [1.0, 0.5, 0.1]\n",
    "}"
   ]
  },
  {
   "cell_type": "code",
   "execution_count": 54,
   "metadata": {},
   "outputs": [
    {
     "name": "stdout",
     "output_type": "stream",
     "text": [
      "Testing Accuracy: 51.94%\n",
      "\n",
      "Optimal Parameters: {'learning_rate': 0.1, 'n_estimators': 50}\n"
     ]
    }
   ],
   "source": [
    "adaboost_grid_search = GridSearchCV(adaboost_clf, adaboost_param_grid, cv=3)\n",
    "adaboost_grid_search.fit(X_train, y_train)\n",
    "\n",
    "print(\"Training Accuracy: {:.4}%\".format(adaboost_grid_search.best_score_ * 100))\n",
    "print(\"\")\n",
    "print(\"Optimal Parameters: {}\".format(adaboost_grid_search.best_params_))"
   ]
  },
  {
   "cell_type": "code",
   "execution_count": 55,
   "metadata": {
    "scrolled": true
   },
   "outputs": [
    {
     "data": {
      "text/plain": [
       "AdaBoostClassifier(algorithm='SAMME.R', base_estimator=None,\n",
       "          learning_rate=0.1, n_estimators=40, random_state=None)"
      ]
     },
     "execution_count": 55,
     "metadata": {},
     "output_type": "execute_result"
    }
   ],
   "source": [
    "ada_classifier = AdaBoostClassifier(n_estimators = 40, learning_rate = 0.1)\n",
    "ada_classifier.fit(X_train, y_train)"
   ]
  },
  {
   "cell_type": "code",
   "execution_count": 79,
   "metadata": {},
   "outputs": [
    {
     "name": "stdout",
     "output_type": "stream",
     "text": [
      "Training Accuracy: 54.43%\n"
     ]
    }
   ],
   "source": [
    "#Training Accuracy\n",
    "ada_training_accuracy = ada_classifier.score(X_train, y_train)\n",
    "print('Training Accuracy: %.2f%%' % (ada_training_accuracy*100.0))"
   ]
  },
  {
   "cell_type": "code",
   "execution_count": 80,
   "metadata": {},
   "outputs": [
    {
     "name": "stdout",
     "output_type": "stream",
     "text": [
      "Validation Accuracy: 51.36%\n"
     ]
    }
   ],
   "source": [
    "#Validation Accuracy\n",
    "ada_validation_accuracy = ada_classifier.score(X_val, y_val)\n",
    "print('Validation Accuracy: %.2f%%' % (ada_validation_accuracy*100.0))"
   ]
  },
  {
   "cell_type": "code",
   "execution_count": 81,
   "metadata": {},
   "outputs": [
    {
     "name": "stdout",
     "output_type": "stream",
     "text": [
      "Testing Accuracy: 51.29%\n"
     ]
    }
   ],
   "source": [
    "#Testing Accuracy\n",
    "ada_testing_accuracy = ada_classifier.score(X_test, y_test)\n",
    "print('Testing Accuracy: %.2f%%' % (ada_testing_accuracy*100.0))"
   ]
  },
  {
   "cell_type": "markdown",
   "metadata": {},
   "source": [
    "# XGBoost Classifier"
   ]
  },
  {
   "cell_type": "code",
   "execution_count": 66,
   "metadata": {},
   "outputs": [],
   "source": [
    "import xgboost as xgb"
   ]
  },
  {
   "cell_type": "code",
   "execution_count": 67,
   "metadata": {},
   "outputs": [],
   "source": [
    "param_grid = {\n",
    "    \"learning_rate\": [0.1],\n",
    "    'max_depth': [6, 15],\n",
    "    'min_child_weight': [10],\n",
    "    'subsample': [ 0.7],\n",
    "    'n_estimators': [5, 30, 100, 250],\n",
    "}"
   ]
  },
  {
   "cell_type": "code",
   "execution_count": 68,
   "metadata": {},
   "outputs": [
    {
     "name": "stderr",
     "output_type": "stream",
     "text": [
      "/Users/shachiakyaagba/anaconda3/lib/python3.6/site-packages/sklearn/preprocessing/label.py:151: DeprecationWarning: The truth value of an empty array is ambiguous. Returning False, but in future this will result in an error. Use `array.size > 0` to check that an array is not empty.\n",
      "  if diff:\n",
      "/Users/shachiakyaagba/anaconda3/lib/python3.6/site-packages/sklearn/preprocessing/label.py:151: DeprecationWarning: The truth value of an empty array is ambiguous. Returning False, but in future this will result in an error. Use `array.size > 0` to check that an array is not empty.\n",
      "  if diff:\n",
      "/Users/shachiakyaagba/anaconda3/lib/python3.6/site-packages/sklearn/preprocessing/label.py:151: DeprecationWarning: The truth value of an empty array is ambiguous. Returning False, but in future this will result in an error. Use `array.size > 0` to check that an array is not empty.\n",
      "  if diff:\n",
      "/Users/shachiakyaagba/anaconda3/lib/python3.6/site-packages/sklearn/preprocessing/label.py:151: DeprecationWarning: The truth value of an empty array is ambiguous. Returning False, but in future this will result in an error. Use `array.size > 0` to check that an array is not empty.\n",
      "  if diff:\n",
      "/Users/shachiakyaagba/anaconda3/lib/python3.6/site-packages/sklearn/preprocessing/label.py:151: DeprecationWarning: The truth value of an empty array is ambiguous. Returning False, but in future this will result in an error. Use `array.size > 0` to check that an array is not empty.\n",
      "  if diff:\n",
      "/Users/shachiakyaagba/anaconda3/lib/python3.6/site-packages/sklearn/preprocessing/label.py:151: DeprecationWarning: The truth value of an empty array is ambiguous. Returning False, but in future this will result in an error. Use `array.size > 0` to check that an array is not empty.\n",
      "  if diff:\n",
      "/Users/shachiakyaagba/anaconda3/lib/python3.6/site-packages/sklearn/preprocessing/label.py:151: DeprecationWarning: The truth value of an empty array is ambiguous. Returning False, but in future this will result in an error. Use `array.size > 0` to check that an array is not empty.\n",
      "  if diff:\n",
      "/Users/shachiakyaagba/anaconda3/lib/python3.6/site-packages/sklearn/preprocessing/label.py:151: DeprecationWarning: The truth value of an empty array is ambiguous. Returning False, but in future this will result in an error. Use `array.size > 0` to check that an array is not empty.\n",
      "  if diff:\n",
      "/Users/shachiakyaagba/anaconda3/lib/python3.6/site-packages/sklearn/preprocessing/label.py:151: DeprecationWarning: The truth value of an empty array is ambiguous. Returning False, but in future this will result in an error. Use `array.size > 0` to check that an array is not empty.\n",
      "  if diff:\n",
      "/Users/shachiakyaagba/anaconda3/lib/python3.6/site-packages/sklearn/preprocessing/label.py:151: DeprecationWarning: The truth value of an empty array is ambiguous. Returning False, but in future this will result in an error. Use `array.size > 0` to check that an array is not empty.\n",
      "  if diff:\n",
      "/Users/shachiakyaagba/anaconda3/lib/python3.6/site-packages/sklearn/preprocessing/label.py:151: DeprecationWarning: The truth value of an empty array is ambiguous. Returning False, but in future this will result in an error. Use `array.size > 0` to check that an array is not empty.\n",
      "  if diff:\n",
      "/Users/shachiakyaagba/anaconda3/lib/python3.6/site-packages/sklearn/preprocessing/label.py:151: DeprecationWarning: The truth value of an empty array is ambiguous. Returning False, but in future this will result in an error. Use `array.size > 0` to check that an array is not empty.\n",
      "  if diff:\n",
      "/Users/shachiakyaagba/anaconda3/lib/python3.6/site-packages/sklearn/preprocessing/label.py:151: DeprecationWarning: The truth value of an empty array is ambiguous. Returning False, but in future this will result in an error. Use `array.size > 0` to check that an array is not empty.\n",
      "  if diff:\n",
      "/Users/shachiakyaagba/anaconda3/lib/python3.6/site-packages/sklearn/preprocessing/label.py:151: DeprecationWarning: The truth value of an empty array is ambiguous. Returning False, but in future this will result in an error. Use `array.size > 0` to check that an array is not empty.\n",
      "  if diff:\n",
      "/Users/shachiakyaagba/anaconda3/lib/python3.6/site-packages/sklearn/preprocessing/label.py:151: DeprecationWarning: The truth value of an empty array is ambiguous. Returning False, but in future this will result in an error. Use `array.size > 0` to check that an array is not empty.\n",
      "  if diff:\n",
      "/Users/shachiakyaagba/anaconda3/lib/python3.6/site-packages/sklearn/preprocessing/label.py:151: DeprecationWarning: The truth value of an empty array is ambiguous. Returning False, but in future this will result in an error. Use `array.size > 0` to check that an array is not empty.\n",
      "  if diff:\n",
      "/Users/shachiakyaagba/anaconda3/lib/python3.6/site-packages/sklearn/preprocessing/label.py:151: DeprecationWarning: The truth value of an empty array is ambiguous. Returning False, but in future this will result in an error. Use `array.size > 0` to check that an array is not empty.\n",
      "  if diff:\n",
      "/Users/shachiakyaagba/anaconda3/lib/python3.6/site-packages/sklearn/preprocessing/label.py:151: DeprecationWarning: The truth value of an empty array is ambiguous. Returning False, but in future this will result in an error. Use `array.size > 0` to check that an array is not empty.\n",
      "  if diff:\n",
      "/Users/shachiakyaagba/anaconda3/lib/python3.6/site-packages/sklearn/preprocessing/label.py:151: DeprecationWarning: The truth value of an empty array is ambiguous. Returning False, but in future this will result in an error. Use `array.size > 0` to check that an array is not empty.\n",
      "  if diff:\n",
      "/Users/shachiakyaagba/anaconda3/lib/python3.6/site-packages/sklearn/preprocessing/label.py:151: DeprecationWarning: The truth value of an empty array is ambiguous. Returning False, but in future this will result in an error. Use `array.size > 0` to check that an array is not empty.\n",
      "  if diff:\n",
      "/Users/shachiakyaagba/anaconda3/lib/python3.6/site-packages/sklearn/preprocessing/label.py:151: DeprecationWarning: The truth value of an empty array is ambiguous. Returning False, but in future this will result in an error. Use `array.size > 0` to check that an array is not empty.\n",
      "  if diff:\n",
      "/Users/shachiakyaagba/anaconda3/lib/python3.6/site-packages/sklearn/preprocessing/label.py:151: DeprecationWarning: The truth value of an empty array is ambiguous. Returning False, but in future this will result in an error. Use `array.size > 0` to check that an array is not empty.\n",
      "  if diff:\n",
      "/Users/shachiakyaagba/anaconda3/lib/python3.6/site-packages/sklearn/preprocessing/label.py:151: DeprecationWarning: The truth value of an empty array is ambiguous. Returning False, but in future this will result in an error. Use `array.size > 0` to check that an array is not empty.\n",
      "  if diff:\n",
      "/Users/shachiakyaagba/anaconda3/lib/python3.6/site-packages/sklearn/preprocessing/label.py:151: DeprecationWarning: The truth value of an empty array is ambiguous. Returning False, but in future this will result in an error. Use `array.size > 0` to check that an array is not empty.\n",
      "  if diff:\n",
      "/Users/shachiakyaagba/anaconda3/lib/python3.6/site-packages/sklearn/preprocessing/label.py:151: DeprecationWarning: The truth value of an empty array is ambiguous. Returning False, but in future this will result in an error. Use `array.size > 0` to check that an array is not empty.\n",
      "  if diff:\n",
      "/Users/shachiakyaagba/anaconda3/lib/python3.6/site-packages/sklearn/preprocessing/label.py:151: DeprecationWarning: The truth value of an empty array is ambiguous. Returning False, but in future this will result in an error. Use `array.size > 0` to check that an array is not empty.\n",
      "  if diff:\n",
      "/Users/shachiakyaagba/anaconda3/lib/python3.6/site-packages/sklearn/preprocessing/label.py:151: DeprecationWarning: The truth value of an empty array is ambiguous. Returning False, but in future this will result in an error. Use `array.size > 0` to check that an array is not empty.\n",
      "  if diff:\n",
      "/Users/shachiakyaagba/anaconda3/lib/python3.6/site-packages/sklearn/preprocessing/label.py:151: DeprecationWarning: The truth value of an empty array is ambiguous. Returning False, but in future this will result in an error. Use `array.size > 0` to check that an array is not empty.\n",
      "  if diff:\n"
     ]
    },
    {
     "name": "stderr",
     "output_type": "stream",
     "text": [
      "/Users/shachiakyaagba/anaconda3/lib/python3.6/site-packages/sklearn/preprocessing/label.py:151: DeprecationWarning: The truth value of an empty array is ambiguous. Returning False, but in future this will result in an error. Use `array.size > 0` to check that an array is not empty.\n",
      "  if diff:\n",
      "/Users/shachiakyaagba/anaconda3/lib/python3.6/site-packages/sklearn/preprocessing/label.py:151: DeprecationWarning: The truth value of an empty array is ambiguous. Returning False, but in future this will result in an error. Use `array.size > 0` to check that an array is not empty.\n",
      "  if diff:\n",
      "/Users/shachiakyaagba/anaconda3/lib/python3.6/site-packages/sklearn/preprocessing/label.py:151: DeprecationWarning: The truth value of an empty array is ambiguous. Returning False, but in future this will result in an error. Use `array.size > 0` to check that an array is not empty.\n",
      "  if diff:\n",
      "/Users/shachiakyaagba/anaconda3/lib/python3.6/site-packages/sklearn/preprocessing/label.py:151: DeprecationWarning: The truth value of an empty array is ambiguous. Returning False, but in future this will result in an error. Use `array.size > 0` to check that an array is not empty.\n",
      "  if diff:\n",
      "/Users/shachiakyaagba/anaconda3/lib/python3.6/site-packages/sklearn/preprocessing/label.py:151: DeprecationWarning: The truth value of an empty array is ambiguous. Returning False, but in future this will result in an error. Use `array.size > 0` to check that an array is not empty.\n",
      "  if diff:\n",
      "/Users/shachiakyaagba/anaconda3/lib/python3.6/site-packages/sklearn/preprocessing/label.py:151: DeprecationWarning: The truth value of an empty array is ambiguous. Returning False, but in future this will result in an error. Use `array.size > 0` to check that an array is not empty.\n",
      "  if diff:\n",
      "/Users/shachiakyaagba/anaconda3/lib/python3.6/site-packages/sklearn/preprocessing/label.py:151: DeprecationWarning: The truth value of an empty array is ambiguous. Returning False, but in future this will result in an error. Use `array.size > 0` to check that an array is not empty.\n",
      "  if diff:\n",
      "/Users/shachiakyaagba/anaconda3/lib/python3.6/site-packages/sklearn/preprocessing/label.py:151: DeprecationWarning: The truth value of an empty array is ambiguous. Returning False, but in future this will result in an error. Use `array.size > 0` to check that an array is not empty.\n",
      "  if diff:\n",
      "/Users/shachiakyaagba/anaconda3/lib/python3.6/site-packages/sklearn/preprocessing/label.py:151: DeprecationWarning: The truth value of an empty array is ambiguous. Returning False, but in future this will result in an error. Use `array.size > 0` to check that an array is not empty.\n",
      "  if diff:\n",
      "/Users/shachiakyaagba/anaconda3/lib/python3.6/site-packages/sklearn/preprocessing/label.py:151: DeprecationWarning: The truth value of an empty array is ambiguous. Returning False, but in future this will result in an error. Use `array.size > 0` to check that an array is not empty.\n",
      "  if diff:\n",
      "/Users/shachiakyaagba/anaconda3/lib/python3.6/site-packages/sklearn/preprocessing/label.py:151: DeprecationWarning: The truth value of an empty array is ambiguous. Returning False, but in future this will result in an error. Use `array.size > 0` to check that an array is not empty.\n",
      "  if diff:\n",
      "/Users/shachiakyaagba/anaconda3/lib/python3.6/site-packages/sklearn/preprocessing/label.py:151: DeprecationWarning: The truth value of an empty array is ambiguous. Returning False, but in future this will result in an error. Use `array.size > 0` to check that an array is not empty.\n",
      "  if diff:\n",
      "/Users/shachiakyaagba/anaconda3/lib/python3.6/site-packages/sklearn/preprocessing/label.py:151: DeprecationWarning: The truth value of an empty array is ambiguous. Returning False, but in future this will result in an error. Use `array.size > 0` to check that an array is not empty.\n",
      "  if diff:\n",
      "/Users/shachiakyaagba/anaconda3/lib/python3.6/site-packages/sklearn/preprocessing/label.py:151: DeprecationWarning: The truth value of an empty array is ambiguous. Returning False, but in future this will result in an error. Use `array.size > 0` to check that an array is not empty.\n",
      "  if diff:\n",
      "/Users/shachiakyaagba/anaconda3/lib/python3.6/site-packages/sklearn/preprocessing/label.py:151: DeprecationWarning: The truth value of an empty array is ambiguous. Returning False, but in future this will result in an error. Use `array.size > 0` to check that an array is not empty.\n",
      "  if diff:\n",
      "/Users/shachiakyaagba/anaconda3/lib/python3.6/site-packages/sklearn/preprocessing/label.py:151: DeprecationWarning: The truth value of an empty array is ambiguous. Returning False, but in future this will result in an error. Use `array.size > 0` to check that an array is not empty.\n",
      "  if diff:\n",
      "/Users/shachiakyaagba/anaconda3/lib/python3.6/site-packages/sklearn/preprocessing/label.py:151: DeprecationWarning: The truth value of an empty array is ambiguous. Returning False, but in future this will result in an error. Use `array.size > 0` to check that an array is not empty.\n",
      "  if diff:\n",
      "/Users/shachiakyaagba/anaconda3/lib/python3.6/site-packages/sklearn/preprocessing/label.py:151: DeprecationWarning: The truth value of an empty array is ambiguous. Returning False, but in future this will result in an error. Use `array.size > 0` to check that an array is not empty.\n",
      "  if diff:\n",
      "/Users/shachiakyaagba/anaconda3/lib/python3.6/site-packages/sklearn/preprocessing/label.py:151: DeprecationWarning: The truth value of an empty array is ambiguous. Returning False, but in future this will result in an error. Use `array.size > 0` to check that an array is not empty.\n",
      "  if diff:\n",
      "/Users/shachiakyaagba/anaconda3/lib/python3.6/site-packages/sklearn/preprocessing/label.py:151: DeprecationWarning: The truth value of an empty array is ambiguous. Returning False, but in future this will result in an error. Use `array.size > 0` to check that an array is not empty.\n",
      "  if diff:\n"
     ]
    },
    {
     "name": "stdout",
     "output_type": "stream",
     "text": [
      "Grid Search found the following optimal parameters: \n",
      "learning_rate: 0.1\n",
      "max_depth: 6\n",
      "min_child_weight: 10\n",
      "n_estimators: 5\n",
      "subsample: 0.7\n",
      "\n",
      "Training Accuracy: 54.99%\n",
      "Validation accuracy: 51.34%\n"
     ]
    },
    {
     "name": "stderr",
     "output_type": "stream",
     "text": [
      "/Users/shachiakyaagba/anaconda3/lib/python3.6/site-packages/sklearn/preprocessing/label.py:151: DeprecationWarning: The truth value of an empty array is ambiguous. Returning False, but in future this will result in an error. Use `array.size > 0` to check that an array is not empty.\n",
      "  if diff:\n",
      "/Users/shachiakyaagba/anaconda3/lib/python3.6/site-packages/sklearn/preprocessing/label.py:151: DeprecationWarning: The truth value of an empty array is ambiguous. Returning False, but in future this will result in an error. Use `array.size > 0` to check that an array is not empty.\n",
      "  if diff:\n"
     ]
    }
   ],
   "source": [
    "clf = xgb.XGBClassifier()\n",
    "grid_clf = GridSearchCV(clf, param_grid, scoring='accuracy', cv=None, n_jobs=1)\n",
    "grid_clf.fit(X_train, y_train)\n",
    "\n",
    "best_parameters = grid_clf.best_params_\n",
    "\n",
    "print(\"Grid Search found the following optimal parameters: \")\n",
    "for param_name in sorted(best_parameters.keys()):\n",
    "    print(\"%s: %r\" % (param_name, best_parameters[param_name]))\n",
    "\n",
    "training_preds = grid_clf.predict(X_train)\n",
    "val_preds = grid_clf.predict(X_val)\n",
    "training_accuracy = accuracy_score(y_train, training_preds)\n",
    "val_accuracy = accuracy_score(y_val, val_preds)\n",
    "\n",
    "print(\"\")\n",
    "print(\"Training Accuracy: {:.4}%\".format(training_accuracy * 100))\n",
    "print(\"Validation accuracy: {:.4}%\".format(val_accuracy * 100))"
   ]
  },
  {
   "cell_type": "code",
   "execution_count": 87,
   "metadata": {},
   "outputs": [
    {
     "name": "stdout",
     "output_type": "stream",
     "text": [
      "Training Accuracy: 54.99%\n"
     ]
    },
    {
     "name": "stderr",
     "output_type": "stream",
     "text": [
      "/Users/shachiakyaagba/anaconda3/lib/python3.6/site-packages/sklearn/preprocessing/label.py:151: DeprecationWarning: The truth value of an empty array is ambiguous. Returning False, but in future this will result in an error. Use `array.size > 0` to check that an array is not empty.\n",
      "  if diff:\n"
     ]
    }
   ],
   "source": [
    "#Training Accuracy\n",
    "training_accuracy = grid_clf.score(X_train, y_train)\n",
    "print('Training Accuracy: %.2f%%' % (training_accuracy*100.0))"
   ]
  },
  {
   "cell_type": "code",
   "execution_count": 70,
   "metadata": {},
   "outputs": [
    {
     "name": "stdout",
     "output_type": "stream",
     "text": [
      "Validation Accuracy: 51.34%\n"
     ]
    },
    {
     "name": "stderr",
     "output_type": "stream",
     "text": [
      "/Users/shachiakyaagba/anaconda3/lib/python3.6/site-packages/sklearn/preprocessing/label.py:151: DeprecationWarning: The truth value of an empty array is ambiguous. Returning False, but in future this will result in an error. Use `array.size > 0` to check that an array is not empty.\n",
      "  if diff:\n"
     ]
    }
   ],
   "source": [
    "#Validation Accuracy\n",
    "validation_accuracy = grid_clf.score(X_val, y_val)\n",
    "print('Validation Accuracy: %.2f%%' % (validation_accuracy*100.0))"
   ]
  },
  {
   "cell_type": "code",
   "execution_count": 72,
   "metadata": {},
   "outputs": [
    {
     "name": "stdout",
     "output_type": "stream",
     "text": [
      "Testing Accuracy: 51.23%\n"
     ]
    },
    {
     "name": "stderr",
     "output_type": "stream",
     "text": [
      "/Users/shachiakyaagba/anaconda3/lib/python3.6/site-packages/sklearn/preprocessing/label.py:151: DeprecationWarning: The truth value of an empty array is ambiguous. Returning False, but in future this will result in an error. Use `array.size > 0` to check that an array is not empty.\n",
      "  if diff:\n"
     ]
    }
   ],
   "source": [
    "#Testing Accuracy\n",
    "testing_accuracy = grid_clf.score(X_test, y_test)\n",
    "print('Testing Accuracy: %.2f%%' % (testing_accuracy*100.0))"
   ]
  },
  {
   "cell_type": "code",
   "execution_count": null,
   "metadata": {},
   "outputs": [],
   "source": []
  }
 ],
 "metadata": {
  "kernelspec": {
   "display_name": "Python 3",
   "language": "python",
   "name": "python3"
  },
  "language_info": {
   "codemirror_mode": {
    "name": "ipython",
    "version": 3
   },
   "file_extension": ".py",
   "mimetype": "text/x-python",
   "name": "python",
   "nbconvert_exporter": "python",
   "pygments_lexer": "ipython3",
   "version": "3.6.5"
  }
 },
 "nbformat": 4,
 "nbformat_minor": 2
}
